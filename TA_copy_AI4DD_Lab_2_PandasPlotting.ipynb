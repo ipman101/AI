{
  "nbformat": 4,
  "nbformat_minor": 0,
  "metadata": {
    "colab": {
      "name": "TA_copy AI4DD_Lab_2_PandasPlotting.ipynb",
      "provenance": [],
      "include_colab_link": true
    },
    "kernelspec": {
      "name": "python3",
      "display_name": "Python 3"
    },
    "language_info": {
      "name": "python"
    }
  },
  "cells": [
    {
      "cell_type": "markdown",
      "metadata": {
        "id": "view-in-github",
        "colab_type": "text"
      },
      "source": [
        "<a href=\"https://colab.research.google.com/github/ipman101/AI/blob/main/TA_copy_AI4DD_Lab_2_PandasPlotting.ipynb\" target=\"_parent\"><img src=\"https://colab.research.google.com/assets/colab-badge.svg\" alt=\"Open In Colab\"/></a>"
      ]
    },
    {
      "cell_type": "markdown",
      "source": [
        "## 0. Functions"
      ],
      "metadata": {
        "id": "atM5u9UOzbuh"
      }
    },
    {
      "cell_type": "code",
      "source": [
        "def elaborate_element():\n",
        "  print(\"This is a line from a function\")\n",
        "\n",
        "elaborate_element()"
      ],
      "metadata": {
        "colab": {
          "base_uri": "https://localhost:8080/"
        },
        "id": "xeuWYdM-yzGJ",
        "outputId": "d1450e3d-0fc2-4c16-eacd-106b94d338d2"
      },
      "execution_count": null,
      "outputs": [
        {
          "output_type": "stream",
          "name": "stdout",
          "text": [
            "This is a line from a function\n"
          ]
        }
      ]
    },
    {
      "cell_type": "code",
      "source": [
        "def elaborate_element(elem_name, atomic_num):\n",
        "  print(f\"The element {elem_name} has the atomic number {atomic_num}.\")\n",
        "\n",
        "elaborate_element(\"H\", 1)\n",
        "elaborate_element(\"He\", 2)"
      ],
      "metadata": {
        "colab": {
          "base_uri": "https://localhost:8080/"
        },
        "id": "cwkHHYpBSM57",
        "outputId": "38139195-975b-498e-e6d6-a42ba30fd3e3"
      },
      "execution_count": null,
      "outputs": [
        {
          "output_type": "stream",
          "name": "stdout",
          "text": [
            "The element H has the atomic number 1.\n",
            "The element He has the atomic number 2.\n"
          ]
        }
      ]
    },
    {
      "cell_type": "code",
      "source": [
        "def elaborate_element(elem_name, atomic_num):\n",
        "  print(f\"The element {elem_name} has the atomic number {atomic_num}.\")\n",
        "\n",
        "elaborate_element(elem_name = \"H\", atomic_num = 1)"
      ],
      "metadata": {
        "colab": {
          "base_uri": "https://localhost:8080/"
        },
        "id": "K7QsLGSlUM_G",
        "outputId": "59a9d3b0-7fac-48ac-a105-956421dbab36"
      },
      "execution_count": null,
      "outputs": [
        {
          "output_type": "stream",
          "name": "stdout",
          "text": [
            "The element H has the atomic number 1.\n"
          ]
        }
      ]
    },
    {
      "cell_type": "code",
      "source": [
        "def element_properties(*properties):\n",
        "  print(\"The properties of the element are:\")\n",
        "  for each_property in properties:\n",
        "    print(each_property)\n",
        "\n",
        "element_properties(1, \"H\", \"Non Metal\")"
      ],
      "metadata": {
        "colab": {
          "base_uri": "https://localhost:8080/"
        },
        "id": "t3uYYUHlUllc",
        "outputId": "1dada181-039f-4dd0-de28-43688c4cbe8c"
      },
      "execution_count": null,
      "outputs": [
        {
          "output_type": "stream",
          "name": "stdout",
          "text": [
            "The properties of the element are:\n",
            "1\n",
            "H\n",
            "Non Metal\n"
          ]
        }
      ]
    },
    {
      "cell_type": "code",
      "source": [
        "# Task: \n",
        "\n",
        "\"\"\"\n",
        "\n",
        "Write a function named \"calculator\" that takes in 2 numbers and an operation as a string, and returns the result. \n",
        "Eg:\n",
        "\n",
        "a = calculator(1,2,\"add\")\n",
        "b = calculator(3,2,\"subtract\")\n",
        "c = calculator(3,2,\"multiply\")\n",
        "d = calculator(3,2,\"divide\")\n",
        "\n",
        "\"\"\""
      ],
      "metadata": {
        "id": "PZhc5HKduOcw",
        "colab": {
          "base_uri": "https://localhost:8080/",
          "height": 53
        },
        "outputId": "dae61b3c-f527-4cfe-9a4d-979237567c86"
      },
      "execution_count": null,
      "outputs": [
        {
          "output_type": "execute_result",
          "data": {
            "text/plain": [
              "'\\n\\nWrite a function named \"calculator\" that takes in 2 numbers and an operation as a string, and returns the result. \\nEg:\\n\\na = calculator(1,2,\"add\")\\nb = calculator(3,2,\"subtract\")\\nc = calculator(3,2,\"multiply\")\\nd = calculator(3,2,\"divide\")\\n\\n'"
            ],
            "application/vnd.google.colaboratory.intrinsic+json": {
              "type": "string"
            }
          },
          "metadata": {},
          "execution_count": 50
        }
      ]
    },
    {
      "cell_type": "code",
      "source": [
        "# Task: \n",
        "\n",
        "\"\"\"\n",
        "\n",
        "Write a function that takes in a number and returns a factorial of the number.\n",
        "Eg:\n",
        "\n",
        "result = factorial(5)\n",
        "\n",
        "Output: 120 (1*2*3*4*5)\n",
        "\n",
        "\"\"\""
      ],
      "metadata": {
        "id": "C0X0A0WIKbG7",
        "colab": {
          "base_uri": "https://localhost:8080/",
          "height": 53
        },
        "outputId": "db04ecac-ba17-4721-8074-e75fe1e8a202"
      },
      "execution_count": null,
      "outputs": [
        {
          "output_type": "execute_result",
          "data": {
            "text/plain": [
              "'\\n\\nWrite a function that takes in a number and returns a factorial of the number.\\nEg:\\n\\nresult = factorial(5)\\n\\nOutput: 120 (1*2*3*4*5)\\n\\n'"
            ],
            "application/vnd.google.colaboratory.intrinsic+json": {
              "type": "string"
            }
          },
          "metadata": {},
          "execution_count": 51
        }
      ]
    },
    {
      "cell_type": "markdown",
      "source": [
        "### Variable Scopes"
      ],
      "metadata": {
        "id": "Mx3hOrXLG5CS"
      }
    },
    {
      "cell_type": "code",
      "source": [
        "x = 300\n",
        "\n",
        "def myfunc():\n",
        "  x = 200\n",
        "  print(x)\n",
        "\n",
        "myfunc()\n",
        "\n",
        "print(x)"
      ],
      "metadata": {
        "colab": {
          "base_uri": "https://localhost:8080/"
        },
        "id": "VA2MqenQFQtb",
        "outputId": "aca308d5-e583-4862-b062-b387ccbdf51a"
      },
      "execution_count": null,
      "outputs": [
        {
          "output_type": "stream",
          "name": "stdout",
          "text": [
            "200\n",
            "300\n"
          ]
        }
      ]
    },
    {
      "cell_type": "code",
      "source": [
        "def myfunc():\n",
        "  global x\n",
        "  x = 500\n",
        "\n",
        "myfunc()\n",
        "\n",
        "print(x)"
      ],
      "metadata": {
        "colab": {
          "base_uri": "https://localhost:8080/"
        },
        "id": "ofZd44_DHDV6",
        "outputId": "ec25fe9c-52d3-45ad-daaf-22e706174347"
      },
      "execution_count": null,
      "outputs": [
        {
          "output_type": "stream",
          "name": "stdout",
          "text": [
            "500\n"
          ]
        }
      ]
    },
    {
      "cell_type": "markdown",
      "source": [
        "## 1. Introduction to Exploratory Data Analysis"
      ],
      "metadata": {
        "id": "yGC5EN_6KOFU"
      }
    },
    {
      "cell_type": "markdown",
      "source": [
        "**What is Exploratory Data Analysis ?**\n",
        "\n",
        "Exploratory Data Analysis or (EDA) is understanding the data sets by summarizing their main characteristics often plotting them visually. This step is very important especially when we arrive at modeling the data in order to apply Machine learning. Plotting in EDA consists of Histograms, Box plot, Scatter plot and many more. It often takes much time to explore the data. Through the process of EDA, we can ask to define the problem statement or definition on our data set which is very important."
      ],
      "metadata": {
        "id": "qJ8xPpUJKQx3"
      }
    },
    {
      "cell_type": "markdown",
      "source": [
        "**How to perform Exploratory Data Analysis ?**\n",
        "\n",
        "This is one such question that everyone is keen on knowing the answer. Well, the answer is it depends on the data set that you are working. There is no one method or common methods in order to perform EDA, whereas in this tutorial you can understand some common methods and plots that would be used in the EDA process."
      ],
      "metadata": {
        "id": "7jbpWAr8KRu3"
      }
    },
    {
      "cell_type": "code",
      "execution_count": null,
      "metadata": {
        "id": "NWw3soGkeU2q"
      },
      "outputs": [],
      "source": [
        "import pandas as pd"
      ]
    },
    {
      "cell_type": "markdown",
      "source": [
        "## 2. Reading in and Selecting from DataFrames "
      ],
      "metadata": {
        "id": "o4lLhv5xTeXF"
      }
    },
    {
      "cell_type": "markdown",
      "source": [
        "Most datasets will be available in one of few formats:\n",
        "* CSV file (Comma Separated Values): These files mimic an excel spreadsheet, with the different rows on each separate line and the columns separated by commas or semicolons or other symbol on the same line. `pd.read_csv` can be used to read in the file.\n",
        "* JSON file (Java Script Object Notation): This format consists of object types (key value pairs) in curly braces, and arrays in square braces, and example is as follows: `{type:solvation_data, data:[{SoluteSMILES:\"CCC(C)N\", SolventSMILES:\"CCCCCCC\", \"DeltaG_Solv\":-3.34}, {SoluteSMILES:\"CC(CO)O\", SolventSMILES:\"CC(CO)O\", \"DeltaG_Solv\":-8.58}]}`. `pd.read_json` can be used to read in the file. "
      ],
      "metadata": {
        "id": "XxUaNPs64SSd"
      }
    },
    {
      "cell_type": "code",
      "source": [
        "df = pd.read_csv(\"solvatum.csv\",sep=\";\")"
      ],
      "metadata": {
        "id": "us_-5I4HTkKR"
      },
      "execution_count": null,
      "outputs": []
    },
    {
      "cell_type": "markdown",
      "source": [
        "To view the first few rows of the dataset, we can print it's head, by calling the `df.head(number_of_rows)` function."
      ],
      "metadata": {
        "id": "uxSPBNeP59SO"
      }
    },
    {
      "cell_type": "code",
      "source": [
        "df.head(10)"
      ],
      "metadata": {
        "colab": {
          "base_uri": "https://localhost:8080/",
          "height": 363
        },
        "id": "13lif-wQUvu0",
        "outputId": "cc7a72af-4bea-44fe-b99a-ec77775e155f"
      },
      "execution_count": null,
      "outputs": [
        {
          "output_type": "execute_result",
          "data": {
            "text/plain": [
              "             Solute                Solvent SoluteSMILES SolventSMILES  \\\n",
              "0  HYDROGEN SULFIDE     4-FORMYLMORPHOLINE            S   C1COCCN1C=O   \n",
              "1  HYDROGEN SULFIDE            ACETIC ACID            S       CC(=O)O   \n",
              "2  HYDROGEN SULFIDE                ACETONE            S       CC(=O)C   \n",
              "3  HYDROGEN SULFIDE           BROMOBENZENE            S  c1ccc(cc1)Br   \n",
              "4  HYDROGEN SULFIDE          CHLOROBENZENE            S  c1ccc(cc1)Cl   \n",
              "5  HYDROGEN SULFIDE      DIMETHYLFORMAMIDE            S      CN(C)C=O   \n",
              "6  HYDROGEN SULFIDE        ETHYLENE GLYCOL            S        C(CO)O   \n",
              "7  HYDROGEN SULFIDE    N-METHYLPYRROLIDONE            S    CN1CCCC1=O   \n",
              "8  HYDROGEN SULFIDE  N,N-DIMETHYLACETAMIDE            S   CC(=O)N(C)C   \n",
              "9  HYDROGEN SULFIDE            PHENYLAMINE            S   c1ccc(cc1)N   \n",
              "\n",
              "   DeltaGsolv  \n",
              "0       -1.81  \n",
              "1       -1.50  \n",
              "2       -1.90  \n",
              "3       -1.30  \n",
              "4       -1.50  \n",
              "5       -2.20  \n",
              "6       -0.99  \n",
              "7       -2.25  \n",
              "8       -2.25  \n",
              "9       -1.70  "
            ],
            "text/html": [
              "\n",
              "  <div id=\"df-060ce0b5-4ecc-4d0b-b265-5ccfbb488eac\">\n",
              "    <div class=\"colab-df-container\">\n",
              "      <div>\n",
              "<style scoped>\n",
              "    .dataframe tbody tr th:only-of-type {\n",
              "        vertical-align: middle;\n",
              "    }\n",
              "\n",
              "    .dataframe tbody tr th {\n",
              "        vertical-align: top;\n",
              "    }\n",
              "\n",
              "    .dataframe thead th {\n",
              "        text-align: right;\n",
              "    }\n",
              "</style>\n",
              "<table border=\"1\" class=\"dataframe\">\n",
              "  <thead>\n",
              "    <tr style=\"text-align: right;\">\n",
              "      <th></th>\n",
              "      <th>Solute</th>\n",
              "      <th>Solvent</th>\n",
              "      <th>SoluteSMILES</th>\n",
              "      <th>SolventSMILES</th>\n",
              "      <th>DeltaGsolv</th>\n",
              "    </tr>\n",
              "  </thead>\n",
              "  <tbody>\n",
              "    <tr>\n",
              "      <th>0</th>\n",
              "      <td>HYDROGEN SULFIDE</td>\n",
              "      <td>4-FORMYLMORPHOLINE</td>\n",
              "      <td>S</td>\n",
              "      <td>C1COCCN1C=O</td>\n",
              "      <td>-1.81</td>\n",
              "    </tr>\n",
              "    <tr>\n",
              "      <th>1</th>\n",
              "      <td>HYDROGEN SULFIDE</td>\n",
              "      <td>ACETIC ACID</td>\n",
              "      <td>S</td>\n",
              "      <td>CC(=O)O</td>\n",
              "      <td>-1.50</td>\n",
              "    </tr>\n",
              "    <tr>\n",
              "      <th>2</th>\n",
              "      <td>HYDROGEN SULFIDE</td>\n",
              "      <td>ACETONE</td>\n",
              "      <td>S</td>\n",
              "      <td>CC(=O)C</td>\n",
              "      <td>-1.90</td>\n",
              "    </tr>\n",
              "    <tr>\n",
              "      <th>3</th>\n",
              "      <td>HYDROGEN SULFIDE</td>\n",
              "      <td>BROMOBENZENE</td>\n",
              "      <td>S</td>\n",
              "      <td>c1ccc(cc1)Br</td>\n",
              "      <td>-1.30</td>\n",
              "    </tr>\n",
              "    <tr>\n",
              "      <th>4</th>\n",
              "      <td>HYDROGEN SULFIDE</td>\n",
              "      <td>CHLOROBENZENE</td>\n",
              "      <td>S</td>\n",
              "      <td>c1ccc(cc1)Cl</td>\n",
              "      <td>-1.50</td>\n",
              "    </tr>\n",
              "    <tr>\n",
              "      <th>5</th>\n",
              "      <td>HYDROGEN SULFIDE</td>\n",
              "      <td>DIMETHYLFORMAMIDE</td>\n",
              "      <td>S</td>\n",
              "      <td>CN(C)C=O</td>\n",
              "      <td>-2.20</td>\n",
              "    </tr>\n",
              "    <tr>\n",
              "      <th>6</th>\n",
              "      <td>HYDROGEN SULFIDE</td>\n",
              "      <td>ETHYLENE GLYCOL</td>\n",
              "      <td>S</td>\n",
              "      <td>C(CO)O</td>\n",
              "      <td>-0.99</td>\n",
              "    </tr>\n",
              "    <tr>\n",
              "      <th>7</th>\n",
              "      <td>HYDROGEN SULFIDE</td>\n",
              "      <td>N-METHYLPYRROLIDONE</td>\n",
              "      <td>S</td>\n",
              "      <td>CN1CCCC1=O</td>\n",
              "      <td>-2.25</td>\n",
              "    </tr>\n",
              "    <tr>\n",
              "      <th>8</th>\n",
              "      <td>HYDROGEN SULFIDE</td>\n",
              "      <td>N,N-DIMETHYLACETAMIDE</td>\n",
              "      <td>S</td>\n",
              "      <td>CC(=O)N(C)C</td>\n",
              "      <td>-2.25</td>\n",
              "    </tr>\n",
              "    <tr>\n",
              "      <th>9</th>\n",
              "      <td>HYDROGEN SULFIDE</td>\n",
              "      <td>PHENYLAMINE</td>\n",
              "      <td>S</td>\n",
              "      <td>c1ccc(cc1)N</td>\n",
              "      <td>-1.70</td>\n",
              "    </tr>\n",
              "  </tbody>\n",
              "</table>\n",
              "</div>\n",
              "      <button class=\"colab-df-convert\" onclick=\"convertToInteractive('df-060ce0b5-4ecc-4d0b-b265-5ccfbb488eac')\"\n",
              "              title=\"Convert this dataframe to an interactive table.\"\n",
              "              style=\"display:none;\">\n",
              "        \n",
              "  <svg xmlns=\"http://www.w3.org/2000/svg\" height=\"24px\"viewBox=\"0 0 24 24\"\n",
              "       width=\"24px\">\n",
              "    <path d=\"M0 0h24v24H0V0z\" fill=\"none\"/>\n",
              "    <path d=\"M18.56 5.44l.94 2.06.94-2.06 2.06-.94-2.06-.94-.94-2.06-.94 2.06-2.06.94zm-11 1L8.5 8.5l.94-2.06 2.06-.94-2.06-.94L8.5 2.5l-.94 2.06-2.06.94zm10 10l.94 2.06.94-2.06 2.06-.94-2.06-.94-.94-2.06-.94 2.06-2.06.94z\"/><path d=\"M17.41 7.96l-1.37-1.37c-.4-.4-.92-.59-1.43-.59-.52 0-1.04.2-1.43.59L10.3 9.45l-7.72 7.72c-.78.78-.78 2.05 0 2.83L4 21.41c.39.39.9.59 1.41.59.51 0 1.02-.2 1.41-.59l7.78-7.78 2.81-2.81c.8-.78.8-2.07 0-2.86zM5.41 20L4 18.59l7.72-7.72 1.47 1.35L5.41 20z\"/>\n",
              "  </svg>\n",
              "      </button>\n",
              "      \n",
              "  <style>\n",
              "    .colab-df-container {\n",
              "      display:flex;\n",
              "      flex-wrap:wrap;\n",
              "      gap: 12px;\n",
              "    }\n",
              "\n",
              "    .colab-df-convert {\n",
              "      background-color: #E8F0FE;\n",
              "      border: none;\n",
              "      border-radius: 50%;\n",
              "      cursor: pointer;\n",
              "      display: none;\n",
              "      fill: #1967D2;\n",
              "      height: 32px;\n",
              "      padding: 0 0 0 0;\n",
              "      width: 32px;\n",
              "    }\n",
              "\n",
              "    .colab-df-convert:hover {\n",
              "      background-color: #E2EBFA;\n",
              "      box-shadow: 0px 1px 2px rgba(60, 64, 67, 0.3), 0px 1px 3px 1px rgba(60, 64, 67, 0.15);\n",
              "      fill: #174EA6;\n",
              "    }\n",
              "\n",
              "    [theme=dark] .colab-df-convert {\n",
              "      background-color: #3B4455;\n",
              "      fill: #D2E3FC;\n",
              "    }\n",
              "\n",
              "    [theme=dark] .colab-df-convert:hover {\n",
              "      background-color: #434B5C;\n",
              "      box-shadow: 0px 1px 3px 1px rgba(0, 0, 0, 0.15);\n",
              "      filter: drop-shadow(0px 1px 2px rgba(0, 0, 0, 0.3));\n",
              "      fill: #FFFFFF;\n",
              "    }\n",
              "  </style>\n",
              "\n",
              "      <script>\n",
              "        const buttonEl =\n",
              "          document.querySelector('#df-060ce0b5-4ecc-4d0b-b265-5ccfbb488eac button.colab-df-convert');\n",
              "        buttonEl.style.display =\n",
              "          google.colab.kernel.accessAllowed ? 'block' : 'none';\n",
              "\n",
              "        async function convertToInteractive(key) {\n",
              "          const element = document.querySelector('#df-060ce0b5-4ecc-4d0b-b265-5ccfbb488eac');\n",
              "          const dataTable =\n",
              "            await google.colab.kernel.invokeFunction('convertToInteractive',\n",
              "                                                     [key], {});\n",
              "          if (!dataTable) return;\n",
              "\n",
              "          const docLinkHtml = 'Like what you see? Visit the ' +\n",
              "            '<a target=\"_blank\" href=https://colab.research.google.com/notebooks/data_table.ipynb>data table notebook</a>'\n",
              "            + ' to learn more about interactive tables.';\n",
              "          element.innerHTML = '';\n",
              "          dataTable['output_type'] = 'display_data';\n",
              "          await google.colab.output.renderOutput(dataTable, element);\n",
              "          const docLink = document.createElement('div');\n",
              "          docLink.innerHTML = docLinkHtml;\n",
              "          element.appendChild(docLink);\n",
              "        }\n",
              "      </script>\n",
              "    </div>\n",
              "  </div>\n",
              "  "
            ]
          },
          "metadata": {},
          "execution_count": 56
        }
      ]
    },
    {
      "cell_type": "markdown",
      "source": [
        "We can extract any subset of rows or columns from the dataset.\n",
        "* `df[names-of-columns]` is used for selecting columns, where we may provide a single column or an array thereof\n",
        "* `df.iloc[id-of-rows]` can be used to select some rows in particular when the row-id for those rows is known"
      ],
      "metadata": {
        "id": "omi3j1lW6qS4"
      }
    },
    {
      "cell_type": "code",
      "source": [
        "df[['Solute', 'Solvent','DeltaGsolv']] "
      ],
      "metadata": {
        "colab": {
          "base_uri": "https://localhost:8080/",
          "height": 424
        },
        "id": "eSmWgUbsar6z",
        "outputId": "145da8f3-1568-4413-a480-40a76ec60efd"
      },
      "execution_count": null,
      "outputs": [
        {
          "output_type": "execute_result",
          "data": {
            "text/plain": [
              "                Solute             Solvent  DeltaGsolv\n",
              "0     HYDROGEN SULFIDE  4-FORMYLMORPHOLINE       -1.81\n",
              "1     HYDROGEN SULFIDE         ACETIC ACID       -1.50\n",
              "2     HYDROGEN SULFIDE             ACETONE       -1.90\n",
              "3     HYDROGEN SULFIDE        BROMOBENZENE       -1.30\n",
              "4     HYDROGEN SULFIDE       CHLOROBENZENE       -1.50\n",
              "...                ...                 ...         ...\n",
              "6234   CARBON MONOXIDE      PROPYL ACETATE        0.83\n",
              "6235   CARBON MONOXIDE            PYRIDINE        1.27\n",
              "6236   CARBON MONOXIDE        TERT-BUTANOL        0.90\n",
              "6237   CARBON MONOXIDE             TOLUENE        1.01\n",
              "6238   CARBON MONOXIDE            UNDECANE        1.02\n",
              "\n",
              "[6239 rows x 3 columns]"
            ],
            "text/html": [
              "\n",
              "  <div id=\"df-b680a20c-2fb6-43e2-9877-ff91fd27b680\">\n",
              "    <div class=\"colab-df-container\">\n",
              "      <div>\n",
              "<style scoped>\n",
              "    .dataframe tbody tr th:only-of-type {\n",
              "        vertical-align: middle;\n",
              "    }\n",
              "\n",
              "    .dataframe tbody tr th {\n",
              "        vertical-align: top;\n",
              "    }\n",
              "\n",
              "    .dataframe thead th {\n",
              "        text-align: right;\n",
              "    }\n",
              "</style>\n",
              "<table border=\"1\" class=\"dataframe\">\n",
              "  <thead>\n",
              "    <tr style=\"text-align: right;\">\n",
              "      <th></th>\n",
              "      <th>Solute</th>\n",
              "      <th>Solvent</th>\n",
              "      <th>DeltaGsolv</th>\n",
              "    </tr>\n",
              "  </thead>\n",
              "  <tbody>\n",
              "    <tr>\n",
              "      <th>0</th>\n",
              "      <td>HYDROGEN SULFIDE</td>\n",
              "      <td>4-FORMYLMORPHOLINE</td>\n",
              "      <td>-1.81</td>\n",
              "    </tr>\n",
              "    <tr>\n",
              "      <th>1</th>\n",
              "      <td>HYDROGEN SULFIDE</td>\n",
              "      <td>ACETIC ACID</td>\n",
              "      <td>-1.50</td>\n",
              "    </tr>\n",
              "    <tr>\n",
              "      <th>2</th>\n",
              "      <td>HYDROGEN SULFIDE</td>\n",
              "      <td>ACETONE</td>\n",
              "      <td>-1.90</td>\n",
              "    </tr>\n",
              "    <tr>\n",
              "      <th>3</th>\n",
              "      <td>HYDROGEN SULFIDE</td>\n",
              "      <td>BROMOBENZENE</td>\n",
              "      <td>-1.30</td>\n",
              "    </tr>\n",
              "    <tr>\n",
              "      <th>4</th>\n",
              "      <td>HYDROGEN SULFIDE</td>\n",
              "      <td>CHLOROBENZENE</td>\n",
              "      <td>-1.50</td>\n",
              "    </tr>\n",
              "    <tr>\n",
              "      <th>...</th>\n",
              "      <td>...</td>\n",
              "      <td>...</td>\n",
              "      <td>...</td>\n",
              "    </tr>\n",
              "    <tr>\n",
              "      <th>6234</th>\n",
              "      <td>CARBON MONOXIDE</td>\n",
              "      <td>PROPYL ACETATE</td>\n",
              "      <td>0.83</td>\n",
              "    </tr>\n",
              "    <tr>\n",
              "      <th>6235</th>\n",
              "      <td>CARBON MONOXIDE</td>\n",
              "      <td>PYRIDINE</td>\n",
              "      <td>1.27</td>\n",
              "    </tr>\n",
              "    <tr>\n",
              "      <th>6236</th>\n",
              "      <td>CARBON MONOXIDE</td>\n",
              "      <td>TERT-BUTANOL</td>\n",
              "      <td>0.90</td>\n",
              "    </tr>\n",
              "    <tr>\n",
              "      <th>6237</th>\n",
              "      <td>CARBON MONOXIDE</td>\n",
              "      <td>TOLUENE</td>\n",
              "      <td>1.01</td>\n",
              "    </tr>\n",
              "    <tr>\n",
              "      <th>6238</th>\n",
              "      <td>CARBON MONOXIDE</td>\n",
              "      <td>UNDECANE</td>\n",
              "      <td>1.02</td>\n",
              "    </tr>\n",
              "  </tbody>\n",
              "</table>\n",
              "<p>6239 rows × 3 columns</p>\n",
              "</div>\n",
              "      <button class=\"colab-df-convert\" onclick=\"convertToInteractive('df-b680a20c-2fb6-43e2-9877-ff91fd27b680')\"\n",
              "              title=\"Convert this dataframe to an interactive table.\"\n",
              "              style=\"display:none;\">\n",
              "        \n",
              "  <svg xmlns=\"http://www.w3.org/2000/svg\" height=\"24px\"viewBox=\"0 0 24 24\"\n",
              "       width=\"24px\">\n",
              "    <path d=\"M0 0h24v24H0V0z\" fill=\"none\"/>\n",
              "    <path d=\"M18.56 5.44l.94 2.06.94-2.06 2.06-.94-2.06-.94-.94-2.06-.94 2.06-2.06.94zm-11 1L8.5 8.5l.94-2.06 2.06-.94-2.06-.94L8.5 2.5l-.94 2.06-2.06.94zm10 10l.94 2.06.94-2.06 2.06-.94-2.06-.94-.94-2.06-.94 2.06-2.06.94z\"/><path d=\"M17.41 7.96l-1.37-1.37c-.4-.4-.92-.59-1.43-.59-.52 0-1.04.2-1.43.59L10.3 9.45l-7.72 7.72c-.78.78-.78 2.05 0 2.83L4 21.41c.39.39.9.59 1.41.59.51 0 1.02-.2 1.41-.59l7.78-7.78 2.81-2.81c.8-.78.8-2.07 0-2.86zM5.41 20L4 18.59l7.72-7.72 1.47 1.35L5.41 20z\"/>\n",
              "  </svg>\n",
              "      </button>\n",
              "      \n",
              "  <style>\n",
              "    .colab-df-container {\n",
              "      display:flex;\n",
              "      flex-wrap:wrap;\n",
              "      gap: 12px;\n",
              "    }\n",
              "\n",
              "    .colab-df-convert {\n",
              "      background-color: #E8F0FE;\n",
              "      border: none;\n",
              "      border-radius: 50%;\n",
              "      cursor: pointer;\n",
              "      display: none;\n",
              "      fill: #1967D2;\n",
              "      height: 32px;\n",
              "      padding: 0 0 0 0;\n",
              "      width: 32px;\n",
              "    }\n",
              "\n",
              "    .colab-df-convert:hover {\n",
              "      background-color: #E2EBFA;\n",
              "      box-shadow: 0px 1px 2px rgba(60, 64, 67, 0.3), 0px 1px 3px 1px rgba(60, 64, 67, 0.15);\n",
              "      fill: #174EA6;\n",
              "    }\n",
              "\n",
              "    [theme=dark] .colab-df-convert {\n",
              "      background-color: #3B4455;\n",
              "      fill: #D2E3FC;\n",
              "    }\n",
              "\n",
              "    [theme=dark] .colab-df-convert:hover {\n",
              "      background-color: #434B5C;\n",
              "      box-shadow: 0px 1px 3px 1px rgba(0, 0, 0, 0.15);\n",
              "      filter: drop-shadow(0px 1px 2px rgba(0, 0, 0, 0.3));\n",
              "      fill: #FFFFFF;\n",
              "    }\n",
              "  </style>\n",
              "\n",
              "      <script>\n",
              "        const buttonEl =\n",
              "          document.querySelector('#df-b680a20c-2fb6-43e2-9877-ff91fd27b680 button.colab-df-convert');\n",
              "        buttonEl.style.display =\n",
              "          google.colab.kernel.accessAllowed ? 'block' : 'none';\n",
              "\n",
              "        async function convertToInteractive(key) {\n",
              "          const element = document.querySelector('#df-b680a20c-2fb6-43e2-9877-ff91fd27b680');\n",
              "          const dataTable =\n",
              "            await google.colab.kernel.invokeFunction('convertToInteractive',\n",
              "                                                     [key], {});\n",
              "          if (!dataTable) return;\n",
              "\n",
              "          const docLinkHtml = 'Like what you see? Visit the ' +\n",
              "            '<a target=\"_blank\" href=https://colab.research.google.com/notebooks/data_table.ipynb>data table notebook</a>'\n",
              "            + ' to learn more about interactive tables.';\n",
              "          element.innerHTML = '';\n",
              "          dataTable['output_type'] = 'display_data';\n",
              "          await google.colab.output.renderOutput(dataTable, element);\n",
              "          const docLink = document.createElement('div');\n",
              "          docLink.innerHTML = docLinkHtml;\n",
              "          element.appendChild(docLink);\n",
              "        }\n",
              "      </script>\n",
              "    </div>\n",
              "  </div>\n",
              "  "
            ]
          },
          "metadata": {},
          "execution_count": 57
        }
      ]
    },
    {
      "cell_type": "code",
      "source": [
        "df.iloc[10]"
      ],
      "metadata": {
        "colab": {
          "base_uri": "https://localhost:8080/"
        },
        "id": "wA6ICd5pa27H",
        "outputId": "39f5ddc0-a3c1-48b0-868f-74a5d2e6342a"
      },
      "execution_count": null,
      "outputs": [
        {
          "output_type": "execute_result",
          "data": {
            "text/plain": [
              "Solute              HYDROGEN SULFIDE\n",
              "Solvent          PROPYLENE CARBONATE\n",
              "SoluteSMILES                       S\n",
              "SolventSMILES           CC1COC(=O)O1\n",
              "DeltaGsolv                     -1.56\n",
              "Name: 10, dtype: object"
            ]
          },
          "metadata": {},
          "execution_count": 58
        }
      ]
    },
    {
      "cell_type": "markdown",
      "source": [
        "We can always convert a dataframe back to it's array representation, and manipulate it there. But it's idiomatic and efficient to do all dataprocessing in Pandas.\n",
        "\n",
        "Here we convert the whole dataframe into an array, and then the first 3 rows and the last column which represents the solvation free energies of the first three molecules."
      ],
      "metadata": {
        "id": "55NRvgaI79lu"
      }
    },
    {
      "cell_type": "code",
      "source": [
        "df.values"
      ],
      "metadata": {
        "colab": {
          "base_uri": "https://localhost:8080/"
        },
        "id": "1jNY2tOj8GcE",
        "outputId": "960360b7-4598-4af5-936e-5642c05dadf5"
      },
      "execution_count": null,
      "outputs": [
        {
          "output_type": "execute_result",
          "data": {
            "text/plain": [
              "array([['HYDROGEN SULFIDE', '4-FORMYLMORPHOLINE', 'S', 'C1COCCN1C=O',\n",
              "        -1.81],\n",
              "       ['HYDROGEN SULFIDE', 'ACETIC ACID', 'S', 'CC(=O)O', -1.5],\n",
              "       ['HYDROGEN SULFIDE', 'ACETONE', 'S', 'CC(=O)C', -1.9],\n",
              "       ...,\n",
              "       ['CARBON MONOXIDE', 'TERT-BUTANOL', '[C-]#[O+]', 'CC(C)(C)O', 0.9],\n",
              "       ['CARBON MONOXIDE', 'TOLUENE', '[C-]#[O+]', 'Cc1ccccc1', 1.01],\n",
              "       ['CARBON MONOXIDE', 'UNDECANE', '[C-]#[O+]', 'CCCCCCCCCCC', 1.02]],\n",
              "      dtype=object)"
            ]
          },
          "metadata": {},
          "execution_count": 59
        }
      ]
    },
    {
      "cell_type": "code",
      "source": [
        "df.values[:3, -1]"
      ],
      "metadata": {
        "colab": {
          "base_uri": "https://localhost:8080/"
        },
        "id": "M_ZfSQYg8Ieb",
        "outputId": "149582f1-9e82-4543-f924-ad8d5f13693c"
      },
      "execution_count": null,
      "outputs": [
        {
          "output_type": "execute_result",
          "data": {
            "text/plain": [
              "array([-1.81, -1.5, -1.9], dtype=object)"
            ]
          },
          "metadata": {},
          "execution_count": 60
        }
      ]
    },
    {
      "cell_type": "markdown",
      "source": [
        "**Exercise Questions:**\n",
        "* Print the element in the 23rd row of the dataset\n",
        "* Make a list of all the solvation free energy values as a list, and compute it's mean\n",
        "* Make a dataframe with just the smiles strings of solvents and solutes and the solvation free energies, i.e. remove the common names."
      ],
      "metadata": {
        "id": "uvXh1OCdwbIo"
      }
    },
    {
      "cell_type": "markdown",
      "source": [
        "## 3. Statistics on DataFrames"
      ],
      "metadata": {
        "id": "bmJY1G1Q8gTk"
      }
    },
    {
      "cell_type": "markdown",
      "source": [
        "For the many numerical quantities that exist in a dataframe, we might want to compute it's mean, median, mode, quartiles, and other statistical measures. Several inbuilt functions in pandas exist for there."
      ],
      "metadata": {
        "id": "IsWE51rs8oBD"
      }
    },
    {
      "cell_type": "markdown",
      "source": [
        "The catch all for any numerical column is called describe, which for each numerical data column prints it's unique values count, mean, standard deviation, and quartiles.\n",
        "\n",
        "This data is really useful when applied to features or outputs in estimating which features are high variance, which can be relied on significantly, etc. making this type of data analysis key in feature engineering. "
      ],
      "metadata": {
        "id": "EDcJcgRN89J-"
      }
    },
    {
      "cell_type": "code",
      "source": [
        "df.describe()"
      ],
      "metadata": {
        "colab": {
          "base_uri": "https://localhost:8080/",
          "height": 300
        },
        "id": "0RBH_X4P848x",
        "outputId": "1ce2b986-bfc4-4ae4-88e2-c87f81d3ae81"
      },
      "execution_count": null,
      "outputs": [
        {
          "output_type": "execute_result",
          "data": {
            "text/plain": [
              "        DeltaGsolv\n",
              "count  6239.000000\n",
              "mean     -3.831540\n",
              "std       2.278619\n",
              "min     -25.470000\n",
              "25%      -4.950000\n",
              "50%      -3.930000\n",
              "75%      -2.730000\n",
              "max       3.430000"
            ],
            "text/html": [
              "\n",
              "  <div id=\"df-780abaf6-5834-4754-83bb-172a54dd89ba\">\n",
              "    <div class=\"colab-df-container\">\n",
              "      <div>\n",
              "<style scoped>\n",
              "    .dataframe tbody tr th:only-of-type {\n",
              "        vertical-align: middle;\n",
              "    }\n",
              "\n",
              "    .dataframe tbody tr th {\n",
              "        vertical-align: top;\n",
              "    }\n",
              "\n",
              "    .dataframe thead th {\n",
              "        text-align: right;\n",
              "    }\n",
              "</style>\n",
              "<table border=\"1\" class=\"dataframe\">\n",
              "  <thead>\n",
              "    <tr style=\"text-align: right;\">\n",
              "      <th></th>\n",
              "      <th>DeltaGsolv</th>\n",
              "    </tr>\n",
              "  </thead>\n",
              "  <tbody>\n",
              "    <tr>\n",
              "      <th>count</th>\n",
              "      <td>6239.000000</td>\n",
              "    </tr>\n",
              "    <tr>\n",
              "      <th>mean</th>\n",
              "      <td>-3.831540</td>\n",
              "    </tr>\n",
              "    <tr>\n",
              "      <th>std</th>\n",
              "      <td>2.278619</td>\n",
              "    </tr>\n",
              "    <tr>\n",
              "      <th>min</th>\n",
              "      <td>-25.470000</td>\n",
              "    </tr>\n",
              "    <tr>\n",
              "      <th>25%</th>\n",
              "      <td>-4.950000</td>\n",
              "    </tr>\n",
              "    <tr>\n",
              "      <th>50%</th>\n",
              "      <td>-3.930000</td>\n",
              "    </tr>\n",
              "    <tr>\n",
              "      <th>75%</th>\n",
              "      <td>-2.730000</td>\n",
              "    </tr>\n",
              "    <tr>\n",
              "      <th>max</th>\n",
              "      <td>3.430000</td>\n",
              "    </tr>\n",
              "  </tbody>\n",
              "</table>\n",
              "</div>\n",
              "      <button class=\"colab-df-convert\" onclick=\"convertToInteractive('df-780abaf6-5834-4754-83bb-172a54dd89ba')\"\n",
              "              title=\"Convert this dataframe to an interactive table.\"\n",
              "              style=\"display:none;\">\n",
              "        \n",
              "  <svg xmlns=\"http://www.w3.org/2000/svg\" height=\"24px\"viewBox=\"0 0 24 24\"\n",
              "       width=\"24px\">\n",
              "    <path d=\"M0 0h24v24H0V0z\" fill=\"none\"/>\n",
              "    <path d=\"M18.56 5.44l.94 2.06.94-2.06 2.06-.94-2.06-.94-.94-2.06-.94 2.06-2.06.94zm-11 1L8.5 8.5l.94-2.06 2.06-.94-2.06-.94L8.5 2.5l-.94 2.06-2.06.94zm10 10l.94 2.06.94-2.06 2.06-.94-2.06-.94-.94-2.06-.94 2.06-2.06.94z\"/><path d=\"M17.41 7.96l-1.37-1.37c-.4-.4-.92-.59-1.43-.59-.52 0-1.04.2-1.43.59L10.3 9.45l-7.72 7.72c-.78.78-.78 2.05 0 2.83L4 21.41c.39.39.9.59 1.41.59.51 0 1.02-.2 1.41-.59l7.78-7.78 2.81-2.81c.8-.78.8-2.07 0-2.86zM5.41 20L4 18.59l7.72-7.72 1.47 1.35L5.41 20z\"/>\n",
              "  </svg>\n",
              "      </button>\n",
              "      \n",
              "  <style>\n",
              "    .colab-df-container {\n",
              "      display:flex;\n",
              "      flex-wrap:wrap;\n",
              "      gap: 12px;\n",
              "    }\n",
              "\n",
              "    .colab-df-convert {\n",
              "      background-color: #E8F0FE;\n",
              "      border: none;\n",
              "      border-radius: 50%;\n",
              "      cursor: pointer;\n",
              "      display: none;\n",
              "      fill: #1967D2;\n",
              "      height: 32px;\n",
              "      padding: 0 0 0 0;\n",
              "      width: 32px;\n",
              "    }\n",
              "\n",
              "    .colab-df-convert:hover {\n",
              "      background-color: #E2EBFA;\n",
              "      box-shadow: 0px 1px 2px rgba(60, 64, 67, 0.3), 0px 1px 3px 1px rgba(60, 64, 67, 0.15);\n",
              "      fill: #174EA6;\n",
              "    }\n",
              "\n",
              "    [theme=dark] .colab-df-convert {\n",
              "      background-color: #3B4455;\n",
              "      fill: #D2E3FC;\n",
              "    }\n",
              "\n",
              "    [theme=dark] .colab-df-convert:hover {\n",
              "      background-color: #434B5C;\n",
              "      box-shadow: 0px 1px 3px 1px rgba(0, 0, 0, 0.15);\n",
              "      filter: drop-shadow(0px 1px 2px rgba(0, 0, 0, 0.3));\n",
              "      fill: #FFFFFF;\n",
              "    }\n",
              "  </style>\n",
              "\n",
              "      <script>\n",
              "        const buttonEl =\n",
              "          document.querySelector('#df-780abaf6-5834-4754-83bb-172a54dd89ba button.colab-df-convert');\n",
              "        buttonEl.style.display =\n",
              "          google.colab.kernel.accessAllowed ? 'block' : 'none';\n",
              "\n",
              "        async function convertToInteractive(key) {\n",
              "          const element = document.querySelector('#df-780abaf6-5834-4754-83bb-172a54dd89ba');\n",
              "          const dataTable =\n",
              "            await google.colab.kernel.invokeFunction('convertToInteractive',\n",
              "                                                     [key], {});\n",
              "          if (!dataTable) return;\n",
              "\n",
              "          const docLinkHtml = 'Like what you see? Visit the ' +\n",
              "            '<a target=\"_blank\" href=https://colab.research.google.com/notebooks/data_table.ipynb>data table notebook</a>'\n",
              "            + ' to learn more about interactive tables.';\n",
              "          element.innerHTML = '';\n",
              "          dataTable['output_type'] = 'display_data';\n",
              "          await google.colab.output.renderOutput(dataTable, element);\n",
              "          const docLink = document.createElement('div');\n",
              "          docLink.innerHTML = docLinkHtml;\n",
              "          element.appendChild(docLink);\n",
              "        }\n",
              "      </script>\n",
              "    </div>\n",
              "  </div>\n",
              "  "
            ]
          },
          "metadata": {},
          "execution_count": 61
        }
      ]
    },
    {
      "cell_type": "code",
      "source": [
        "df.mean(numeric_only=True)"
      ],
      "metadata": {
        "colab": {
          "base_uri": "https://localhost:8080/"
        },
        "id": "DtbJuy8S9TZI",
        "outputId": "11a9ae86-e4a1-4580-ca8c-2e9fc3b7425c"
      },
      "execution_count": null,
      "outputs": [
        {
          "output_type": "execute_result",
          "data": {
            "text/plain": [
              "DeltaGsolv   -3.83154\n",
              "dtype: float64"
            ]
          },
          "metadata": {},
          "execution_count": 62
        }
      ]
    },
    {
      "cell_type": "code",
      "source": [
        "df.median(numeric_only=True)"
      ],
      "metadata": {
        "colab": {
          "base_uri": "https://localhost:8080/"
        },
        "id": "RzdIao1_9Zo9",
        "outputId": "bc8ca88c-12d5-46f5-eedb-1d759806bfb5"
      },
      "execution_count": null,
      "outputs": [
        {
          "output_type": "execute_result",
          "data": {
            "text/plain": [
              "DeltaGsolv   -3.93\n",
              "dtype: float64"
            ]
          },
          "metadata": {},
          "execution_count": 63
        }
      ]
    },
    {
      "cell_type": "code",
      "source": [
        "df[\"DeltaGsolv\"].max()"
      ],
      "metadata": {
        "colab": {
          "base_uri": "https://localhost:8080/"
        },
        "id": "uXxduODI9d1M",
        "outputId": "15f54dd5-d3b0-4402-ff1f-ec3ead55c9be"
      },
      "execution_count": null,
      "outputs": [
        {
          "output_type": "execute_result",
          "data": {
            "text/plain": [
              "3.43"
            ]
          },
          "metadata": {},
          "execution_count": 64
        }
      ]
    },
    {
      "cell_type": "code",
      "source": [
        "df[\"DeltaGsolv\"].min()"
      ],
      "metadata": {
        "colab": {
          "base_uri": "https://localhost:8080/"
        },
        "id": "xUDrDI8y9rN3",
        "outputId": "65cb152b-aaf7-4416-f79f-4508cd1c9508"
      },
      "execution_count": null,
      "outputs": [
        {
          "output_type": "execute_result",
          "data": {
            "text/plain": [
              "-25.47"
            ]
          },
          "metadata": {},
          "execution_count": 65
        }
      ]
    },
    {
      "cell_type": "markdown",
      "source": [
        "**Exercise Question:** Find the solvation free energy value which is higher than that of 80% of the molecules, and lower than 20% of them."
      ],
      "metadata": {
        "id": "G5rx0DEUxL8g"
      }
    },
    {
      "cell_type": "markdown",
      "source": [
        "More discussion on this sort of analysis will follow once we learn to use plotting tools to gain more insights."
      ],
      "metadata": {
        "id": "rdBv0Tiv9vcZ"
      }
    },
    {
      "cell_type": "markdown",
      "source": [
        "## 4. Sampling, Grouping and Filtering"
      ],
      "metadata": {
        "id": "reoOlNJ27gvE"
      }
    },
    {
      "cell_type": "markdown",
      "source": [
        "To sample some number of rows, or fraction of all the rows from the dataframe, we can use the `df.sample` function. This is very often used for quick processing since dataframes can get too huge to gain insights from quickly, on the fly.\n",
        "\n",
        "Since the row indices stay from the original dataframe, to make the new dataframe independent of those indices, we reset the indices and drop the old index column."
      ],
      "metadata": {
        "id": "aSBWDTfZ7qZ9"
      }
    },
    {
      "cell_type": "code",
      "source": [
        "sampled_df = df.sample(100)\n",
        "sampled_df = sampled_df.reset_index().drop(columns=[\"index\"])\n",
        "sampled_df"
      ],
      "metadata": {
        "id": "tsopY5Y-5Qjn",
        "colab": {
          "base_uri": "https://localhost:8080/",
          "height": 424
        },
        "outputId": "480184ab-1899-4f06-cb1a-cbe3ea395c20"
      },
      "execution_count": null,
      "outputs": [
        {
          "output_type": "execute_result",
          "data": {
            "text/plain": [
              "                     Solute                          Solvent    SoluteSMILES  \\\n",
              "0            DIMETHYL ETHER                    ALLYL ALCOHOL             COC   \n",
              "1            1-CHLOROBUTANE  DIETHYLENE GLYCOL DIBUTYL ETHER          CCCCCl   \n",
              "2                   HEPTANE                  DICHLOROMETHANE         CCCCCCC   \n",
              "3   2,3-DIMETHYL-3-PENTANOL             CARBON TETRACHLORIDE  CCC(C)(C(C)C)O   \n",
              "4            1-CHLOROBUTANE     5,8,11,14-TETRAOXAOCTADECANE          CCCCCl   \n",
              "..                      ...                              ...             ...   \n",
              "95             BROMOBENZENE                     BROMOBENZENE    c1ccc(cc1)Br   \n",
              "96      2,4-DIMETHYLPENTANE              N-METHYLPYRROLIDONE     CC(C)CC(C)C   \n",
              "97                   HEXENE                 N-ETHYLFORMAMIDE         CCCCC=C   \n",
              "98           BENZYL BROMIDE                        N-BUTANOL   c1ccc(cc1)CBr   \n",
              "99                   NONANE           (\\xb1)-1,2-PROPANEDIOL       CCCCCCCCC   \n",
              "\n",
              "         SolventSMILES  DeltaGsolv  \n",
              "0                C=CCO       -2.40  \n",
              "1      CCCCOCCOCCOCCCC       -4.07  \n",
              "2              C(Cl)Cl       -4.46  \n",
              "3      C(Cl)(Cl)(Cl)Cl       -5.96  \n",
              "4   CCCCOCCOCCOCCOCCCC       -4.04  \n",
              "..                 ...         ...  \n",
              "95        c1ccc(cc1)Br       -6.30  \n",
              "96          CN1CCCC1=O       -2.78  \n",
              "97              CCNC=O       -2.85  \n",
              "98               CCCCO       -6.37  \n",
              "99             CC(CO)O       -3.19  \n",
              "\n",
              "[100 rows x 5 columns]"
            ],
            "text/html": [
              "\n",
              "  <div id=\"df-72e28765-6d0a-475e-8779-59571a0e3669\">\n",
              "    <div class=\"colab-df-container\">\n",
              "      <div>\n",
              "<style scoped>\n",
              "    .dataframe tbody tr th:only-of-type {\n",
              "        vertical-align: middle;\n",
              "    }\n",
              "\n",
              "    .dataframe tbody tr th {\n",
              "        vertical-align: top;\n",
              "    }\n",
              "\n",
              "    .dataframe thead th {\n",
              "        text-align: right;\n",
              "    }\n",
              "</style>\n",
              "<table border=\"1\" class=\"dataframe\">\n",
              "  <thead>\n",
              "    <tr style=\"text-align: right;\">\n",
              "      <th></th>\n",
              "      <th>Solute</th>\n",
              "      <th>Solvent</th>\n",
              "      <th>SoluteSMILES</th>\n",
              "      <th>SolventSMILES</th>\n",
              "      <th>DeltaGsolv</th>\n",
              "    </tr>\n",
              "  </thead>\n",
              "  <tbody>\n",
              "    <tr>\n",
              "      <th>0</th>\n",
              "      <td>DIMETHYL ETHER</td>\n",
              "      <td>ALLYL ALCOHOL</td>\n",
              "      <td>COC</td>\n",
              "      <td>C=CCO</td>\n",
              "      <td>-2.40</td>\n",
              "    </tr>\n",
              "    <tr>\n",
              "      <th>1</th>\n",
              "      <td>1-CHLOROBUTANE</td>\n",
              "      <td>DIETHYLENE GLYCOL DIBUTYL ETHER</td>\n",
              "      <td>CCCCCl</td>\n",
              "      <td>CCCCOCCOCCOCCCC</td>\n",
              "      <td>-4.07</td>\n",
              "    </tr>\n",
              "    <tr>\n",
              "      <th>2</th>\n",
              "      <td>HEPTANE</td>\n",
              "      <td>DICHLOROMETHANE</td>\n",
              "      <td>CCCCCCC</td>\n",
              "      <td>C(Cl)Cl</td>\n",
              "      <td>-4.46</td>\n",
              "    </tr>\n",
              "    <tr>\n",
              "      <th>3</th>\n",
              "      <td>2,3-DIMETHYL-3-PENTANOL</td>\n",
              "      <td>CARBON TETRACHLORIDE</td>\n",
              "      <td>CCC(C)(C(C)C)O</td>\n",
              "      <td>C(Cl)(Cl)(Cl)Cl</td>\n",
              "      <td>-5.96</td>\n",
              "    </tr>\n",
              "    <tr>\n",
              "      <th>4</th>\n",
              "      <td>1-CHLOROBUTANE</td>\n",
              "      <td>5,8,11,14-TETRAOXAOCTADECANE</td>\n",
              "      <td>CCCCCl</td>\n",
              "      <td>CCCCOCCOCCOCCOCCCC</td>\n",
              "      <td>-4.04</td>\n",
              "    </tr>\n",
              "    <tr>\n",
              "      <th>...</th>\n",
              "      <td>...</td>\n",
              "      <td>...</td>\n",
              "      <td>...</td>\n",
              "      <td>...</td>\n",
              "      <td>...</td>\n",
              "    </tr>\n",
              "    <tr>\n",
              "      <th>95</th>\n",
              "      <td>BROMOBENZENE</td>\n",
              "      <td>BROMOBENZENE</td>\n",
              "      <td>c1ccc(cc1)Br</td>\n",
              "      <td>c1ccc(cc1)Br</td>\n",
              "      <td>-6.30</td>\n",
              "    </tr>\n",
              "    <tr>\n",
              "      <th>96</th>\n",
              "      <td>2,4-DIMETHYLPENTANE</td>\n",
              "      <td>N-METHYLPYRROLIDONE</td>\n",
              "      <td>CC(C)CC(C)C</td>\n",
              "      <td>CN1CCCC1=O</td>\n",
              "      <td>-2.78</td>\n",
              "    </tr>\n",
              "    <tr>\n",
              "      <th>97</th>\n",
              "      <td>HEXENE</td>\n",
              "      <td>N-ETHYLFORMAMIDE</td>\n",
              "      <td>CCCCC=C</td>\n",
              "      <td>CCNC=O</td>\n",
              "      <td>-2.85</td>\n",
              "    </tr>\n",
              "    <tr>\n",
              "      <th>98</th>\n",
              "      <td>BENZYL BROMIDE</td>\n",
              "      <td>N-BUTANOL</td>\n",
              "      <td>c1ccc(cc1)CBr</td>\n",
              "      <td>CCCCO</td>\n",
              "      <td>-6.37</td>\n",
              "    </tr>\n",
              "    <tr>\n",
              "      <th>99</th>\n",
              "      <td>NONANE</td>\n",
              "      <td>(\\xb1)-1,2-PROPANEDIOL</td>\n",
              "      <td>CCCCCCCCC</td>\n",
              "      <td>CC(CO)O</td>\n",
              "      <td>-3.19</td>\n",
              "    </tr>\n",
              "  </tbody>\n",
              "</table>\n",
              "<p>100 rows × 5 columns</p>\n",
              "</div>\n",
              "      <button class=\"colab-df-convert\" onclick=\"convertToInteractive('df-72e28765-6d0a-475e-8779-59571a0e3669')\"\n",
              "              title=\"Convert this dataframe to an interactive table.\"\n",
              "              style=\"display:none;\">\n",
              "        \n",
              "  <svg xmlns=\"http://www.w3.org/2000/svg\" height=\"24px\"viewBox=\"0 0 24 24\"\n",
              "       width=\"24px\">\n",
              "    <path d=\"M0 0h24v24H0V0z\" fill=\"none\"/>\n",
              "    <path d=\"M18.56 5.44l.94 2.06.94-2.06 2.06-.94-2.06-.94-.94-2.06-.94 2.06-2.06.94zm-11 1L8.5 8.5l.94-2.06 2.06-.94-2.06-.94L8.5 2.5l-.94 2.06-2.06.94zm10 10l.94 2.06.94-2.06 2.06-.94-2.06-.94-.94-2.06-.94 2.06-2.06.94z\"/><path d=\"M17.41 7.96l-1.37-1.37c-.4-.4-.92-.59-1.43-.59-.52 0-1.04.2-1.43.59L10.3 9.45l-7.72 7.72c-.78.78-.78 2.05 0 2.83L4 21.41c.39.39.9.59 1.41.59.51 0 1.02-.2 1.41-.59l7.78-7.78 2.81-2.81c.8-.78.8-2.07 0-2.86zM5.41 20L4 18.59l7.72-7.72 1.47 1.35L5.41 20z\"/>\n",
              "  </svg>\n",
              "      </button>\n",
              "      \n",
              "  <style>\n",
              "    .colab-df-container {\n",
              "      display:flex;\n",
              "      flex-wrap:wrap;\n",
              "      gap: 12px;\n",
              "    }\n",
              "\n",
              "    .colab-df-convert {\n",
              "      background-color: #E8F0FE;\n",
              "      border: none;\n",
              "      border-radius: 50%;\n",
              "      cursor: pointer;\n",
              "      display: none;\n",
              "      fill: #1967D2;\n",
              "      height: 32px;\n",
              "      padding: 0 0 0 0;\n",
              "      width: 32px;\n",
              "    }\n",
              "\n",
              "    .colab-df-convert:hover {\n",
              "      background-color: #E2EBFA;\n",
              "      box-shadow: 0px 1px 2px rgba(60, 64, 67, 0.3), 0px 1px 3px 1px rgba(60, 64, 67, 0.15);\n",
              "      fill: #174EA6;\n",
              "    }\n",
              "\n",
              "    [theme=dark] .colab-df-convert {\n",
              "      background-color: #3B4455;\n",
              "      fill: #D2E3FC;\n",
              "    }\n",
              "\n",
              "    [theme=dark] .colab-df-convert:hover {\n",
              "      background-color: #434B5C;\n",
              "      box-shadow: 0px 1px 3px 1px rgba(0, 0, 0, 0.15);\n",
              "      filter: drop-shadow(0px 1px 2px rgba(0, 0, 0, 0.3));\n",
              "      fill: #FFFFFF;\n",
              "    }\n",
              "  </style>\n",
              "\n",
              "      <script>\n",
              "        const buttonEl =\n",
              "          document.querySelector('#df-72e28765-6d0a-475e-8779-59571a0e3669 button.colab-df-convert');\n",
              "        buttonEl.style.display =\n",
              "          google.colab.kernel.accessAllowed ? 'block' : 'none';\n",
              "\n",
              "        async function convertToInteractive(key) {\n",
              "          const element = document.querySelector('#df-72e28765-6d0a-475e-8779-59571a0e3669');\n",
              "          const dataTable =\n",
              "            await google.colab.kernel.invokeFunction('convertToInteractive',\n",
              "                                                     [key], {});\n",
              "          if (!dataTable) return;\n",
              "\n",
              "          const docLinkHtml = 'Like what you see? Visit the ' +\n",
              "            '<a target=\"_blank\" href=https://colab.research.google.com/notebooks/data_table.ipynb>data table notebook</a>'\n",
              "            + ' to learn more about interactive tables.';\n",
              "          element.innerHTML = '';\n",
              "          dataTable['output_type'] = 'display_data';\n",
              "          await google.colab.output.renderOutput(dataTable, element);\n",
              "          const docLink = document.createElement('div');\n",
              "          docLink.innerHTML = docLinkHtml;\n",
              "          element.appendChild(docLink);\n",
              "        }\n",
              "      </script>\n",
              "    </div>\n",
              "  </div>\n",
              "  "
            ]
          },
          "metadata": {},
          "execution_count": 66
        }
      ]
    },
    {
      "cell_type": "code",
      "source": [
        "sampled_df = df.sample(frac=0.5)\n",
        "sampled_df = sampled_df.reset_index().drop(columns=[\"index\"])\n",
        "sampled_df"
      ],
      "metadata": {
        "colab": {
          "base_uri": "https://localhost:8080/",
          "height": 424
        },
        "id": "oUKJmRxacRVs",
        "outputId": "39d463a4-7733-4e6d-abdc-4a1f7e496b6d"
      },
      "execution_count": null,
      "outputs": [
        {
          "output_type": "execute_result",
          "data": {
            "text/plain": [
              "                      Solute                 Solvent     SoluteSMILES  \\\n",
              "0     CHLOROTRIFLUOROMETHANE       DIMETHYLFORMAMIDE     C(F)(F)(F)Cl   \n",
              "1               CYCLOPENTANE              1-PROPANOL          C1CCCC1   \n",
              "2                   PENTANOL                  OCTANE           CCCCCO   \n",
              "3            N-PROPYLBENZENE               1-OCTANOL      CCCc1ccccc1   \n",
              "4           MONOCHLOROETHANE                METHANOL             CCCl   \n",
              "...                      ...                     ...              ...   \n",
              "3115             O-TOLUIDINE  2,2,4-TRIMETHYLPENTANE       Cc1ccccc1N   \n",
              "3116                 ACETONE              CHLOROFORM          CC(=O)C   \n",
              "3117          mobley_6257907                   WATER  c1cc(cc(c1)Cl)N   \n",
              "3118           DIETHYL ETHER            BROMOBENZENE            CCOCC   \n",
              "3119        ISOBUTYRALDEHYDE              HEXADECANE         CC(C)C=O   \n",
              "\n",
              "         SolventSMILES  DeltaGsolv  \n",
              "0             CN(C)C=O        0.08  \n",
              "1                 CCCO       -2.89  \n",
              "2             CCCCCCCC       -4.27  \n",
              "3            CCCCCCCCO       -5.58  \n",
              "4                   CO       -2.63  \n",
              "...                ...         ...  \n",
              "3115    CC(C)CC(C)(C)C       -6.37  \n",
              "3116       C(Cl)(Cl)Cl       -4.49  \n",
              "3117                 O       -5.82  \n",
              "3118      c1ccc(cc1)Br       -3.83  \n",
              "3119  CCCCCCCCCCCCCCCC       -2.81  \n",
              "\n",
              "[3120 rows x 5 columns]"
            ],
            "text/html": [
              "\n",
              "  <div id=\"df-5723b6ad-afe9-4fa9-a6ed-27f2a34e3dd9\">\n",
              "    <div class=\"colab-df-container\">\n",
              "      <div>\n",
              "<style scoped>\n",
              "    .dataframe tbody tr th:only-of-type {\n",
              "        vertical-align: middle;\n",
              "    }\n",
              "\n",
              "    .dataframe tbody tr th {\n",
              "        vertical-align: top;\n",
              "    }\n",
              "\n",
              "    .dataframe thead th {\n",
              "        text-align: right;\n",
              "    }\n",
              "</style>\n",
              "<table border=\"1\" class=\"dataframe\">\n",
              "  <thead>\n",
              "    <tr style=\"text-align: right;\">\n",
              "      <th></th>\n",
              "      <th>Solute</th>\n",
              "      <th>Solvent</th>\n",
              "      <th>SoluteSMILES</th>\n",
              "      <th>SolventSMILES</th>\n",
              "      <th>DeltaGsolv</th>\n",
              "    </tr>\n",
              "  </thead>\n",
              "  <tbody>\n",
              "    <tr>\n",
              "      <th>0</th>\n",
              "      <td>CHLOROTRIFLUOROMETHANE</td>\n",
              "      <td>DIMETHYLFORMAMIDE</td>\n",
              "      <td>C(F)(F)(F)Cl</td>\n",
              "      <td>CN(C)C=O</td>\n",
              "      <td>0.08</td>\n",
              "    </tr>\n",
              "    <tr>\n",
              "      <th>1</th>\n",
              "      <td>CYCLOPENTANE</td>\n",
              "      <td>1-PROPANOL</td>\n",
              "      <td>C1CCCC1</td>\n",
              "      <td>CCCO</td>\n",
              "      <td>-2.89</td>\n",
              "    </tr>\n",
              "    <tr>\n",
              "      <th>2</th>\n",
              "      <td>PENTANOL</td>\n",
              "      <td>OCTANE</td>\n",
              "      <td>CCCCCO</td>\n",
              "      <td>CCCCCCCC</td>\n",
              "      <td>-4.27</td>\n",
              "    </tr>\n",
              "    <tr>\n",
              "      <th>3</th>\n",
              "      <td>N-PROPYLBENZENE</td>\n",
              "      <td>1-OCTANOL</td>\n",
              "      <td>CCCc1ccccc1</td>\n",
              "      <td>CCCCCCCCO</td>\n",
              "      <td>-5.58</td>\n",
              "    </tr>\n",
              "    <tr>\n",
              "      <th>4</th>\n",
              "      <td>MONOCHLOROETHANE</td>\n",
              "      <td>METHANOL</td>\n",
              "      <td>CCCl</td>\n",
              "      <td>CO</td>\n",
              "      <td>-2.63</td>\n",
              "    </tr>\n",
              "    <tr>\n",
              "      <th>...</th>\n",
              "      <td>...</td>\n",
              "      <td>...</td>\n",
              "      <td>...</td>\n",
              "      <td>...</td>\n",
              "      <td>...</td>\n",
              "    </tr>\n",
              "    <tr>\n",
              "      <th>3115</th>\n",
              "      <td>O-TOLUIDINE</td>\n",
              "      <td>2,2,4-TRIMETHYLPENTANE</td>\n",
              "      <td>Cc1ccccc1N</td>\n",
              "      <td>CC(C)CC(C)(C)C</td>\n",
              "      <td>-6.37</td>\n",
              "    </tr>\n",
              "    <tr>\n",
              "      <th>3116</th>\n",
              "      <td>ACETONE</td>\n",
              "      <td>CHLOROFORM</td>\n",
              "      <td>CC(=O)C</td>\n",
              "      <td>C(Cl)(Cl)Cl</td>\n",
              "      <td>-4.49</td>\n",
              "    </tr>\n",
              "    <tr>\n",
              "      <th>3117</th>\n",
              "      <td>mobley_6257907</td>\n",
              "      <td>WATER</td>\n",
              "      <td>c1cc(cc(c1)Cl)N</td>\n",
              "      <td>O</td>\n",
              "      <td>-5.82</td>\n",
              "    </tr>\n",
              "    <tr>\n",
              "      <th>3118</th>\n",
              "      <td>DIETHYL ETHER</td>\n",
              "      <td>BROMOBENZENE</td>\n",
              "      <td>CCOCC</td>\n",
              "      <td>c1ccc(cc1)Br</td>\n",
              "      <td>-3.83</td>\n",
              "    </tr>\n",
              "    <tr>\n",
              "      <th>3119</th>\n",
              "      <td>ISOBUTYRALDEHYDE</td>\n",
              "      <td>HEXADECANE</td>\n",
              "      <td>CC(C)C=O</td>\n",
              "      <td>CCCCCCCCCCCCCCCC</td>\n",
              "      <td>-2.81</td>\n",
              "    </tr>\n",
              "  </tbody>\n",
              "</table>\n",
              "<p>3120 rows × 5 columns</p>\n",
              "</div>\n",
              "      <button class=\"colab-df-convert\" onclick=\"convertToInteractive('df-5723b6ad-afe9-4fa9-a6ed-27f2a34e3dd9')\"\n",
              "              title=\"Convert this dataframe to an interactive table.\"\n",
              "              style=\"display:none;\">\n",
              "        \n",
              "  <svg xmlns=\"http://www.w3.org/2000/svg\" height=\"24px\"viewBox=\"0 0 24 24\"\n",
              "       width=\"24px\">\n",
              "    <path d=\"M0 0h24v24H0V0z\" fill=\"none\"/>\n",
              "    <path d=\"M18.56 5.44l.94 2.06.94-2.06 2.06-.94-2.06-.94-.94-2.06-.94 2.06-2.06.94zm-11 1L8.5 8.5l.94-2.06 2.06-.94-2.06-.94L8.5 2.5l-.94 2.06-2.06.94zm10 10l.94 2.06.94-2.06 2.06-.94-2.06-.94-.94-2.06-.94 2.06-2.06.94z\"/><path d=\"M17.41 7.96l-1.37-1.37c-.4-.4-.92-.59-1.43-.59-.52 0-1.04.2-1.43.59L10.3 9.45l-7.72 7.72c-.78.78-.78 2.05 0 2.83L4 21.41c.39.39.9.59 1.41.59.51 0 1.02-.2 1.41-.59l7.78-7.78 2.81-2.81c.8-.78.8-2.07 0-2.86zM5.41 20L4 18.59l7.72-7.72 1.47 1.35L5.41 20z\"/>\n",
              "  </svg>\n",
              "      </button>\n",
              "      \n",
              "  <style>\n",
              "    .colab-df-container {\n",
              "      display:flex;\n",
              "      flex-wrap:wrap;\n",
              "      gap: 12px;\n",
              "    }\n",
              "\n",
              "    .colab-df-convert {\n",
              "      background-color: #E8F0FE;\n",
              "      border: none;\n",
              "      border-radius: 50%;\n",
              "      cursor: pointer;\n",
              "      display: none;\n",
              "      fill: #1967D2;\n",
              "      height: 32px;\n",
              "      padding: 0 0 0 0;\n",
              "      width: 32px;\n",
              "    }\n",
              "\n",
              "    .colab-df-convert:hover {\n",
              "      background-color: #E2EBFA;\n",
              "      box-shadow: 0px 1px 2px rgba(60, 64, 67, 0.3), 0px 1px 3px 1px rgba(60, 64, 67, 0.15);\n",
              "      fill: #174EA6;\n",
              "    }\n",
              "\n",
              "    [theme=dark] .colab-df-convert {\n",
              "      background-color: #3B4455;\n",
              "      fill: #D2E3FC;\n",
              "    }\n",
              "\n",
              "    [theme=dark] .colab-df-convert:hover {\n",
              "      background-color: #434B5C;\n",
              "      box-shadow: 0px 1px 3px 1px rgba(0, 0, 0, 0.15);\n",
              "      filter: drop-shadow(0px 1px 2px rgba(0, 0, 0, 0.3));\n",
              "      fill: #FFFFFF;\n",
              "    }\n",
              "  </style>\n",
              "\n",
              "      <script>\n",
              "        const buttonEl =\n",
              "          document.querySelector('#df-5723b6ad-afe9-4fa9-a6ed-27f2a34e3dd9 button.colab-df-convert');\n",
              "        buttonEl.style.display =\n",
              "          google.colab.kernel.accessAllowed ? 'block' : 'none';\n",
              "\n",
              "        async function convertToInteractive(key) {\n",
              "          const element = document.querySelector('#df-5723b6ad-afe9-4fa9-a6ed-27f2a34e3dd9');\n",
              "          const dataTable =\n",
              "            await google.colab.kernel.invokeFunction('convertToInteractive',\n",
              "                                                     [key], {});\n",
              "          if (!dataTable) return;\n",
              "\n",
              "          const docLinkHtml = 'Like what you see? Visit the ' +\n",
              "            '<a target=\"_blank\" href=https://colab.research.google.com/notebooks/data_table.ipynb>data table notebook</a>'\n",
              "            + ' to learn more about interactive tables.';\n",
              "          element.innerHTML = '';\n",
              "          dataTable['output_type'] = 'display_data';\n",
              "          await google.colab.output.renderOutput(dataTable, element);\n",
              "          const docLink = document.createElement('div');\n",
              "          docLink.innerHTML = docLinkHtml;\n",
              "          element.appendChild(docLink);\n",
              "        }\n",
              "      </script>\n",
              "    </div>\n",
              "  </div>\n",
              "  "
            ]
          },
          "metadata": {},
          "execution_count": 67
        }
      ]
    },
    {
      "cell_type": "markdown",
      "source": [
        "Another key operation when analyzing data is to group the rows in a dataframe and \n",
        "\n",
        "`groupby` takes a list of column names, and groups all those with the same value for those column names together. Then we can perform any statistical test on these groups, computing their means, medians, modes, counts, quartiles, and the like, or we can use the describe command to do several of those."
      ],
      "metadata": {
        "id": "MjtiWGsy-ClI"
      }
    },
    {
      "cell_type": "code",
      "source": [
        "df.groupby([\"Solvent\",\"SolventSMILES\"]).describe()"
      ],
      "metadata": {
        "colab": {
          "base_uri": "https://localhost:8080/",
          "height": 486
        },
        "id": "VU-I7Kl2U43x",
        "outputId": "676ac198-af6e-4511-8984-f03c5c78e96f"
      },
      "execution_count": null,
      "outputs": [
        {
          "output_type": "execute_result",
          "data": {
            "text/plain": [
              "                                                    DeltaGsolv            \\\n",
              "                                                         count      mean   \n",
              "Solvent                      SolventSMILES                                 \n",
              "(\\xb1)-1,2-PROPANEDIOL       CC(CO)O                      29.0 -2.737931   \n",
              "(\\xb1)-2-BUTANOL             CCC(C)O                      37.0 -2.924054   \n",
              "1,4-DIOXANE                  C1COCCO1                     78.0 -3.946923   \n",
              "1,5-DIMETHYL-2-PYRROLIDINONE CC1CCC(=O)N1C                22.0 -3.676818   \n",
              "1-CHLOROBUTANE               CCCCCl                       45.0 -4.766000   \n",
              "...                                                        ...       ...   \n",
              "TRIBUTYL PHOSPHATE           CCCCOP(=O)(OCCCC)OCCCC       63.0 -3.862222   \n",
              "TRIETHYLAMINE                CCN(CC)CC                    17.0 -4.463529   \n",
              "UNDECANE                     CCCCCCCCCCC                  32.0 -3.754687   \n",
              "UNDECANOL                    CCCCCCCCCCCO                  5.0  1.002000   \n",
              "WATER                        O                           642.0 -3.803006   \n",
              "\n",
              "                                                                              \\\n",
              "                                                          std    min     25%   \n",
              "Solvent                      SolventSMILES                                     \n",
              "(\\xb1)-1,2-PROPANEDIOL       CC(CO)O                 1.887393  -8.58 -3.5000   \n",
              "(\\xb1)-2-BUTANOL             CCC(C)O                 2.897637 -14.09 -4.4900   \n",
              "1,4-DIOXANE                  C1COCCO1                2.062037  -9.81 -5.0900   \n",
              "1,5-DIMETHYL-2-PYRROLIDINONE CC1CCC(=O)N1C           0.743898  -5.05 -4.2725   \n",
              "1-CHLOROBUTANE               CCCCCl                  1.800228 -13.31 -4.6800   \n",
              "...                                                       ...    ...     ...   \n",
              "TRIBUTYL PHOSPHATE           CCCCOP(=O)(OCCCC)OCCCC  1.743641 -10.61 -4.6800   \n",
              "TRIETHYLAMINE                CCN(CC)CC               0.750999  -6.07 -4.8900   \n",
              "UNDECANE                     CCCCCCCCCCC             2.650121  -8.61 -5.3800   \n",
              "UNDECANOL                    CCCCCCCCCCCO            0.455379   0.49  0.5600   \n",
              "WATER                        O                       3.847820 -25.47 -5.7275   \n",
              "\n",
              "                                                                          \n",
              "                                                       50%     75%   max  \n",
              "Solvent                      SolventSMILES                                \n",
              "(\\xb1)-1,2-PROPANEDIOL       CC(CO)O                -2.760 -2.3000  2.13  \n",
              "(\\xb1)-2-BUTANOL             CCC(C)O                -2.410 -1.3200  1.23  \n",
              "1,4-DIOXANE                  C1COCCO1               -4.330 -3.0675  1.42  \n",
              "1,5-DIMETHYL-2-PYRROLIDINONE CC1CCC(=O)N1C          -3.745 -3.2375 -2.25  \n",
              "1-CHLOROBUTANE               CCCCCl                 -4.370 -4.0600 -3.08  \n",
              "...                                                    ...     ...   ...  \n",
              "TRIBUTYL PHOSPHATE           CCCCOP(=O)(OCCCC)OCCCC -4.220 -3.3600  0.80  \n",
              "TRIETHYLAMINE                CCN(CC)CC              -4.310 -3.9700 -3.28  \n",
              "UNDECANE                     CCCCCCCCCCC            -3.800 -2.8350  1.12  \n",
              "UNDECANOL                    CCCCCCCCCCCO            1.110  1.3900  1.46  \n",
              "WATER                        O                      -3.530 -1.2150  3.43  \n",
              "\n",
              "[146 rows x 8 columns]"
            ],
            "text/html": [
              "\n",
              "  <div id=\"df-86f095ce-f8bf-4125-9de6-a5d90be9f4e3\">\n",
              "    <div class=\"colab-df-container\">\n",
              "      <div>\n",
              "<style scoped>\n",
              "    .dataframe tbody tr th:only-of-type {\n",
              "        vertical-align: middle;\n",
              "    }\n",
              "\n",
              "    .dataframe tbody tr th {\n",
              "        vertical-align: top;\n",
              "    }\n",
              "\n",
              "    .dataframe thead tr th {\n",
              "        text-align: left;\n",
              "    }\n",
              "\n",
              "    .dataframe thead tr:last-of-type th {\n",
              "        text-align: right;\n",
              "    }\n",
              "</style>\n",
              "<table border=\"1\" class=\"dataframe\">\n",
              "  <thead>\n",
              "    <tr>\n",
              "      <th></th>\n",
              "      <th></th>\n",
              "      <th colspan=\"8\" halign=\"left\">DeltaGsolv</th>\n",
              "    </tr>\n",
              "    <tr>\n",
              "      <th></th>\n",
              "      <th></th>\n",
              "      <th>count</th>\n",
              "      <th>mean</th>\n",
              "      <th>std</th>\n",
              "      <th>min</th>\n",
              "      <th>25%</th>\n",
              "      <th>50%</th>\n",
              "      <th>75%</th>\n",
              "      <th>max</th>\n",
              "    </tr>\n",
              "    <tr>\n",
              "      <th>Solvent</th>\n",
              "      <th>SolventSMILES</th>\n",
              "      <th></th>\n",
              "      <th></th>\n",
              "      <th></th>\n",
              "      <th></th>\n",
              "      <th></th>\n",
              "      <th></th>\n",
              "      <th></th>\n",
              "      <th></th>\n",
              "    </tr>\n",
              "  </thead>\n",
              "  <tbody>\n",
              "    <tr>\n",
              "      <th>(\\xb1)-1,2-PROPANEDIOL</th>\n",
              "      <th>CC(CO)O</th>\n",
              "      <td>29.0</td>\n",
              "      <td>-2.737931</td>\n",
              "      <td>1.887393</td>\n",
              "      <td>-8.58</td>\n",
              "      <td>-3.5000</td>\n",
              "      <td>-2.760</td>\n",
              "      <td>-2.3000</td>\n",
              "      <td>2.13</td>\n",
              "    </tr>\n",
              "    <tr>\n",
              "      <th>(\\xb1)-2-BUTANOL</th>\n",
              "      <th>CCC(C)O</th>\n",
              "      <td>37.0</td>\n",
              "      <td>-2.924054</td>\n",
              "      <td>2.897637</td>\n",
              "      <td>-14.09</td>\n",
              "      <td>-4.4900</td>\n",
              "      <td>-2.410</td>\n",
              "      <td>-1.3200</td>\n",
              "      <td>1.23</td>\n",
              "    </tr>\n",
              "    <tr>\n",
              "      <th>1,4-DIOXANE</th>\n",
              "      <th>C1COCCO1</th>\n",
              "      <td>78.0</td>\n",
              "      <td>-3.946923</td>\n",
              "      <td>2.062037</td>\n",
              "      <td>-9.81</td>\n",
              "      <td>-5.0900</td>\n",
              "      <td>-4.330</td>\n",
              "      <td>-3.0675</td>\n",
              "      <td>1.42</td>\n",
              "    </tr>\n",
              "    <tr>\n",
              "      <th>1,5-DIMETHYL-2-PYRROLIDINONE</th>\n",
              "      <th>CC1CCC(=O)N1C</th>\n",
              "      <td>22.0</td>\n",
              "      <td>-3.676818</td>\n",
              "      <td>0.743898</td>\n",
              "      <td>-5.05</td>\n",
              "      <td>-4.2725</td>\n",
              "      <td>-3.745</td>\n",
              "      <td>-3.2375</td>\n",
              "      <td>-2.25</td>\n",
              "    </tr>\n",
              "    <tr>\n",
              "      <th>1-CHLOROBUTANE</th>\n",
              "      <th>CCCCCl</th>\n",
              "      <td>45.0</td>\n",
              "      <td>-4.766000</td>\n",
              "      <td>1.800228</td>\n",
              "      <td>-13.31</td>\n",
              "      <td>-4.6800</td>\n",
              "      <td>-4.370</td>\n",
              "      <td>-4.0600</td>\n",
              "      <td>-3.08</td>\n",
              "    </tr>\n",
              "    <tr>\n",
              "      <th>...</th>\n",
              "      <th>...</th>\n",
              "      <td>...</td>\n",
              "      <td>...</td>\n",
              "      <td>...</td>\n",
              "      <td>...</td>\n",
              "      <td>...</td>\n",
              "      <td>...</td>\n",
              "      <td>...</td>\n",
              "      <td>...</td>\n",
              "    </tr>\n",
              "    <tr>\n",
              "      <th>TRIBUTYL PHOSPHATE</th>\n",
              "      <th>CCCCOP(=O)(OCCCC)OCCCC</th>\n",
              "      <td>63.0</td>\n",
              "      <td>-3.862222</td>\n",
              "      <td>1.743641</td>\n",
              "      <td>-10.61</td>\n",
              "      <td>-4.6800</td>\n",
              "      <td>-4.220</td>\n",
              "      <td>-3.3600</td>\n",
              "      <td>0.80</td>\n",
              "    </tr>\n",
              "    <tr>\n",
              "      <th>TRIETHYLAMINE</th>\n",
              "      <th>CCN(CC)CC</th>\n",
              "      <td>17.0</td>\n",
              "      <td>-4.463529</td>\n",
              "      <td>0.750999</td>\n",
              "      <td>-6.07</td>\n",
              "      <td>-4.8900</td>\n",
              "      <td>-4.310</td>\n",
              "      <td>-3.9700</td>\n",
              "      <td>-3.28</td>\n",
              "    </tr>\n",
              "    <tr>\n",
              "      <th>UNDECANE</th>\n",
              "      <th>CCCCCCCCCCC</th>\n",
              "      <td>32.0</td>\n",
              "      <td>-3.754687</td>\n",
              "      <td>2.650121</td>\n",
              "      <td>-8.61</td>\n",
              "      <td>-5.3800</td>\n",
              "      <td>-3.800</td>\n",
              "      <td>-2.8350</td>\n",
              "      <td>1.12</td>\n",
              "    </tr>\n",
              "    <tr>\n",
              "      <th>UNDECANOL</th>\n",
              "      <th>CCCCCCCCCCCO</th>\n",
              "      <td>5.0</td>\n",
              "      <td>1.002000</td>\n",
              "      <td>0.455379</td>\n",
              "      <td>0.49</td>\n",
              "      <td>0.5600</td>\n",
              "      <td>1.110</td>\n",
              "      <td>1.3900</td>\n",
              "      <td>1.46</td>\n",
              "    </tr>\n",
              "    <tr>\n",
              "      <th>WATER</th>\n",
              "      <th>O</th>\n",
              "      <td>642.0</td>\n",
              "      <td>-3.803006</td>\n",
              "      <td>3.847820</td>\n",
              "      <td>-25.47</td>\n",
              "      <td>-5.7275</td>\n",
              "      <td>-3.530</td>\n",
              "      <td>-1.2150</td>\n",
              "      <td>3.43</td>\n",
              "    </tr>\n",
              "  </tbody>\n",
              "</table>\n",
              "<p>146 rows × 8 columns</p>\n",
              "</div>\n",
              "      <button class=\"colab-df-convert\" onclick=\"convertToInteractive('df-86f095ce-f8bf-4125-9de6-a5d90be9f4e3')\"\n",
              "              title=\"Convert this dataframe to an interactive table.\"\n",
              "              style=\"display:none;\">\n",
              "        \n",
              "  <svg xmlns=\"http://www.w3.org/2000/svg\" height=\"24px\"viewBox=\"0 0 24 24\"\n",
              "       width=\"24px\">\n",
              "    <path d=\"M0 0h24v24H0V0z\" fill=\"none\"/>\n",
              "    <path d=\"M18.56 5.44l.94 2.06.94-2.06 2.06-.94-2.06-.94-.94-2.06-.94 2.06-2.06.94zm-11 1L8.5 8.5l.94-2.06 2.06-.94-2.06-.94L8.5 2.5l-.94 2.06-2.06.94zm10 10l.94 2.06.94-2.06 2.06-.94-2.06-.94-.94-2.06-.94 2.06-2.06.94z\"/><path d=\"M17.41 7.96l-1.37-1.37c-.4-.4-.92-.59-1.43-.59-.52 0-1.04.2-1.43.59L10.3 9.45l-7.72 7.72c-.78.78-.78 2.05 0 2.83L4 21.41c.39.39.9.59 1.41.59.51 0 1.02-.2 1.41-.59l7.78-7.78 2.81-2.81c.8-.78.8-2.07 0-2.86zM5.41 20L4 18.59l7.72-7.72 1.47 1.35L5.41 20z\"/>\n",
              "  </svg>\n",
              "      </button>\n",
              "      \n",
              "  <style>\n",
              "    .colab-df-container {\n",
              "      display:flex;\n",
              "      flex-wrap:wrap;\n",
              "      gap: 12px;\n",
              "    }\n",
              "\n",
              "    .colab-df-convert {\n",
              "      background-color: #E8F0FE;\n",
              "      border: none;\n",
              "      border-radius: 50%;\n",
              "      cursor: pointer;\n",
              "      display: none;\n",
              "      fill: #1967D2;\n",
              "      height: 32px;\n",
              "      padding: 0 0 0 0;\n",
              "      width: 32px;\n",
              "    }\n",
              "\n",
              "    .colab-df-convert:hover {\n",
              "      background-color: #E2EBFA;\n",
              "      box-shadow: 0px 1px 2px rgba(60, 64, 67, 0.3), 0px 1px 3px 1px rgba(60, 64, 67, 0.15);\n",
              "      fill: #174EA6;\n",
              "    }\n",
              "\n",
              "    [theme=dark] .colab-df-convert {\n",
              "      background-color: #3B4455;\n",
              "      fill: #D2E3FC;\n",
              "    }\n",
              "\n",
              "    [theme=dark] .colab-df-convert:hover {\n",
              "      background-color: #434B5C;\n",
              "      box-shadow: 0px 1px 3px 1px rgba(0, 0, 0, 0.15);\n",
              "      filter: drop-shadow(0px 1px 2px rgba(0, 0, 0, 0.3));\n",
              "      fill: #FFFFFF;\n",
              "    }\n",
              "  </style>\n",
              "\n",
              "      <script>\n",
              "        const buttonEl =\n",
              "          document.querySelector('#df-86f095ce-f8bf-4125-9de6-a5d90be9f4e3 button.colab-df-convert');\n",
              "        buttonEl.style.display =\n",
              "          google.colab.kernel.accessAllowed ? 'block' : 'none';\n",
              "\n",
              "        async function convertToInteractive(key) {\n",
              "          const element = document.querySelector('#df-86f095ce-f8bf-4125-9de6-a5d90be9f4e3');\n",
              "          const dataTable =\n",
              "            await google.colab.kernel.invokeFunction('convertToInteractive',\n",
              "                                                     [key], {});\n",
              "          if (!dataTable) return;\n",
              "\n",
              "          const docLinkHtml = 'Like what you see? Visit the ' +\n",
              "            '<a target=\"_blank\" href=https://colab.research.google.com/notebooks/data_table.ipynb>data table notebook</a>'\n",
              "            + ' to learn more about interactive tables.';\n",
              "          element.innerHTML = '';\n",
              "          dataTable['output_type'] = 'display_data';\n",
              "          await google.colab.output.renderOutput(dataTable, element);\n",
              "          const docLink = document.createElement('div');\n",
              "          docLink.innerHTML = docLinkHtml;\n",
              "          element.appendChild(docLink);\n",
              "        }\n",
              "      </script>\n",
              "    </div>\n",
              "  </div>\n",
              "  "
            ]
          },
          "metadata": {},
          "execution_count": 68
        }
      ]
    },
    {
      "cell_type": "markdown",
      "source": [
        "Finally, we may want to filter data based on some conditions. Simply writing those conditions on in terms of the columns gives a boolean array of which rows should appear in the final filter. This can be provided to the dataframe to get those rows. Examples of this follow, first with a simple condition and then with more complex compound conditionals."
      ],
      "metadata": {
        "id": "RmnjUBCe-jyP"
      }
    },
    {
      "cell_type": "code",
      "source": [
        "filtered_df = df[df[\"Solvent\"]==\"UNDECANOL\"]\n",
        "filtered_df"
      ],
      "metadata": {
        "colab": {
          "base_uri": "https://localhost:8080/",
          "height": 206
        },
        "id": "N7GEvZ5AVGA6",
        "outputId": "5bc80a96-c30d-469e-af9d-e80e658b6523"
      },
      "execution_count": null,
      "outputs": [
        {
          "output_type": "execute_result",
          "data": {
            "text/plain": [
              "                   Solute    Solvent     SoluteSMILES SolventSMILES  \\\n",
              "90       MOLECULAR OXYGEN  UNDECANOL              O=O  CCCCCCCCCCCO   \n",
              "165    MOLECULAR NITROGEN  UNDECANOL              N#N  CCCCCCCCCCCO   \n",
              "230   SULFUR HEXAFLUORIDE  UNDECANOL  FS(F)(F)(F)(F)F  CCCCCCCCCCCO   \n",
              "5662     PERFLUOROMETHANE  UNDECANOL      C(F)(F)(F)F  CCCCCCCCCCCO   \n",
              "6159              METHANE  UNDECANOL                C  CCCCCCCCCCCO   \n",
              "\n",
              "      DeltaGsolv  \n",
              "90          1.11  \n",
              "165         1.46  \n",
              "230         0.49  \n",
              "5662        1.39  \n",
              "6159        0.56  "
            ],
            "text/html": [
              "\n",
              "  <div id=\"df-384c2cc1-ee91-4b82-a3e4-5cbe140d9e8e\">\n",
              "    <div class=\"colab-df-container\">\n",
              "      <div>\n",
              "<style scoped>\n",
              "    .dataframe tbody tr th:only-of-type {\n",
              "        vertical-align: middle;\n",
              "    }\n",
              "\n",
              "    .dataframe tbody tr th {\n",
              "        vertical-align: top;\n",
              "    }\n",
              "\n",
              "    .dataframe thead th {\n",
              "        text-align: right;\n",
              "    }\n",
              "</style>\n",
              "<table border=\"1\" class=\"dataframe\">\n",
              "  <thead>\n",
              "    <tr style=\"text-align: right;\">\n",
              "      <th></th>\n",
              "      <th>Solute</th>\n",
              "      <th>Solvent</th>\n",
              "      <th>SoluteSMILES</th>\n",
              "      <th>SolventSMILES</th>\n",
              "      <th>DeltaGsolv</th>\n",
              "    </tr>\n",
              "  </thead>\n",
              "  <tbody>\n",
              "    <tr>\n",
              "      <th>90</th>\n",
              "      <td>MOLECULAR OXYGEN</td>\n",
              "      <td>UNDECANOL</td>\n",
              "      <td>O=O</td>\n",
              "      <td>CCCCCCCCCCCO</td>\n",
              "      <td>1.11</td>\n",
              "    </tr>\n",
              "    <tr>\n",
              "      <th>165</th>\n",
              "      <td>MOLECULAR NITROGEN</td>\n",
              "      <td>UNDECANOL</td>\n",
              "      <td>N#N</td>\n",
              "      <td>CCCCCCCCCCCO</td>\n",
              "      <td>1.46</td>\n",
              "    </tr>\n",
              "    <tr>\n",
              "      <th>230</th>\n",
              "      <td>SULFUR HEXAFLUORIDE</td>\n",
              "      <td>UNDECANOL</td>\n",
              "      <td>FS(F)(F)(F)(F)F</td>\n",
              "      <td>CCCCCCCCCCCO</td>\n",
              "      <td>0.49</td>\n",
              "    </tr>\n",
              "    <tr>\n",
              "      <th>5662</th>\n",
              "      <td>PERFLUOROMETHANE</td>\n",
              "      <td>UNDECANOL</td>\n",
              "      <td>C(F)(F)(F)F</td>\n",
              "      <td>CCCCCCCCCCCO</td>\n",
              "      <td>1.39</td>\n",
              "    </tr>\n",
              "    <tr>\n",
              "      <th>6159</th>\n",
              "      <td>METHANE</td>\n",
              "      <td>UNDECANOL</td>\n",
              "      <td>C</td>\n",
              "      <td>CCCCCCCCCCCO</td>\n",
              "      <td>0.56</td>\n",
              "    </tr>\n",
              "  </tbody>\n",
              "</table>\n",
              "</div>\n",
              "      <button class=\"colab-df-convert\" onclick=\"convertToInteractive('df-384c2cc1-ee91-4b82-a3e4-5cbe140d9e8e')\"\n",
              "              title=\"Convert this dataframe to an interactive table.\"\n",
              "              style=\"display:none;\">\n",
              "        \n",
              "  <svg xmlns=\"http://www.w3.org/2000/svg\" height=\"24px\"viewBox=\"0 0 24 24\"\n",
              "       width=\"24px\">\n",
              "    <path d=\"M0 0h24v24H0V0z\" fill=\"none\"/>\n",
              "    <path d=\"M18.56 5.44l.94 2.06.94-2.06 2.06-.94-2.06-.94-.94-2.06-.94 2.06-2.06.94zm-11 1L8.5 8.5l.94-2.06 2.06-.94-2.06-.94L8.5 2.5l-.94 2.06-2.06.94zm10 10l.94 2.06.94-2.06 2.06-.94-2.06-.94-.94-2.06-.94 2.06-2.06.94z\"/><path d=\"M17.41 7.96l-1.37-1.37c-.4-.4-.92-.59-1.43-.59-.52 0-1.04.2-1.43.59L10.3 9.45l-7.72 7.72c-.78.78-.78 2.05 0 2.83L4 21.41c.39.39.9.59 1.41.59.51 0 1.02-.2 1.41-.59l7.78-7.78 2.81-2.81c.8-.78.8-2.07 0-2.86zM5.41 20L4 18.59l7.72-7.72 1.47 1.35L5.41 20z\"/>\n",
              "  </svg>\n",
              "      </button>\n",
              "      \n",
              "  <style>\n",
              "    .colab-df-container {\n",
              "      display:flex;\n",
              "      flex-wrap:wrap;\n",
              "      gap: 12px;\n",
              "    }\n",
              "\n",
              "    .colab-df-convert {\n",
              "      background-color: #E8F0FE;\n",
              "      border: none;\n",
              "      border-radius: 50%;\n",
              "      cursor: pointer;\n",
              "      display: none;\n",
              "      fill: #1967D2;\n",
              "      height: 32px;\n",
              "      padding: 0 0 0 0;\n",
              "      width: 32px;\n",
              "    }\n",
              "\n",
              "    .colab-df-convert:hover {\n",
              "      background-color: #E2EBFA;\n",
              "      box-shadow: 0px 1px 2px rgba(60, 64, 67, 0.3), 0px 1px 3px 1px rgba(60, 64, 67, 0.15);\n",
              "      fill: #174EA6;\n",
              "    }\n",
              "\n",
              "    [theme=dark] .colab-df-convert {\n",
              "      background-color: #3B4455;\n",
              "      fill: #D2E3FC;\n",
              "    }\n",
              "\n",
              "    [theme=dark] .colab-df-convert:hover {\n",
              "      background-color: #434B5C;\n",
              "      box-shadow: 0px 1px 3px 1px rgba(0, 0, 0, 0.15);\n",
              "      filter: drop-shadow(0px 1px 2px rgba(0, 0, 0, 0.3));\n",
              "      fill: #FFFFFF;\n",
              "    }\n",
              "  </style>\n",
              "\n",
              "      <script>\n",
              "        const buttonEl =\n",
              "          document.querySelector('#df-384c2cc1-ee91-4b82-a3e4-5cbe140d9e8e button.colab-df-convert');\n",
              "        buttonEl.style.display =\n",
              "          google.colab.kernel.accessAllowed ? 'block' : 'none';\n",
              "\n",
              "        async function convertToInteractive(key) {\n",
              "          const element = document.querySelector('#df-384c2cc1-ee91-4b82-a3e4-5cbe140d9e8e');\n",
              "          const dataTable =\n",
              "            await google.colab.kernel.invokeFunction('convertToInteractive',\n",
              "                                                     [key], {});\n",
              "          if (!dataTable) return;\n",
              "\n",
              "          const docLinkHtml = 'Like what you see? Visit the ' +\n",
              "            '<a target=\"_blank\" href=https://colab.research.google.com/notebooks/data_table.ipynb>data table notebook</a>'\n",
              "            + ' to learn more about interactive tables.';\n",
              "          element.innerHTML = '';\n",
              "          dataTable['output_type'] = 'display_data';\n",
              "          await google.colab.output.renderOutput(dataTable, element);\n",
              "          const docLink = document.createElement('div');\n",
              "          docLink.innerHTML = docLinkHtml;\n",
              "          element.appendChild(docLink);\n",
              "        }\n",
              "      </script>\n",
              "    </div>\n",
              "  </div>\n",
              "  "
            ]
          },
          "metadata": {},
          "execution_count": 69
        }
      ]
    },
    {
      "cell_type": "code",
      "source": [
        "filtered_df = df[(df[\"Solvent\"]==\"UNDECANOL\") & (df[\"DeltaGsolv\"] < 2)]\n",
        "filtered_df"
      ],
      "metadata": {
        "colab": {
          "base_uri": "https://localhost:8080/",
          "height": 206
        },
        "id": "FHBpAk1ZW-rS",
        "outputId": "5b736797-9500-47d2-94ed-67458e229e4f"
      },
      "execution_count": null,
      "outputs": [
        {
          "output_type": "execute_result",
          "data": {
            "text/plain": [
              "                   Solute    Solvent     SoluteSMILES SolventSMILES  \\\n",
              "90       MOLECULAR OXYGEN  UNDECANOL              O=O  CCCCCCCCCCCO   \n",
              "165    MOLECULAR NITROGEN  UNDECANOL              N#N  CCCCCCCCCCCO   \n",
              "230   SULFUR HEXAFLUORIDE  UNDECANOL  FS(F)(F)(F)(F)F  CCCCCCCCCCCO   \n",
              "5662     PERFLUOROMETHANE  UNDECANOL      C(F)(F)(F)F  CCCCCCCCCCCO   \n",
              "6159              METHANE  UNDECANOL                C  CCCCCCCCCCCO   \n",
              "\n",
              "      DeltaGsolv  \n",
              "90          1.11  \n",
              "165         1.46  \n",
              "230         0.49  \n",
              "5662        1.39  \n",
              "6159        0.56  "
            ],
            "text/html": [
              "\n",
              "  <div id=\"df-15d86c3b-cf85-433b-a958-674c880b6a9f\">\n",
              "    <div class=\"colab-df-container\">\n",
              "      <div>\n",
              "<style scoped>\n",
              "    .dataframe tbody tr th:only-of-type {\n",
              "        vertical-align: middle;\n",
              "    }\n",
              "\n",
              "    .dataframe tbody tr th {\n",
              "        vertical-align: top;\n",
              "    }\n",
              "\n",
              "    .dataframe thead th {\n",
              "        text-align: right;\n",
              "    }\n",
              "</style>\n",
              "<table border=\"1\" class=\"dataframe\">\n",
              "  <thead>\n",
              "    <tr style=\"text-align: right;\">\n",
              "      <th></th>\n",
              "      <th>Solute</th>\n",
              "      <th>Solvent</th>\n",
              "      <th>SoluteSMILES</th>\n",
              "      <th>SolventSMILES</th>\n",
              "      <th>DeltaGsolv</th>\n",
              "    </tr>\n",
              "  </thead>\n",
              "  <tbody>\n",
              "    <tr>\n",
              "      <th>90</th>\n",
              "      <td>MOLECULAR OXYGEN</td>\n",
              "      <td>UNDECANOL</td>\n",
              "      <td>O=O</td>\n",
              "      <td>CCCCCCCCCCCO</td>\n",
              "      <td>1.11</td>\n",
              "    </tr>\n",
              "    <tr>\n",
              "      <th>165</th>\n",
              "      <td>MOLECULAR NITROGEN</td>\n",
              "      <td>UNDECANOL</td>\n",
              "      <td>N#N</td>\n",
              "      <td>CCCCCCCCCCCO</td>\n",
              "      <td>1.46</td>\n",
              "    </tr>\n",
              "    <tr>\n",
              "      <th>230</th>\n",
              "      <td>SULFUR HEXAFLUORIDE</td>\n",
              "      <td>UNDECANOL</td>\n",
              "      <td>FS(F)(F)(F)(F)F</td>\n",
              "      <td>CCCCCCCCCCCO</td>\n",
              "      <td>0.49</td>\n",
              "    </tr>\n",
              "    <tr>\n",
              "      <th>5662</th>\n",
              "      <td>PERFLUOROMETHANE</td>\n",
              "      <td>UNDECANOL</td>\n",
              "      <td>C(F)(F)(F)F</td>\n",
              "      <td>CCCCCCCCCCCO</td>\n",
              "      <td>1.39</td>\n",
              "    </tr>\n",
              "    <tr>\n",
              "      <th>6159</th>\n",
              "      <td>METHANE</td>\n",
              "      <td>UNDECANOL</td>\n",
              "      <td>C</td>\n",
              "      <td>CCCCCCCCCCCO</td>\n",
              "      <td>0.56</td>\n",
              "    </tr>\n",
              "  </tbody>\n",
              "</table>\n",
              "</div>\n",
              "      <button class=\"colab-df-convert\" onclick=\"convertToInteractive('df-15d86c3b-cf85-433b-a958-674c880b6a9f')\"\n",
              "              title=\"Convert this dataframe to an interactive table.\"\n",
              "              style=\"display:none;\">\n",
              "        \n",
              "  <svg xmlns=\"http://www.w3.org/2000/svg\" height=\"24px\"viewBox=\"0 0 24 24\"\n",
              "       width=\"24px\">\n",
              "    <path d=\"M0 0h24v24H0V0z\" fill=\"none\"/>\n",
              "    <path d=\"M18.56 5.44l.94 2.06.94-2.06 2.06-.94-2.06-.94-.94-2.06-.94 2.06-2.06.94zm-11 1L8.5 8.5l.94-2.06 2.06-.94-2.06-.94L8.5 2.5l-.94 2.06-2.06.94zm10 10l.94 2.06.94-2.06 2.06-.94-2.06-.94-.94-2.06-.94 2.06-2.06.94z\"/><path d=\"M17.41 7.96l-1.37-1.37c-.4-.4-.92-.59-1.43-.59-.52 0-1.04.2-1.43.59L10.3 9.45l-7.72 7.72c-.78.78-.78 2.05 0 2.83L4 21.41c.39.39.9.59 1.41.59.51 0 1.02-.2 1.41-.59l7.78-7.78 2.81-2.81c.8-.78.8-2.07 0-2.86zM5.41 20L4 18.59l7.72-7.72 1.47 1.35L5.41 20z\"/>\n",
              "  </svg>\n",
              "      </button>\n",
              "      \n",
              "  <style>\n",
              "    .colab-df-container {\n",
              "      display:flex;\n",
              "      flex-wrap:wrap;\n",
              "      gap: 12px;\n",
              "    }\n",
              "\n",
              "    .colab-df-convert {\n",
              "      background-color: #E8F0FE;\n",
              "      border: none;\n",
              "      border-radius: 50%;\n",
              "      cursor: pointer;\n",
              "      display: none;\n",
              "      fill: #1967D2;\n",
              "      height: 32px;\n",
              "      padding: 0 0 0 0;\n",
              "      width: 32px;\n",
              "    }\n",
              "\n",
              "    .colab-df-convert:hover {\n",
              "      background-color: #E2EBFA;\n",
              "      box-shadow: 0px 1px 2px rgba(60, 64, 67, 0.3), 0px 1px 3px 1px rgba(60, 64, 67, 0.15);\n",
              "      fill: #174EA6;\n",
              "    }\n",
              "\n",
              "    [theme=dark] .colab-df-convert {\n",
              "      background-color: #3B4455;\n",
              "      fill: #D2E3FC;\n",
              "    }\n",
              "\n",
              "    [theme=dark] .colab-df-convert:hover {\n",
              "      background-color: #434B5C;\n",
              "      box-shadow: 0px 1px 3px 1px rgba(0, 0, 0, 0.15);\n",
              "      filter: drop-shadow(0px 1px 2px rgba(0, 0, 0, 0.3));\n",
              "      fill: #FFFFFF;\n",
              "    }\n",
              "  </style>\n",
              "\n",
              "      <script>\n",
              "        const buttonEl =\n",
              "          document.querySelector('#df-15d86c3b-cf85-433b-a958-674c880b6a9f button.colab-df-convert');\n",
              "        buttonEl.style.display =\n",
              "          google.colab.kernel.accessAllowed ? 'block' : 'none';\n",
              "\n",
              "        async function convertToInteractive(key) {\n",
              "          const element = document.querySelector('#df-15d86c3b-cf85-433b-a958-674c880b6a9f');\n",
              "          const dataTable =\n",
              "            await google.colab.kernel.invokeFunction('convertToInteractive',\n",
              "                                                     [key], {});\n",
              "          if (!dataTable) return;\n",
              "\n",
              "          const docLinkHtml = 'Like what you see? Visit the ' +\n",
              "            '<a target=\"_blank\" href=https://colab.research.google.com/notebooks/data_table.ipynb>data table notebook</a>'\n",
              "            + ' to learn more about interactive tables.';\n",
              "          element.innerHTML = '';\n",
              "          dataTable['output_type'] = 'display_data';\n",
              "          await google.colab.output.renderOutput(dataTable, element);\n",
              "          const docLink = document.createElement('div');\n",
              "          docLink.innerHTML = docLinkHtml;\n",
              "          element.appendChild(docLink);\n",
              "        }\n",
              "      </script>\n",
              "    </div>\n",
              "  </div>\n",
              "  "
            ]
          },
          "metadata": {},
          "execution_count": 70
        }
      ]
    },
    {
      "cell_type": "markdown",
      "source": [
        "We can also create new columns which can be computed from old columns using any custom function. These can be normal functions or lambda."
      ],
      "metadata": {
        "id": "HNu--trHx-oc"
      }
    },
    {
      "cell_type": "code",
      "source": [
        "def get_string_rep(x):\n",
        "    return x[\"SoluteSMILES\"] + '/' + x[\"SolventSMILES\"]\n",
        "\n",
        "function_applied_df = filtered_df.copy()\n",
        "function_applied_df[\"SearchString\"] = function_applied_df.apply(get_string_rep, axis=1)\n",
        "function_applied_df"
      ],
      "metadata": {
        "colab": {
          "base_uri": "https://localhost:8080/",
          "height": 206
        },
        "id": "KBd1LdnFx-J9",
        "outputId": "ba5e4103-ef13-4a3b-d19f-55886119cc96"
      },
      "execution_count": null,
      "outputs": [
        {
          "output_type": "execute_result",
          "data": {
            "text/plain": [
              "                   Solute    Solvent     SoluteSMILES SolventSMILES  \\\n",
              "90       MOLECULAR OXYGEN  UNDECANOL              O=O  CCCCCCCCCCCO   \n",
              "165    MOLECULAR NITROGEN  UNDECANOL              N#N  CCCCCCCCCCCO   \n",
              "230   SULFUR HEXAFLUORIDE  UNDECANOL  FS(F)(F)(F)(F)F  CCCCCCCCCCCO   \n",
              "5662     PERFLUOROMETHANE  UNDECANOL      C(F)(F)(F)F  CCCCCCCCCCCO   \n",
              "6159              METHANE  UNDECANOL                C  CCCCCCCCCCCO   \n",
              "\n",
              "      DeltaGsolv                  SearchString  \n",
              "90          1.11              O=O/CCCCCCCCCCCO  \n",
              "165         1.46              N#N/CCCCCCCCCCCO  \n",
              "230         0.49  FS(F)(F)(F)(F)F/CCCCCCCCCCCO  \n",
              "5662        1.39      C(F)(F)(F)F/CCCCCCCCCCCO  \n",
              "6159        0.56                C/CCCCCCCCCCCO  "
            ],
            "text/html": [
              "\n",
              "  <div id=\"df-4eb45738-43c4-446d-a2f0-596ddca0e7ff\">\n",
              "    <div class=\"colab-df-container\">\n",
              "      <div>\n",
              "<style scoped>\n",
              "    .dataframe tbody tr th:only-of-type {\n",
              "        vertical-align: middle;\n",
              "    }\n",
              "\n",
              "    .dataframe tbody tr th {\n",
              "        vertical-align: top;\n",
              "    }\n",
              "\n",
              "    .dataframe thead th {\n",
              "        text-align: right;\n",
              "    }\n",
              "</style>\n",
              "<table border=\"1\" class=\"dataframe\">\n",
              "  <thead>\n",
              "    <tr style=\"text-align: right;\">\n",
              "      <th></th>\n",
              "      <th>Solute</th>\n",
              "      <th>Solvent</th>\n",
              "      <th>SoluteSMILES</th>\n",
              "      <th>SolventSMILES</th>\n",
              "      <th>DeltaGsolv</th>\n",
              "      <th>SearchString</th>\n",
              "    </tr>\n",
              "  </thead>\n",
              "  <tbody>\n",
              "    <tr>\n",
              "      <th>90</th>\n",
              "      <td>MOLECULAR OXYGEN</td>\n",
              "      <td>UNDECANOL</td>\n",
              "      <td>O=O</td>\n",
              "      <td>CCCCCCCCCCCO</td>\n",
              "      <td>1.11</td>\n",
              "      <td>O=O/CCCCCCCCCCCO</td>\n",
              "    </tr>\n",
              "    <tr>\n",
              "      <th>165</th>\n",
              "      <td>MOLECULAR NITROGEN</td>\n",
              "      <td>UNDECANOL</td>\n",
              "      <td>N#N</td>\n",
              "      <td>CCCCCCCCCCCO</td>\n",
              "      <td>1.46</td>\n",
              "      <td>N#N/CCCCCCCCCCCO</td>\n",
              "    </tr>\n",
              "    <tr>\n",
              "      <th>230</th>\n",
              "      <td>SULFUR HEXAFLUORIDE</td>\n",
              "      <td>UNDECANOL</td>\n",
              "      <td>FS(F)(F)(F)(F)F</td>\n",
              "      <td>CCCCCCCCCCCO</td>\n",
              "      <td>0.49</td>\n",
              "      <td>FS(F)(F)(F)(F)F/CCCCCCCCCCCO</td>\n",
              "    </tr>\n",
              "    <tr>\n",
              "      <th>5662</th>\n",
              "      <td>PERFLUOROMETHANE</td>\n",
              "      <td>UNDECANOL</td>\n",
              "      <td>C(F)(F)(F)F</td>\n",
              "      <td>CCCCCCCCCCCO</td>\n",
              "      <td>1.39</td>\n",
              "      <td>C(F)(F)(F)F/CCCCCCCCCCCO</td>\n",
              "    </tr>\n",
              "    <tr>\n",
              "      <th>6159</th>\n",
              "      <td>METHANE</td>\n",
              "      <td>UNDECANOL</td>\n",
              "      <td>C</td>\n",
              "      <td>CCCCCCCCCCCO</td>\n",
              "      <td>0.56</td>\n",
              "      <td>C/CCCCCCCCCCCO</td>\n",
              "    </tr>\n",
              "  </tbody>\n",
              "</table>\n",
              "</div>\n",
              "      <button class=\"colab-df-convert\" onclick=\"convertToInteractive('df-4eb45738-43c4-446d-a2f0-596ddca0e7ff')\"\n",
              "              title=\"Convert this dataframe to an interactive table.\"\n",
              "              style=\"display:none;\">\n",
              "        \n",
              "  <svg xmlns=\"http://www.w3.org/2000/svg\" height=\"24px\"viewBox=\"0 0 24 24\"\n",
              "       width=\"24px\">\n",
              "    <path d=\"M0 0h24v24H0V0z\" fill=\"none\"/>\n",
              "    <path d=\"M18.56 5.44l.94 2.06.94-2.06 2.06-.94-2.06-.94-.94-2.06-.94 2.06-2.06.94zm-11 1L8.5 8.5l.94-2.06 2.06-.94-2.06-.94L8.5 2.5l-.94 2.06-2.06.94zm10 10l.94 2.06.94-2.06 2.06-.94-2.06-.94-.94-2.06-.94 2.06-2.06.94z\"/><path d=\"M17.41 7.96l-1.37-1.37c-.4-.4-.92-.59-1.43-.59-.52 0-1.04.2-1.43.59L10.3 9.45l-7.72 7.72c-.78.78-.78 2.05 0 2.83L4 21.41c.39.39.9.59 1.41.59.51 0 1.02-.2 1.41-.59l7.78-7.78 2.81-2.81c.8-.78.8-2.07 0-2.86zM5.41 20L4 18.59l7.72-7.72 1.47 1.35L5.41 20z\"/>\n",
              "  </svg>\n",
              "      </button>\n",
              "      \n",
              "  <style>\n",
              "    .colab-df-container {\n",
              "      display:flex;\n",
              "      flex-wrap:wrap;\n",
              "      gap: 12px;\n",
              "    }\n",
              "\n",
              "    .colab-df-convert {\n",
              "      background-color: #E8F0FE;\n",
              "      border: none;\n",
              "      border-radius: 50%;\n",
              "      cursor: pointer;\n",
              "      display: none;\n",
              "      fill: #1967D2;\n",
              "      height: 32px;\n",
              "      padding: 0 0 0 0;\n",
              "      width: 32px;\n",
              "    }\n",
              "\n",
              "    .colab-df-convert:hover {\n",
              "      background-color: #E2EBFA;\n",
              "      box-shadow: 0px 1px 2px rgba(60, 64, 67, 0.3), 0px 1px 3px 1px rgba(60, 64, 67, 0.15);\n",
              "      fill: #174EA6;\n",
              "    }\n",
              "\n",
              "    [theme=dark] .colab-df-convert {\n",
              "      background-color: #3B4455;\n",
              "      fill: #D2E3FC;\n",
              "    }\n",
              "\n",
              "    [theme=dark] .colab-df-convert:hover {\n",
              "      background-color: #434B5C;\n",
              "      box-shadow: 0px 1px 3px 1px rgba(0, 0, 0, 0.15);\n",
              "      filter: drop-shadow(0px 1px 2px rgba(0, 0, 0, 0.3));\n",
              "      fill: #FFFFFF;\n",
              "    }\n",
              "  </style>\n",
              "\n",
              "      <script>\n",
              "        const buttonEl =\n",
              "          document.querySelector('#df-4eb45738-43c4-446d-a2f0-596ddca0e7ff button.colab-df-convert');\n",
              "        buttonEl.style.display =\n",
              "          google.colab.kernel.accessAllowed ? 'block' : 'none';\n",
              "\n",
              "        async function convertToInteractive(key) {\n",
              "          const element = document.querySelector('#df-4eb45738-43c4-446d-a2f0-596ddca0e7ff');\n",
              "          const dataTable =\n",
              "            await google.colab.kernel.invokeFunction('convertToInteractive',\n",
              "                                                     [key], {});\n",
              "          if (!dataTable) return;\n",
              "\n",
              "          const docLinkHtml = 'Like what you see? Visit the ' +\n",
              "            '<a target=\"_blank\" href=https://colab.research.google.com/notebooks/data_table.ipynb>data table notebook</a>'\n",
              "            + ' to learn more about interactive tables.';\n",
              "          element.innerHTML = '';\n",
              "          dataTable['output_type'] = 'display_data';\n",
              "          await google.colab.output.renderOutput(dataTable, element);\n",
              "          const docLink = document.createElement('div');\n",
              "          docLink.innerHTML = docLinkHtml;\n",
              "          element.appendChild(docLink);\n",
              "        }\n",
              "      </script>\n",
              "    </div>\n",
              "  </div>\n",
              "  "
            ]
          },
          "metadata": {},
          "execution_count": 71
        }
      ]
    },
    {
      "cell_type": "markdown",
      "source": [
        "**Exercise Question:**\n",
        "For each solvent, compute the mean of the solvation free energies of those molecules which have a negative free energy value and do not have a Fluorine in the molecular formula."
      ],
      "metadata": {
        "id": "OYix3PYcxq0J"
      }
    },
    {
      "cell_type": "markdown",
      "source": [
        "## 5. Writing back CSV files"
      ],
      "metadata": {
        "id": "2ZXF7UhM-neS"
      }
    },
    {
      "cell_type": "markdown",
      "source": [
        "We can write back our processed dataframes to disk to load it another time and start from there. To `to_csv` function writes back a dataframe to a CSV file."
      ],
      "metadata": {
        "id": "Z5Y-skxN_jpb"
      }
    },
    {
      "cell_type": "code",
      "source": [
        "filtered_df.to_csv(\"filtered_solvatum.csv\", sep=\";\", index=False)"
      ],
      "metadata": {
        "id": "wxz7tvC3ZKqd"
      },
      "execution_count": null,
      "outputs": []
    },
    {
      "cell_type": "markdown",
      "source": [
        "Let's take a look at the file we just saved."
      ],
      "metadata": {
        "id": "Yi0LZ-8O_h0b"
      }
    },
    {
      "cell_type": "code",
      "source": [
        "with open(\"filtered_solvatum.csv\", \"r\") as f:\n",
        "    print(\"\".join(f.readlines()[:5]))"
      ],
      "metadata": {
        "colab": {
          "base_uri": "https://localhost:8080/"
        },
        "id": "de_TmKR8-uw-",
        "outputId": "dd5a6a18-2762-4582-9bf1-e7bd2c07e674"
      },
      "execution_count": null,
      "outputs": [
        {
          "output_type": "stream",
          "name": "stdout",
          "text": [
            "Solute;Solvent;SoluteSMILES;SolventSMILES;DeltaGsolv\n",
            "MOLECULAR OXYGEN;UNDECANOL;O=O;CCCCCCCCCCCO;1.11\n",
            "MOLECULAR NITROGEN;UNDECANOL;N#N;CCCCCCCCCCCO;1.46\n",
            "SULFUR HEXAFLUORIDE;UNDECANOL;FS(F)(F)(F)(F)F;CCCCCCCCCCCO;0.49\n",
            "PERFLUOROMETHANE;UNDECANOL;C(F)(F)(F)F;CCCCCCCCCCCO;1.39\n",
            "\n"
          ]
        }
      ]
    },
    {
      "cell_type": "markdown",
      "source": [
        "## 6. Making some basic plots"
      ],
      "metadata": {
        "id": "cTt3ZIjkAkH5"
      }
    },
    {
      "cell_type": "markdown",
      "source": [
        "We can make histograms any column of our data."
      ],
      "metadata": {
        "id": "9_rDnAn3CBaT"
      }
    },
    {
      "cell_type": "code",
      "source": [
        "import seaborn as sns\n",
        "from matplotlib import pyplot as plt"
      ],
      "metadata": {
        "id": "fqDRvCaN25eF"
      },
      "execution_count": null,
      "outputs": []
    },
    {
      "cell_type": "code",
      "source": [
        "sns.histplot(df[\"DeltaGsolv\"])\n",
        "plt.show()"
      ],
      "metadata": {
        "colab": {
          "base_uri": "https://localhost:8080/",
          "height": 279
        },
        "id": "hcOt3t3hAmf-",
        "outputId": "5c21d13c-be73-475c-cf73-321d954e9017"
      },
      "execution_count": null,
      "outputs": [
        {
          "output_type": "display_data",
          "data": {
            "text/plain": [
              "<Figure size 432x288 with 1 Axes>"
            ],
            "image/png": "[encoded data removed]"
          },
          "metadata": {
            "needs_background": "light"
          }
        }
      ]
    },
    {
      "cell_type": "markdown",
      "source": [
        "Or we can try to plot the mean and variance of the solvation energies for every solvent and see the differences accross those."
      ],
      "metadata": {
        "id": "DXNn4vckCE_5"
      }
    },
    {
      "cell_type": "code",
      "source": [
        "plt.figure(figsize=(15, 8))\n",
        "sns.boxplot(x='Solvent', y='DeltaGsolv', data=df.sample(100))\n",
        "plt.xticks(rotation = 90)\n",
        "plt.show()"
      ],
      "metadata": {
        "colab": {
          "base_uri": "https://localhost:8080/",
          "height": 700
        },
        "id": "VveXpngiBEsw",
        "outputId": "0630e9da-34f0-4803-9a03-e6a5e5dea98d"
      },
      "execution_count": null,
      "outputs": [
        {
          "output_type": "display_data",
          "data": {
            "text/plain": [
              "<Figure size 1080x576 with 1 Axes>"
            ],
            "image/png": "[encoded data removed]"
          },
          "metadata": {
            "needs_background": "light"
          }
        }
      ]
    },
    {
      "cell_type": "markdown",
      "source": [
        "Or we can combine both and make violin plots, which are histograms made independently for each class and stacked together horizontally."
      ],
      "metadata": {
        "id": "gXjWl0ePCM86"
      }
    },
    {
      "cell_type": "code",
      "source": [
        "plt.figure(figsize=(15, 8))\n",
        "sns.violinplot(x='Solvent', y='DeltaGsolv', data=df.sample(50))\n",
        "plt.xticks(rotation = 90)\n",
        "plt.show()"
      ],
      "metadata": {
        "colab": {
          "base_uri": "https://localhost:8080/",
          "height": 617
        },
        "id": "EDPplJBRCUrl",
        "outputId": "bd2bd692-d80e-425d-9a7c-f6d40bccce81"
      },
      "execution_count": null,
      "outputs": [
        {
          "output_type": "display_data",
          "data": {
            "text/plain": [
              "<Figure size 1080x576 with 1 Axes>"
            ],
            "image/png": "[encoded data removed]"
          },
          "metadata": {
            "needs_background": "light"
          }
        }
      ]
    },
    {
      "cell_type": "markdown",
      "source": [
        "**Exercise Question:** Plot a histogram of the squares of the solvation free energy values."
      ],
      "metadata": {
        "id": "OB0WGxrgzWD_"
      }
    },
    {
      "cell_type": "markdown",
      "source": [
        "## 7. Advanced Data Processing for Chemistry"
      ],
      "metadata": {
        "id": "VIeOLOHkADI2"
      }
    },
    {
      "cell_type": "markdown",
      "source": [
        "Hack to setup RDKit in Colab. Not needed when running on local machines."
      ],
      "metadata": {
        "id": "-hLi5XqQDjk4"
      }
    },
    {
      "cell_type": "code",
      "source": [
        "!wget -c https://repo.continuum.io/miniconda/Miniconda3-py37_4.8.3-Linux-x86_64.sh\n",
        "!chmod +x Miniconda3-py37_4.8.3-Linux-x86_64.sh\n",
        "!time bash ./Miniconda3-py37_4.8.3-Linux-x86_64.sh -b -f -p /usr/local\n",
        "!time conda install -q -y -c rdkit rdkit\n",
        "\n",
        "import sys\n",
        "sys.path.append('/usr/local/lib/python3.7/site-packages/')"
      ],
      "metadata": {
        "colab": {
          "base_uri": "https://localhost:8080/"
        },
        "id": "yo8aCYbWAFj5",
        "outputId": "638adc30-cb4d-4711-aad2-db21fdb4bccb"
      },
      "execution_count": null,
      "outputs": [
        {
          "output_type": "stream",
          "name": "stdout",
          "text": [
            "--2022-03-25 13:04:48--  https://repo.continuum.io/miniconda/Miniconda3-py37_4.8.3-Linux-x86_64.sh\n",
            "Resolving repo.continuum.io (repo.continuum.io)... 104.18.201.79, 104.18.200.79, 2606:4700::6812:c84f, ...\n",
            "Connecting to repo.continuum.io (repo.continuum.io)|104.18.201.79|:443... connected.\n",
            "HTTP request sent, awaiting response... 301 Moved Permanently\n",
            "Location: https://repo.anaconda.com/miniconda/Miniconda3-py37_4.8.3-Linux-x86_64.sh [following]\n",
            "--2022-03-25 13:04:48--  https://repo.anaconda.com/miniconda/Miniconda3-py37_4.8.3-Linux-x86_64.sh\n",
            "Resolving repo.anaconda.com (repo.anaconda.com)... 104.16.131.3, 104.16.130.3, 2606:4700::6810:8203, ...\n",
            "Connecting to repo.anaconda.com (repo.anaconda.com)|104.16.131.3|:443... connected.\n",
            "HTTP request sent, awaiting response... 200 OK\n",
            "Length: 88867207 (85M) [application/x-sh]\n",
            "Saving to: ‘Miniconda3-py37_4.8.3-Linux-x86_64.sh’\n",
            "\n",
            "Miniconda3-py37_4.8 100%[===================>]  84.75M   123MB/s    in 0.7s    \n",
            "\n",
            "2022-03-25 13:04:49 (123 MB/s) - ‘Miniconda3-py37_4.8.3-Linux-x86_64.sh’ saved [88867207/88867207]\n",
            "\n",
            "PREFIX=/usr/local\n",
            "Unpacking payload ...\n",
            "Collecting package metadata (current_repodata.json): - \b\b\\ \b\b| \b\b/ \b\b- \b\bdone\n",
            "Solving environment: | \b\b/ \b\b- \b\b\\ \b\bdone\n",
            "\n",
            "## Package Plan ##\n",
            "\n",
            "  environment location: /usr/local\n",
            "\n",
            "  added / updated specs:\n",
            "    - _libgcc_mutex==0.1=main\n",
            "    - ca-certificates==2020.1.1=0\n",
            "    - certifi==2020.4.5.1=py37_0\n",
            "    - cffi==1.14.0=py37he30daa8_1\n",
            "    - chardet==3.0.4=py37_1003\n",
            "    - conda-package-handling==1.6.1=py37h7b6447c_0\n",
            "    - conda==4.8.3=py37_0\n",
            "    - cryptography==2.9.2=py37h1ba5d50_0\n",
            "    - idna==2.9=py_1\n",
            "    - ld_impl_linux-64==2.33.1=h53a641e_7\n",
            "    - libedit==3.1.20181209=hc058e9b_0\n",
            "    - libffi==3.3=he6710b0_1\n",
            "    - libgcc-ng==9.1.0=hdf63c60_0\n",
            "    - libstdcxx-ng==9.1.0=hdf63c60_0\n",
            "    - ncurses==6.2=he6710b0_1\n",
            "    - openssl==1.1.1g=h7b6447c_0\n",
            "    - pip==20.0.2=py37_3\n",
            "    - pycosat==0.6.3=py37h7b6447c_0\n",
            "    - pycparser==2.20=py_0\n",
            "    - pyopenssl==19.1.0=py37_0\n",
            "    - pysocks==1.7.1=py37_0\n",
            "    - python==3.7.7=hcff3b4d_5\n",
            "    - readline==8.0=h7b6447c_0\n",
            "    - requests==2.23.0=py37_0\n",
            "    - ruamel_yaml==0.15.87=py37h7b6447c_0\n",
            "    - setuptools==46.4.0=py37_0\n",
            "    - six==1.14.0=py37_0\n",
            "    - sqlite==3.31.1=h62c20be_1\n",
            "    - tk==8.6.8=hbc83047_0\n",
            "    - tqdm==4.46.0=py_0\n",
            "    - urllib3==1.25.8=py37_0\n",
            "    - wheel==0.34.2=py37_0\n",
            "    - xz==5.2.5=h7b6447c_0\n",
            "    - yaml==0.1.7=had09818_2\n",
            "    - zlib==1.2.11=h7b6447c_3\n",
            "\n",
            "\n",
            "The following NEW packages will be INSTALLED:\n",
            "\n",
            "  _libgcc_mutex      pkgs/main/linux-64::_libgcc_mutex-0.1-main\n",
            "  ca-certificates    pkgs/main/linux-64::ca-certificates-2020.1.1-0\n",
            "  certifi            pkgs/main/linux-64::certifi-2020.4.5.1-py37_0\n",
            "  cffi               pkgs/main/linux-64::cffi-1.14.0-py37he30daa8_1\n",
            "  chardet            pkgs/main/linux-64::chardet-3.0.4-py37_1003\n",
            "  conda              pkgs/main/linux-64::conda-4.8.3-py37_0\n",
            "  conda-package-han~ pkgs/main/linux-64::conda-package-handling-1.6.1-py37h7b6447c_0\n",
            "  cryptography       pkgs/main/linux-64::cryptography-2.9.2-py37h1ba5d50_0\n",
            "  idna               pkgs/main/noarch::idna-2.9-py_1\n",
            "  ld_impl_linux-64   pkgs/main/linux-64::ld_impl_linux-64-2.33.1-h53a641e_7\n",
            "  libedit            pkgs/main/linux-64::libedit-3.1.20181209-hc058e9b_0\n",
            "  libffi             pkgs/main/linux-64::libffi-3.3-he6710b0_1\n",
            "  libgcc-ng          pkgs/main/linux-64::libgcc-ng-9.1.0-hdf63c60_0\n",
            "  libstdcxx-ng       pkgs/main/linux-64::libstdcxx-ng-9.1.0-hdf63c60_0\n",
            "  ncurses            pkgs/main/linux-64::ncurses-6.2-he6710b0_1\n",
            "  openssl            pkgs/main/linux-64::openssl-1.1.1g-h7b6447c_0\n",
            "  pip                pkgs/main/linux-64::pip-20.0.2-py37_3\n",
            "  pycosat            pkgs/main/linux-64::pycosat-0.6.3-py37h7b6447c_0\n",
            "  pycparser          pkgs/main/noarch::pycparser-2.20-py_0\n",
            "  pyopenssl          pkgs/main/linux-64::pyopenssl-19.1.0-py37_0\n",
            "  pysocks            pkgs/main/linux-64::pysocks-1.7.1-py37_0\n",
            "  python             pkgs/main/linux-64::python-3.7.7-hcff3b4d_5\n",
            "  readline           pkgs/main/linux-64::readline-8.0-h7b6447c_0\n",
            "  requests           pkgs/main/linux-64::requests-2.23.0-py37_0\n",
            "  ruamel_yaml        pkgs/main/linux-64::ruamel_yaml-0.15.87-py37h7b6447c_0\n",
            "  setuptools         pkgs/main/linux-64::setuptools-46.4.0-py37_0\n",
            "  six                pkgs/main/linux-64::six-1.14.0-py37_0\n",
            "  sqlite             pkgs/main/linux-64::sqlite-3.31.1-h62c20be_1\n",
            "  tk                 pkgs/main/linux-64::tk-8.6.8-hbc83047_0\n",
            "  tqdm               pkgs/main/noarch::tqdm-4.46.0-py_0\n",
            "  urllib3            pkgs/main/linux-64::urllib3-1.25.8-py37_0\n",
            "  wheel              pkgs/main/linux-64::wheel-0.34.2-py37_0\n",
            "  xz                 pkgs/main/linux-64::xz-5.2.5-h7b6447c_0\n",
            "  yaml               pkgs/main/linux-64::yaml-0.1.7-had09818_2\n",
            "  zlib               pkgs/main/linux-64::zlib-1.2.11-h7b6447c_3\n",
            "\n",
            "\n",
            "Preparing transaction: / \b\b- \b\b\\ \b\b| \b\b/ \b\b- \b\b\\ \b\bdone\n",
            "Executing transaction: / \b\b- \b\b\\ \b\b| \b\b/ \b\b- \b\b\\ \b\b| \b\b/ \b\b- \b\b\\ \b\b| \b\b/ \b\b- \b\b\\ \b\b| \b\b/ \b\b- \b\b\\ \b\b| \b\b/ \b\b- \b\b\\ \b\b| \b\b/ \b\b- \b\b\\ \b\b| \b\b/ \b\b- \b\bdone\n",
            "installation finished.\n",
            "WARNING:\n",
            "    You currently have a PYTHONPATH environment variable set. This may cause\n",
            "    unexpected behavior when running the Python interpreter in Miniconda3.\n",
            "    For best results, please verify that your PYTHONPATH only points to\n",
            "    directories of packages that are compatible with the Python interpreter\n",
            "    in Miniconda3: /usr/local\n",
            "\n",
            "real\t0m26.537s\n",
            "user\t0m17.668s\n",
            "sys\t0m4.781s\n",
            "Collecting package metadata (current_repodata.json): ...working... done\n",
            "Solving environment: ...working... done\n",
            "\n",
            "## Package Plan ##\n",
            "\n",
            "  environment location: /usr/local\n",
            "\n",
            "  added / updated specs:\n",
            "    - rdkit\n",
            "\n",
            "\n",
            "The following packages will be downloaded:\n",
            "\n",
            "    package                    |            build\n",
            "    ---------------------------|-----------------\n",
            "    _openmp_mutex-4.5          |            1_gnu          22 KB\n",
            "    blas-1.0                   |              mkl           6 KB\n",
            "    bottleneck-1.3.4           |   py37hce1f21e_0         126 KB\n",
            "    bzip2-1.0.8                |       h7b6447c_0          78 KB\n",
            "    ca-certificates-2022.3.18  |       h06a4308_0         121 KB\n",
            "    cairo-1.16.0               |       hf32fb01_1         1.0 MB\n",
            "    certifi-2021.10.8          |   py37h06a4308_2         151 KB\n",
            "    conda-4.12.0               |   py37h06a4308_0        14.5 MB\n",
            "    fontconfig-2.13.1          |       h6c09931_0         250 KB\n",
            "    freetype-2.11.0            |       h70c0345_0         618 KB\n",
            "    giflib-5.2.1               |       h7b6447c_0          78 KB\n",
            "    glib-2.69.1                |       h4ff587b_1         1.7 MB\n",
            "    icu-58.2                   |       he6710b0_3        10.5 MB\n",
            "    intel-openmp-2021.4.0      |    h06a4308_3561         4.2 MB\n",
            "    jpeg-9d                    |       h7f8727e_0         232 KB\n",
            "    lcms2-2.12                 |       h3be6417_0         312 KB\n",
            "    libboost-1.73.0            |      h3ff78a5_11        13.9 MB\n",
            "    libgcc-ng-9.3.0            |      h5101ec6_17         4.8 MB\n",
            "    libgomp-9.3.0              |      h5101ec6_17         311 KB\n",
            "    libpng-1.6.37              |       hbc83047_0         278 KB\n",
            "    libtiff-4.2.0              |       h85742a9_0         502 KB\n",
            "    libuuid-1.0.3              |       h7f8727e_2          17 KB\n",
            "    libwebp-1.2.2              |       h55f646e_0          80 KB\n",
            "    libwebp-base-1.2.2         |       h7f8727e_0         440 KB\n",
            "    libxcb-1.14                |       h7b6447c_0         505 KB\n",
            "    libxml2-2.9.12             |       h03d6c58_0         1.2 MB\n",
            "    lz4-c-1.9.3                |       h295c915_1         185 KB\n",
            "    mkl-2021.4.0               |     h06a4308_640       142.6 MB\n",
            "    mkl-service-2.4.0          |   py37h7f8727e_0          56 KB\n",
            "    mkl_fft-1.3.1              |   py37hd3c417c_0         172 KB\n",
            "    mkl_random-1.2.2           |   py37h51133e4_0         287 KB\n",
            "    numexpr-2.8.1              |   py37h6abb31d_0         123 KB\n",
            "    numpy-1.21.2               |   py37h20f2e39_0          23 KB\n",
            "    numpy-base-1.21.2          |   py37h79a1101_0         4.8 MB\n",
            "    openssl-1.1.1n             |       h7f8727e_0         2.5 MB\n",
            "    packaging-21.3             |     pyhd3eb1b0_0          36 KB\n",
            "    pandas-1.3.4               |   py37h8c16a72_0         9.2 MB\n",
            "    pcre-8.45                  |       h295c915_0         207 KB\n",
            "    pillow-9.0.1               |   py37h22f2fdc_0         652 KB\n",
            "    pixman-0.40.0              |       h7f8727e_1         373 KB\n",
            "    py-boost-1.73.0            |  py37ha9443f7_11         204 KB\n",
            "    pyparsing-3.0.4            |     pyhd3eb1b0_0          81 KB\n",
            "    python-dateutil-2.8.2      |     pyhd3eb1b0_0         233 KB\n",
            "    pytz-2021.3                |     pyhd3eb1b0_0         171 KB\n",
            "    rdkit-2020.09.1.0          |   py37hd50e099_1        25.8 MB  rdkit\n",
            "    zstd-1.4.9                 |       haebb681_0         480 KB\n",
            "    ------------------------------------------------------------\n",
            "                                           Total:       244.0 MB\n",
            "\n",
            "The following NEW packages will be INSTALLED:\n",
            "\n",
            "  _openmp_mutex      pkgs/main/linux-64::_openmp_mutex-4.5-1_gnu\n",
            "  blas               pkgs/main/linux-64::blas-1.0-mkl\n",
            "  bottleneck         pkgs/main/linux-64::bottleneck-1.3.4-py37hce1f21e_0\n",
            "  bzip2              pkgs/main/linux-64::bzip2-1.0.8-h7b6447c_0\n",
            "  cairo              pkgs/main/linux-64::cairo-1.16.0-hf32fb01_1\n",
            "  fontconfig         pkgs/main/linux-64::fontconfig-2.13.1-h6c09931_0\n",
            "  freetype           pkgs/main/linux-64::freetype-2.11.0-h70c0345_0\n",
            "  giflib             pkgs/main/linux-64::giflib-5.2.1-h7b6447c_0\n",
            "  glib               pkgs/main/linux-64::glib-2.69.1-h4ff587b_1\n",
            "  icu                pkgs/main/linux-64::icu-58.2-he6710b0_3\n",
            "  intel-openmp       pkgs/main/linux-64::intel-openmp-2021.4.0-h06a4308_3561\n",
            "  jpeg               pkgs/main/linux-64::jpeg-9d-h7f8727e_0\n",
            "  lcms2              pkgs/main/linux-64::lcms2-2.12-h3be6417_0\n",
            "  libboost           pkgs/main/linux-64::libboost-1.73.0-h3ff78a5_11\n",
            "  libgomp            pkgs/main/linux-64::libgomp-9.3.0-h5101ec6_17\n",
            "  libpng             pkgs/main/linux-64::libpng-1.6.37-hbc83047_0\n",
            "  libtiff            pkgs/main/linux-64::libtiff-4.2.0-h85742a9_0\n",
            "  libuuid            pkgs/main/linux-64::libuuid-1.0.3-h7f8727e_2\n",
            "  libwebp            pkgs/main/linux-64::libwebp-1.2.2-h55f646e_0\n",
            "  libwebp-base       pkgs/main/linux-64::libwebp-base-1.2.2-h7f8727e_0\n",
            "  libxcb             pkgs/main/linux-64::libxcb-1.14-h7b6447c_0\n",
            "  libxml2            pkgs/main/linux-64::libxml2-2.9.12-h03d6c58_0\n",
            "  lz4-c              pkgs/main/linux-64::lz4-c-1.9.3-h295c915_1\n",
            "  mkl                pkgs/main/linux-64::mkl-2021.4.0-h06a4308_640\n",
            "  mkl-service        pkgs/main/linux-64::mkl-service-2.4.0-py37h7f8727e_0\n",
            "  mkl_fft            pkgs/main/linux-64::mkl_fft-1.3.1-py37hd3c417c_0\n",
            "  mkl_random         pkgs/main/linux-64::mkl_random-1.2.2-py37h51133e4_0\n",
            "  numexpr            pkgs/main/linux-64::numexpr-2.8.1-py37h6abb31d_0\n",
            "  numpy              pkgs/main/linux-64::numpy-1.21.2-py37h20f2e39_0\n",
            "  numpy-base         pkgs/main/linux-64::numpy-base-1.21.2-py37h79a1101_0\n",
            "  packaging          pkgs/main/noarch::packaging-21.3-pyhd3eb1b0_0\n",
            "  pandas             pkgs/main/linux-64::pandas-1.3.4-py37h8c16a72_0\n",
            "  pcre               pkgs/main/linux-64::pcre-8.45-h295c915_0\n",
            "  pillow             pkgs/main/linux-64::pillow-9.0.1-py37h22f2fdc_0\n",
            "  pixman             pkgs/main/linux-64::pixman-0.40.0-h7f8727e_1\n",
            "  py-boost           pkgs/main/linux-64::py-boost-1.73.0-py37ha9443f7_11\n",
            "  pyparsing          pkgs/main/noarch::pyparsing-3.0.4-pyhd3eb1b0_0\n",
            "  python-dateutil    pkgs/main/noarch::python-dateutil-2.8.2-pyhd3eb1b0_0\n",
            "  pytz               pkgs/main/noarch::pytz-2021.3-pyhd3eb1b0_0\n",
            "  rdkit              rdkit/linux-64::rdkit-2020.09.1.0-py37hd50e099_1\n",
            "  zstd               pkgs/main/linux-64::zstd-1.4.9-haebb681_0\n",
            "\n",
            "The following packages will be UPDATED:\n",
            "\n",
            "  ca-certificates                                2020.1.1-0 --> 2022.3.18-h06a4308_0\n",
            "  certifi                                 2020.4.5.1-py37_0 --> 2021.10.8-py37h06a4308_2\n",
            "  conda                                        4.8.3-py37_0 --> 4.12.0-py37h06a4308_0\n",
            "  libgcc-ng                                9.1.0-hdf63c60_0 --> 9.3.0-h5101ec6_17\n",
            "  openssl                                 1.1.1g-h7b6447c_0 --> 1.1.1n-h7f8727e_0\n",
            "\n",
            "\n",
            "Preparing transaction: ...working... done\n",
            "Verifying transaction: ...working... done\n",
            "Executing transaction: ...working... done\n",
            "\n",
            "real\t0m41.327s\n",
            "user\t0m23.296s\n",
            "sys\t0m12.484s\n"
          ]
        }
      ]
    },
    {
      "cell_type": "code",
      "source": [
        "import rdkit.Chem\n",
        "import rdkit.Chem.Draw"
      ],
      "metadata": {
        "id": "5Pl2vuB2AcXM"
      },
      "execution_count": null,
      "outputs": []
    },
    {
      "cell_type": "markdown",
      "source": [
        "### Visualizing the Molecules"
      ],
      "metadata": {
        "id": "eDGCVjIQGgxP"
      }
    },
    {
      "cell_type": "code",
      "source": [
        "df[\"Solvent\"].values[:16]"
      ],
      "metadata": {
        "colab": {
          "base_uri": "https://localhost:8080/"
        },
        "id": "YTAhC1avF-XT",
        "outputId": "d4867ee7-cb12-45ac-a220-a02c7eefa85e"
      },
      "execution_count": null,
      "outputs": [
        {
          "output_type": "execute_result",
          "data": {
            "text/plain": [
              "array(['4-FORMYLMORPHOLINE', 'ACETIC ACID', 'ACETONE', 'BROMOBENZENE',\n",
              "       'CHLOROBENZENE', 'DIMETHYLFORMAMIDE', 'ETHYLENE GLYCOL',\n",
              "       'N-METHYLPYRROLIDONE', 'N,N-DIMETHYLACETAMIDE', 'PHENYLAMINE',\n",
              "       'PROPYLENE CARBONATE', 'SULFOLANE',\n",
              "       'TETRAETHYLENE GLYCOL DIMETHYL ETHER', 'TRIBUTYL PHOSPHATE',\n",
              "       'WATER', 'ACETIC ACID'], dtype=object)"
            ]
          },
          "metadata": {},
          "execution_count": 82
        }
      ]
    },
    {
      "cell_type": "code",
      "source": [
        "molecules = [rdkit.Chem.MolFromSmiles(df[\"SolventSMILES\"][i]) for i in range(16)]\n",
        "rdkit.Chem.Draw.MolsToGridImage(molecules, molsPerRow=4, subImgSize=(300,120), legends=[df[\"Solvent\"][i] for i in range(16)])"
      ],
      "metadata": {
        "colab": {
          "base_uri": "https://localhost:8080/",
          "height": 459
        },
        "id": "zkiDyq06De6u",
        "outputId": "e889cb86-0744-4f90-8ff3-1bb4232eed4a"
      },
      "execution_count": null,
      "outputs": [
        {
          "output_type": "execute_result",
          "data": {
            "text/plain": [
              "<PIL.PngImagePlugin.PngImageFile image mode=RGB size=1200x480 at 0x7EFD5DE91B50>"
            ],
            "image/png": "[encoded data removed]"
          },
          "metadata": {},
          "execution_count": 83
        }
      ]
    },
    {
      "cell_type": "markdown",
      "source": [
        "### Filtering based on functional groups"
      ],
      "metadata": {
        "id": "XpECuRB8GdGj"
      }
    },
    {
      "cell_type": "code",
      "source": [
        "def has_carboxyl(molecule):\n",
        "    mol = rdkit.Chem.MolFromSmiles(molecule)\n",
        "    functional_group = rdkit.Chem.MolFromSmarts('C=O')\n",
        "    matches = mol.GetSubstructMatches(functional_group)\n",
        "    return len(matches) != 0\n",
        "\n",
        "featurized_df = df.copy()\n",
        "featurized_df[\"soluteHasCarboxyl\"] = featurized_df[\"SoluteSMILES\"].apply(has_carboxyl)\n",
        "featurized_df[\"solventHasCarboxyl\"] = featurized_df[\"SolventSMILES\"].apply(has_carboxyl)"
      ],
      "metadata": {
        "id": "ETVHK8FwGjZr"
      },
      "execution_count": null,
      "outputs": []
    },
    {
      "cell_type": "code",
      "source": [
        "carboxyl_data = featurized_df.groupby([\"soluteHasCarboxyl\", \"solventHasCarboxyl\"]).mean()\n",
        "carboxyl_data"
      ],
      "metadata": {
        "colab": {
          "base_uri": "https://localhost:8080/",
          "height": 206
        },
        "id": "uXqLQroTOnpp",
        "outputId": "85cdc1a9-825e-40c4-aa7a-c5f4e354c3e9"
      },
      "execution_count": null,
      "outputs": [
        {
          "output_type": "execute_result",
          "data": {
            "text/plain": [
              "                                      DeltaGsolv\n",
              "soluteHasCarboxyl solventHasCarboxyl            \n",
              "False             False                -3.763243\n",
              "                  True                 -3.409470\n",
              "True              False                -4.701427\n",
              "                  True                 -4.376910"
            ],
            "text/html": [
              "\n",
              "  <div id=\"df-57008dfc-ae3c-4156-b993-739bb2e666c8\">\n",
              "    <div class=\"colab-df-container\">\n",
              "      <div>\n",
              "<style scoped>\n",
              "    .dataframe tbody tr th:only-of-type {\n",
              "        vertical-align: middle;\n",
              "    }\n",
              "\n",
              "    .dataframe tbody tr th {\n",
              "        vertical-align: top;\n",
              "    }\n",
              "\n",
              "    .dataframe thead th {\n",
              "        text-align: right;\n",
              "    }\n",
              "</style>\n",
              "<table border=\"1\" class=\"dataframe\">\n",
              "  <thead>\n",
              "    <tr style=\"text-align: right;\">\n",
              "      <th></th>\n",
              "      <th></th>\n",
              "      <th>DeltaGsolv</th>\n",
              "    </tr>\n",
              "    <tr>\n",
              "      <th>soluteHasCarboxyl</th>\n",
              "      <th>solventHasCarboxyl</th>\n",
              "      <th></th>\n",
              "    </tr>\n",
              "  </thead>\n",
              "  <tbody>\n",
              "    <tr>\n",
              "      <th rowspan=\"2\" valign=\"top\">False</th>\n",
              "      <th>False</th>\n",
              "      <td>-3.763243</td>\n",
              "    </tr>\n",
              "    <tr>\n",
              "      <th>True</th>\n",
              "      <td>-3.409470</td>\n",
              "    </tr>\n",
              "    <tr>\n",
              "      <th rowspan=\"2\" valign=\"top\">True</th>\n",
              "      <th>False</th>\n",
              "      <td>-4.701427</td>\n",
              "    </tr>\n",
              "    <tr>\n",
              "      <th>True</th>\n",
              "      <td>-4.376910</td>\n",
              "    </tr>\n",
              "  </tbody>\n",
              "</table>\n",
              "</div>\n",
              "      <button class=\"colab-df-convert\" onclick=\"convertToInteractive('df-57008dfc-ae3c-4156-b993-739bb2e666c8')\"\n",
              "              title=\"Convert this dataframe to an interactive table.\"\n",
              "              style=\"display:none;\">\n",
              "        \n",
              "  <svg xmlns=\"http://www.w3.org/2000/svg\" height=\"24px\"viewBox=\"0 0 24 24\"\n",
              "       width=\"24px\">\n",
              "    <path d=\"M0 0h24v24H0V0z\" fill=\"none\"/>\n",
              "    <path d=\"M18.56 5.44l.94 2.06.94-2.06 2.06-.94-2.06-.94-.94-2.06-.94 2.06-2.06.94zm-11 1L8.5 8.5l.94-2.06 2.06-.94-2.06-.94L8.5 2.5l-.94 2.06-2.06.94zm10 10l.94 2.06.94-2.06 2.06-.94-2.06-.94-.94-2.06-.94 2.06-2.06.94z\"/><path d=\"M17.41 7.96l-1.37-1.37c-.4-.4-.92-.59-1.43-.59-.52 0-1.04.2-1.43.59L10.3 9.45l-7.72 7.72c-.78.78-.78 2.05 0 2.83L4 21.41c.39.39.9.59 1.41.59.51 0 1.02-.2 1.41-.59l7.78-7.78 2.81-2.81c.8-.78.8-2.07 0-2.86zM5.41 20L4 18.59l7.72-7.72 1.47 1.35L5.41 20z\"/>\n",
              "  </svg>\n",
              "      </button>\n",
              "      \n",
              "  <style>\n",
              "    .colab-df-container {\n",
              "      display:flex;\n",
              "      flex-wrap:wrap;\n",
              "      gap: 12px;\n",
              "    }\n",
              "\n",
              "    .colab-df-convert {\n",
              "      background-color: #E8F0FE;\n",
              "      border: none;\n",
              "      border-radius: 50%;\n",
              "      cursor: pointer;\n",
              "      display: none;\n",
              "      fill: #1967D2;\n",
              "      height: 32px;\n",
              "      padding: 0 0 0 0;\n",
              "      width: 32px;\n",
              "    }\n",
              "\n",
              "    .colab-df-convert:hover {\n",
              "      background-color: #E2EBFA;\n",
              "      box-shadow: 0px 1px 2px rgba(60, 64, 67, 0.3), 0px 1px 3px 1px rgba(60, 64, 67, 0.15);\n",
              "      fill: #174EA6;\n",
              "    }\n",
              "\n",
              "    [theme=dark] .colab-df-convert {\n",
              "      background-color: #3B4455;\n",
              "      fill: #D2E3FC;\n",
              "    }\n",
              "\n",
              "    [theme=dark] .colab-df-convert:hover {\n",
              "      background-color: #434B5C;\n",
              "      box-shadow: 0px 1px 3px 1px rgba(0, 0, 0, 0.15);\n",
              "      filter: drop-shadow(0px 1px 2px rgba(0, 0, 0, 0.3));\n",
              "      fill: #FFFFFF;\n",
              "    }\n",
              "  </style>\n",
              "\n",
              "      <script>\n",
              "        const buttonEl =\n",
              "          document.querySelector('#df-57008dfc-ae3c-4156-b993-739bb2e666c8 button.colab-df-convert');\n",
              "        buttonEl.style.display =\n",
              "          google.colab.kernel.accessAllowed ? 'block' : 'none';\n",
              "\n",
              "        async function convertToInteractive(key) {\n",
              "          const element = document.querySelector('#df-57008dfc-ae3c-4156-b993-739bb2e666c8');\n",
              "          const dataTable =\n",
              "            await google.colab.kernel.invokeFunction('convertToInteractive',\n",
              "                                                     [key], {});\n",
              "          if (!dataTable) return;\n",
              "\n",
              "          const docLinkHtml = 'Like what you see? Visit the ' +\n",
              "            '<a target=\"_blank\" href=https://colab.research.google.com/notebooks/data_table.ipynb>data table notebook</a>'\n",
              "            + ' to learn more about interactive tables.';\n",
              "          element.innerHTML = '';\n",
              "          dataTable['output_type'] = 'display_data';\n",
              "          await google.colab.output.renderOutput(dataTable, element);\n",
              "          const docLink = document.createElement('div');\n",
              "          docLink.innerHTML = docLinkHtml;\n",
              "          element.appendChild(docLink);\n",
              "        }\n",
              "      </script>\n",
              "    </div>\n",
              "  </div>\n",
              "  "
            ]
          },
          "metadata": {},
          "execution_count": 85
        }
      ]
    },
    {
      "cell_type": "code",
      "source": [
        "sns.heatmap(\n",
        "    carboxyl_data.values.reshape(2, 2), \n",
        "    yticklabels=[\"solute does not\", \"solute has carboxyl\"], \n",
        "    xticklabels=[\"solvent does not\", \"solvent has carboxyl\"]\n",
        ")\n",
        "plt.show()"
      ],
      "metadata": {
        "colab": {
          "base_uri": "https://localhost:8080/",
          "height": 265
        },
        "id": "5b07hso2PDDd",
        "outputId": "a767f091-3384-4110-c349-7df2ec482be9"
      },
      "execution_count": null,
      "outputs": [
        {
          "output_type": "display_data",
          "data": {
            "text/plain": [
              "<Figure size 432x288 with 2 Axes>"
            ],
            "image/png": "[encoded data removed]"
          },
          "metadata": {
            "needs_background": "light"
          }
        }
      ]
    },
    {
      "cell_type": "markdown",
      "source": [
        "**Exercise Question:** Make a 4x4 heatmap for the max value of solvation free energy when the solute and solvent each have carboxyl, alcohol, both, or neither."
      ],
      "metadata": {
        "id": "kellb4Pizeg2"
      }
    },
    {
      "cell_type": "markdown",
      "source": [
        "## 8. Further Reading"
      ],
      "metadata": {
        "id": "Jl55DYDyRivn"
      }
    },
    {
      "cell_type": "markdown",
      "source": [
        "* To learn about Pandas in detail, do the exercises and tutorials over at: https://www.kaggle.com/learn/pandas\n",
        "* To learn about Seaborn in detail, do the exercises and tutorials over at: https://www.kaggle.com/learn/data-visualization\n"
      ],
      "metadata": {
        "id": "noLmbMOcRlNJ"
      }
    }
  ]
}