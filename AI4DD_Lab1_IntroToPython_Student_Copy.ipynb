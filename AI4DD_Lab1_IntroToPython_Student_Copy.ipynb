{
  "nbformat": 4,
  "nbformat_minor": 0,
  "metadata": {
    "colab": {
      "name": "AI4DD_Lab1_IntroToPython Student Copy",
      "provenance": [],
      "collapsed_sections": [],
      "include_colab_link": true
    },
    "kernelspec": {
      "name": "python3",
      "display_name": "Python 3"
    },
    "language_info": {
      "name": "python"
    }
  },
  "cells": [
    {
      "cell_type": "markdown",
      "metadata": {
        "id": "view-in-github",
        "colab_type": "text"
      },
      "source": [
        "<a href=\"https://colab.research.google.com/github/ipman101/AI/blob/main/AI4DD_Lab1_IntroToPython_Student_Copy.ipynb\" target=\"_parent\"><img src=\"https://colab.research.google.com/assets/colab-badge.svg\" alt=\"Open In Colab\"/></a>"
      ]
    },
    {
      "cell_type": "markdown",
      "source": [
        "## Variables, Datatypes, Type Casting"
      ],
      "metadata": {
        "id": "M08WnjO8tHUi"
      }
    },
    {
      "cell_type": "markdown",
      "source": [
        "\\Imagine you need to add two integers, and print the result, the C code would look something like this: \n",
        "\n",
        "```c\n",
        "int main{\n",
        "    int a = 10;\n",
        "    int b = 20;\n",
        "    int c;\n",
        "\n",
        "    c = a + b;\n",
        "\n",
        "    printf(\"%d\", c);\n",
        "\n",
        "    return 0;\n",
        "}\n",
        "```\n",
        "\n",
        "\n"
      ],
      "metadata": {
        "id": "ypX_ZXm3b9bZ"
      }
    },
    {
      "cell_type": "code",
      "source": [
        "a = 10\n",
        "b = 20\n",
        "\n",
        "sum = a + b\n",
        "\n",
        "print(sum)"
      ],
      "metadata": {
        "colab": {
          "base_uri": "https://localhost:8080/"
        },
        "id": "5Wwfx4uQkM1X",
        "outputId": "20e33a45-e565-4468-ad40-445a8992f508"
      },
      "execution_count": 25,
      "outputs": [
        {
          "output_type": "stream",
          "name": "stdout",
          "text": [
            "30\n"
          ]
        }
      ]
    },
    {
      "cell_type": "markdown",
      "source": [
        "Imagine you need to add two floating point numbers, and print the result, the C code would look something like this: \n",
        "\n",
        "```c\n",
        "int main{\n",
        "    float a = 10.0;\n",
        "    float b = 20.0;\n",
        "    float c;\n",
        "\n",
        "    c = a + b;\n",
        "\n",
        "    printf(\"%f\", c);\n",
        "    return 0;\n",
        "}\n",
        "```\n",
        "\n"
      ],
      "metadata": {
        "id": "WRDx1XoqkhlL"
      }
    },
    {
      "cell_type": "code",
      "source": [
        "a = 10.0\n",
        "b = 20.0\n",
        "\n",
        "sum = a + b\n",
        "\n",
        "print(sum)"
      ],
      "metadata": {
        "colab": {
          "base_uri": "https://localhost:8080/"
        },
        "id": "WZGAXuQ9kvkN",
        "outputId": "96740714-8901-4a77-c93b-bd54fadbda29"
      },
      "execution_count": 26,
      "outputs": [
        {
          "output_type": "stream",
          "name": "stdout",
          "text": [
            "30.0\n"
          ]
        }
      ]
    },
    {
      "cell_type": "code",
      "source": [
        "var_1 = 70\n",
        "var_2 = 70.0\n",
        "var_3 = \"70\""
      ],
      "metadata": {
        "id": "ygIuo6EN3mdR"
      },
      "execution_count": 27,
      "outputs": []
    },
    {
      "cell_type": "code",
      "source": [
        "var_1 = 70    # int\n",
        "var_2 = 70.0  # float\n",
        "var_3 = \"70\"  # string\n",
        "\n",
        "print(type(var_1)) # use the type() function to get the datatype"
      ],
      "metadata": {
        "colab": {
          "base_uri": "https://localhost:8080/"
        },
        "id": "AbW7SWURvGkr",
        "outputId": "9580ebce-771e-438a-c6be-193a8027b83d"
      },
      "execution_count": 28,
      "outputs": [
        {
          "output_type": "stream",
          "name": "stdout",
          "text": [
            "<class 'int'>\n"
          ]
        }
      ]
    },
    {
      "cell_type": "code",
      "source": [
        "# All three of these variables will hold an object of the datatype \"int\" with the value 70\n",
        "var_1 = int(70)\n",
        "var_2 = int(70.6)   # Remember that this does not work like round() function\n",
        "var_3 = int(\"70\")\n",
        "\n",
        "print(var_1, var_2, var_3)"
      ],
      "metadata": {
        "id": "jD9VyKi7xYIp",
        "colab": {
          "base_uri": "https://localhost:8080/"
        },
        "outputId": "c9e6c516-2514-448c-c39b-7ccb27188c63"
      },
      "execution_count": 29,
      "outputs": [
        {
          "output_type": "stream",
          "name": "stdout",
          "text": [
            "70 70 70\n"
          ]
        }
      ]
    },
    {
      "cell_type": "markdown",
      "source": [
        "## Operators"
      ],
      "metadata": {
        "id": "49YSB2qBy2gg"
      }
    },
    {
      "cell_type": "code",
      "source": [
        "# Arithmetic Operators\n",
        "# -----------------\n",
        "# +  : addition\n",
        "# -  : subtraction\n",
        "# *  : multiplication\n",
        "# /  : division\n",
        "# %  : modulus\n",
        "# ** : exponentiation\n",
        "# // : floor division\n",
        "# -----------------\n",
        "\n",
        "var_1 = 3 + 8\n",
        "var_2 = 5\n",
        "var_3 = var_1 + var_2\n",
        "print(var_3)\n",
        "\n",
        "var_3 -= 5 # Equivalent to `var_3 = var_3 - 5`\n",
        "print(var_3)"
      ],
      "metadata": {
        "colab": {
          "base_uri": "https://localhost:8080/"
        },
        "id": "lhBpF5Yl0FQd",
        "outputId": "f99a2f55-a747-4843-f524-6c6f3df7abb0"
      },
      "execution_count": 30,
      "outputs": [
        {
          "output_type": "stream",
          "name": "stdout",
          "text": [
            "16\n",
            "11\n"
          ]
        }
      ]
    },
    {
      "cell_type": "code",
      "source": [
        "# Comparison Operators\n",
        "# -----------------\n",
        "# <  : less than\n",
        "# <= : less than or equal to\n",
        "# >  : greater than\n",
        "# >= : greater than or equal to\n",
        "# == : equal\n",
        "# != : not equal\n",
        "# -----------------\n",
        "\n",
        "result_bool = 6 < 23\n",
        "print(result_bool)"
      ],
      "metadata": {
        "colab": {
          "base_uri": "https://localhost:8080/"
        },
        "id": "nkSYvubA5500",
        "outputId": "fa42e248-1c96-4249-cc4e-1e631d0c8c7d"
      },
      "execution_count": 31,
      "outputs": [
        {
          "output_type": "stream",
          "name": "stdout",
          "text": [
            "True\n"
          ]
        }
      ]
    },
    {
      "cell_type": "markdown",
      "source": [
        "# Short Quiz:\n",
        "\n",
        "\n",
        "What will be the output of the following"
      ],
      "metadata": {
        "id": "9dPWFhKPk-RF"
      }
    },
    {
      "cell_type": "code",
      "source": [
        "a = 30\n",
        "b = 20\n",
        "c = -1\n",
        "d = 3\n"
      ],
      "metadata": {
        "id": "C62uLvAnlFhC"
      },
      "execution_count": 32,
      "outputs": []
    },
    {
      "cell_type": "code",
      "source": [
        "print(a/d+b*c)"
      ],
      "metadata": {
        "colab": {
          "base_uri": "https://localhost:8080/"
        },
        "id": "WAXT78sflFoB",
        "outputId": "fbb24920-3fdf-4a0b-d22b-30719662bf0b"
      },
      "execution_count": 33,
      "outputs": [
        {
          "output_type": "stream",
          "name": "stdout",
          "text": [
            "-10.0\n"
          ]
        }
      ]
    },
    {
      "cell_type": "code",
      "source": [
        "print(b*c%d)"
      ],
      "metadata": {
        "colab": {
          "base_uri": "https://localhost:8080/"
        },
        "id": "rgHZuB_ylFsT",
        "outputId": "0d041bdb-80f6-4d09-f19b-2954d51930b5"
      },
      "execution_count": 34,
      "outputs": [
        {
          "output_type": "stream",
          "name": "stdout",
          "text": [
            "1\n"
          ]
        }
      ]
    },
    {
      "cell_type": "code",
      "source": [
        "print(a/b < b/c)"
      ],
      "metadata": {
        "colab": {
          "base_uri": "https://localhost:8080/"
        },
        "id": "c2ljXfwBlV8H",
        "outputId": "7a70070b-9e73-4b2b-d953-3feb4b0538b6"
      },
      "execution_count": 35,
      "outputs": [
        {
          "output_type": "stream",
          "name": "stdout",
          "text": [
            "False\n"
          ]
        }
      ]
    },
    {
      "cell_type": "markdown",
      "source": [
        "## Strings and String Formatting"
      ],
      "metadata": {
        "id": "miKzZSP8yxZJ"
      }
    },
    {
      "cell_type": "code",
      "source": [
        "my_string = \"Hello\" + \" World!\" # Notice the space in the string literal\n",
        "print(my_string)\n",
        "\n",
        "my_introduction = \"Hello, I am x years old!\"\n",
        "\n",
        "my_age = 25\n",
        "my_introduction = f\"I am {my_age} years old!\"\n",
        "print(my_introduction)\n",
        "\n",
        "tutorial_left = 2.6625\n",
        "time_left_string = f\"There are {tutorial_left:.2f} hours left in this tutorial.\"\n",
        "print(time_left_string)\n",
        "\n",
        "print('----')\n",
        "line_string = \"\"\"\n",
        "\n",
        "This is a big string with a line at the end\n",
        "\n",
        "\n",
        "\"\"\"\n",
        "print(\"String before formatting:\", line_string)\n",
        "print(\"String after stripping:\", line_string.strip())\n",
        "\n",
        "# Optional: Check out the format() method for strings. It is more preferable than f-strings in a few cases"
      ],
      "metadata": {
        "colab": {
          "base_uri": "https://localhost:8080/"
        },
        "id": "zny75L_60Fqc",
        "outputId": "16a5c23b-63bc-4625-f39f-b013a3ddc261"
      },
      "execution_count": 36,
      "outputs": [
        {
          "output_type": "stream",
          "name": "stdout",
          "text": [
            "Hello World!\n",
            "I am 25 years old!\n",
            "There are 2.66 hours left in this tutorial.\n",
            "----\n",
            "String before formatting: \n",
            "\n",
            "This is a big string with a line at the end\n",
            "\n",
            "\n",
            "\n",
            "String after stripping: This is a big string with a line at the end\n"
          ]
        }
      ]
    },
    {
      "cell_type": "markdown",
      "source": [
        "Short Quiz:\n",
        "\n",
        "\n",
        "How would you accomplish these:\n",
        "\n",
        "\n",
        "- \n",
        "\n",
        "-\n"
      ],
      "metadata": {
        "id": "_zOvUH0RluOh"
      }
    },
    {
      "cell_type": "code",
      "source": [
        "a = 1.23452384053\n",
        "# Print the above variable clipped off to 3 decimal places\n",
        "\n",
        "# Input:  a = 1.23452384053, b = 8.2433235, c = 9.3423445.\n",
        "\"\"\"\n",
        "\n",
        "Output:\n",
        "\n",
        "Number a is 1.23\n",
        "NUmber b is 8.24\n",
        "Number b is 9.34\n",
        "Sum of the numbers is ...(rounded to 3 places)\n",
        "\"\"\""
      ],
      "metadata": {
        "id": "DKmkAe3Ml3S0",
        "colab": {
          "base_uri": "https://localhost:8080/",
          "height": 35
        },
        "outputId": "471ed560-bdfe-4524-8c83-6cb9c7ab00e7"
      },
      "execution_count": 37,
      "outputs": [
        {
          "output_type": "execute_result",
          "data": {
            "text/plain": [
              "'\\n\\nOutput:\\n\\nNumber a is 1.23\\nNUmber b is 8.24\\nNumber b is 9.34\\nSum of the numbers is ...(rounded to 3 places)\\n'"
            ],
            "application/vnd.google.colaboratory.intrinsic+json": {
              "type": "string"
            }
          },
          "metadata": {},
          "execution_count": 37
        }
      ]
    },
    {
      "cell_type": "markdown",
      "source": [
        "\n",
        "## Collections - Lists, Tuples, and Sets"
      ],
      "metadata": {
        "id": "olKLqu5hy30W"
      }
    },
    {
      "cell_type": "code",
      "source": [
        "# Lists - ordered, mutable, allow duplicate values\n",
        "\n",
        "compounds = [\"Methane\", \"Ethane\", \"Acetylene\", \"Methane\"]\n",
        "print(type(compounds))\n",
        "\n",
        "print(f\"The first compound is {compounds[0]}.\")\n",
        "compounds[0] = \"Ethene\"\n",
        "print(f\"The first compound is now {compounds[0]}.\")\n",
        "print(f\"The last compound is {compounds[-1]}.\")\n",
        "\n",
        "compounds.append(\"Formic Acid\")\n",
        "print(f\"List after appending: {compounds}\")\n",
        "\n",
        "compounds.insert(2, \"Propane\")\n",
        "print(f\"List after inserting at index: {compounds}\")\n",
        "\n",
        "compounds.remove(\"Formic Acid\")\n",
        "print(f\"List after removing: {compounds}\")\n",
        "\n",
        "compounds.pop(2)\n",
        "print(f\"List after removing element at index: {compounds}\")\n",
        "\n",
        "print()\n",
        "\n",
        "# Some important List operations\n",
        "print(f\"We have {len(compounds)} compounds.\") # len() function returns the number of items a list has\n",
        "\n",
        "print(\"Looping through all compounds\")\n",
        "for compound in compounds: # Loop through the items in the list\n",
        "  print(compound)\n",
        "\n",
        "print()\n",
        "\n",
        "# List Slicing\n",
        "print(f\"The first 3 compounds are {compounds[:3]}.\")\n",
        "\n",
        "print()\n",
        "\n",
        "compounds.sort()\n",
        "print(f\"List after sorting: {compounds}\")\n",
        "\n",
        "print(f\"All the compounds are: {','.join(compounds)}.\")\n",
        "\n",
        "compounds.clear()\n",
        "print(f\"List after clearing: {compounds}\")"
      ],
      "metadata": {
        "colab": {
          "base_uri": "https://localhost:8080/"
        },
        "id": "6BEFmifHy8za",
        "outputId": "86d27fc8-9901-44ae-83bc-423f39b665d9"
      },
      "execution_count": 38,
      "outputs": [
        {
          "output_type": "stream",
          "name": "stdout",
          "text": [
            "<class 'list'>\n",
            "The first compound is Methane.\n",
            "The first compound is now Ethene.\n",
            "The last compound is Methane.\n",
            "List after appending: ['Ethene', 'Ethane', 'Acetylene', 'Methane', 'Formic Acid']\n",
            "List after inserting at index: ['Ethene', 'Ethane', 'Propane', 'Acetylene', 'Methane', 'Formic Acid']\n",
            "List after removing: ['Ethene', 'Ethane', 'Propane', 'Acetylene', 'Methane']\n",
            "List after removing element at index: ['Ethene', 'Ethane', 'Acetylene', 'Methane']\n",
            "\n",
            "We have 4 compounds.\n",
            "Looping through all compounds\n",
            "Ethene\n",
            "Ethane\n",
            "Acetylene\n",
            "Methane\n",
            "\n",
            "The first 3 compounds are ['Ethene', 'Ethane', 'Acetylene'].\n",
            "\n",
            "List after sorting: ['Acetylene', 'Ethane', 'Ethene', 'Methane']\n",
            "All the compounds are: Acetylene,Ethane,Ethene,Methane.\n",
            "List after clearing: []\n"
          ]
        }
      ]
    },
    {
      "cell_type": "markdown",
      "source": [
        "## Short Quiz"
      ],
      "metadata": {
        "id": "iP4kF-DCteuT"
      }
    },
    {
      "cell_type": "code",
      "source": [
        "\"\"\"\n",
        "1. Define a list of unique numbers, and delete the smallest number from the list. \n",
        "2. Define a list of unique random numbers, and retrieve the largest number. Append, number+1 to the list \n",
        "3. Get the median of a list of numbers from a list. \n",
        "\n",
        "\"\"\""
      ],
      "metadata": {
        "id": "lmSfj9Q_HmIP",
        "colab": {
          "base_uri": "https://localhost:8080/",
          "height": 53
        },
        "outputId": "00e620d7-98ab-4d16-b642-1734f26596d4"
      },
      "execution_count": 39,
      "outputs": [
        {
          "output_type": "execute_result",
          "data": {
            "text/plain": [
              "'\\n1. Define a list of unique numbers, and delete the smallest number from the list. \\n2. Define a list of unique random numbers, and retrieve the largest number. Append, number+1 to the list \\n3. Get the median of a list of numbers from a list. \\n\\n'"
            ],
            "application/vnd.google.colaboratory.intrinsic+json": {
              "type": "string"
            }
          },
          "metadata": {},
          "execution_count": 39
        }
      ]
    },
    {
      "cell_type": "code",
      "source": [
        "# Tuples - ordered, immmutable, allow duplicate values\n",
        "\n",
        "compounds = (\"Methane\", \"Ethane\", \"Acetylene\")\n",
        "print(type(compounds))\n",
        "\n",
        "print(f\"The first compound is {compounds[0]}.\")\n",
        "print(f\"The last compound is {compounds[-1]}.\")\n",
        "compounds = list(compounds)\n",
        "print(type(compounds))\n",
        "compounds[0] = \"Ethene\" # This will not work since you cannot change values in a tuple\n",
        "print(f\"The first compound is {compounds[0]}.\")\n",
        "print(f\"The last compound is {compounds[-1]}.\")"
      ],
      "metadata": {
        "colab": {
          "base_uri": "https://localhost:8080/"
        },
        "id": "DK2s-baAGaQU",
        "outputId": "0fc6242a-5f15-4846-fce2-d1fb50137b56"
      },
      "execution_count": 40,
      "outputs": [
        {
          "output_type": "stream",
          "name": "stdout",
          "text": [
            "<class 'tuple'>\n",
            "The first compound is Methane.\n",
            "The last compound is Acetylene.\n",
            "<class 'list'>\n",
            "The first compound is Ethene.\n",
            "The last compound is Acetylene.\n"
          ]
        }
      ]
    },
    {
      "cell_type": "code",
      "source": [
        "# Sets - unordered, immutable (individual entries), do not allow duplicate values\n",
        "\n",
        "empty_set = set()\n",
        "print(empty_set)\n",
        "\n",
        "compounds = {\"Methane\", \"Ethane\", \"Acetylene\", \"Methane\"}\n",
        "print(compounds, type(compounds))\n",
        "\n",
        "compounds.add(\"Formic Acid\")\n",
        "print(f\"Set after addition: {compounds}\")\n",
        "\n",
        "compounds.add(\"Formic Acid\")\n",
        "print(f\"Set after attempted addition: {compounds}\")"
      ],
      "metadata": {
        "colab": {
          "base_uri": "https://localhost:8080/"
        },
        "id": "5MoVLiz5IKor",
        "outputId": "3b2a90c5-6af4-4808-8764-0a6a806311f7"
      },
      "execution_count": 41,
      "outputs": [
        {
          "output_type": "stream",
          "name": "stdout",
          "text": [
            "set()\n",
            "{'Methane', 'Acetylene', 'Ethane'} <class 'set'>\n",
            "Set after addition: {'Methane', 'Acetylene', 'Ethane', 'Formic Acid'}\n",
            "Set after attempted addition: {'Methane', 'Acetylene', 'Ethane', 'Formic Acid'}\n"
          ]
        }
      ]
    },
    {
      "cell_type": "markdown",
      "source": [
        "## Collections - Dictionaries"
      ],
      "metadata": {
        "id": "HbDVym4Vy-WH"
      }
    },
    {
      "cell_type": "code",
      "source": [
        "# Dictionaries - ordered, mutable, do not allow duplicate values\n",
        "\n",
        "element = {\n",
        "    \"symbol\": \"C\",\n",
        "    \"atomic_number\": 6,\n",
        "    }\n",
        "\n",
        "print(type(element))\n",
        "print(f\"The symbol of the element is: {element['symbol']}\")\n",
        "\n",
        "print()\n",
        "\n",
        "print(f\"The keys of the dictionary are: {element.keys()}\")\n",
        "print(f\"The values of the dictionary are: {element.values()}\")"
      ],
      "metadata": {
        "colab": {
          "base_uri": "https://localhost:8080/"
        },
        "id": "CNaGej-E0Gmz",
        "outputId": "a0c60a0a-a2f7-4de4-8450-6be29ed065d2"
      },
      "execution_count": 42,
      "outputs": [
        {
          "output_type": "stream",
          "name": "stdout",
          "text": [
            "<class 'dict'>\n",
            "The symbol of the element is: C\n",
            "\n",
            "The keys of the dictionary are: dict_keys(['symbol', 'atomic_number'])\n",
            "The values of the dictionary are: dict_values(['C', 6])\n"
          ]
        }
      ]
    },
    {
      "cell_type": "code",
      "source": [
        "## Short Quiz"
      ],
      "metadata": {
        "id": "eEU8cRK5If-8"
      },
      "execution_count": 43,
      "outputs": []
    },
    {
      "cell_type": "code",
      "source": [
        "\"\"\"\n",
        "1. Given a set, construct a map from element to index, and index to element\n",
        "\n",
        "\"\"\""
      ],
      "metadata": {
        "id": "qokxGpROImsq",
        "colab": {
          "base_uri": "https://localhost:8080/",
          "height": 35
        },
        "outputId": "5be4a583-2379-4489-fb58-5ee942e329c3"
      },
      "execution_count": 44,
      "outputs": [
        {
          "output_type": "execute_result",
          "data": {
            "text/plain": [
              "'\\n1. Given a set, construct a map from element to index, and index to element\\n\\n'"
            ],
            "application/vnd.google.colaboratory.intrinsic+json": {
              "type": "string"
            }
          },
          "metadata": {},
          "execution_count": 44
        }
      ]
    },
    {
      "cell_type": "markdown",
      "source": [
        "\n",
        "\n",
        "```\n",
        "# This is formatted as code\n",
        "```\n",
        "\n",
        "## Conditional Statements"
      ],
      "metadata": {
        "id": "n81VA6qfzLxb"
      }
    },
    {
      "cell_type": "code",
      "source": [
        "var_1 = 5\n",
        "var_2 = 10\n",
        "\n",
        "if var_1 < var_2 :\n",
        "  print(f\"The first variable({var_1}) is less than the second variable({var_2})\")\n",
        "elif var_1 == var_2:\n",
        "  print(f\"The first variable({var_1}) is equal to the second variable({var_2})\")\n",
        "else:\n",
        "  print(f\"The first variable({var_1}) is greater than the second variable({var_2})\")\n",
        "\n",
        "print()\n",
        "\n",
        "# Logical operators like `and` and `or` combine conditional statements\n",
        "if var_1 < var_2 and var_1 == 5:\n",
        "  print(f\"The first variable({var_1}) is less than the second variable({var_2}) and the first variable is equal to 5\")\n",
        "\n",
        "# Nested if loops\n"
      ],
      "metadata": {
        "colab": {
          "base_uri": "https://localhost:8080/"
        },
        "id": "9QS7dzEQ0G6_",
        "outputId": "478bb519-2e7e-4349-e1db-dfd27e7ec581"
      },
      "execution_count": 45,
      "outputs": [
        {
          "output_type": "stream",
          "name": "stdout",
          "text": [
            "The first variable(5) is less than the second variable(10)\n",
            "\n",
            "The first variable(5) is less than the second variable(10) and the first variable is equal to 5\n"
          ]
        }
      ]
    },
    {
      "cell_type": "markdown",
      "source": [
        "## Short Quiz\n",
        "\n"
      ],
      "metadata": {
        "id": "b1bAkmiTI0Fx"
      }
    },
    {
      "cell_type": "code",
      "source": [
        "\"\"\"\n",
        "\n",
        "What is the output of the following:\n",
        "\n",
        "a = 5, b = 10, c = 15\n",
        "\n",
        "result = (a+b is c and a > b)\n",
        "\n",
        "print(result)\n",
        "\n",
        "\n",
        "\"\"\""
      ],
      "metadata": {
        "id": "DF_LhIhpI15n",
        "colab": {
          "base_uri": "https://localhost:8080/",
          "height": 35
        },
        "outputId": "33099d94-903a-4a60-82a9-24bbcf8b20a2"
      },
      "execution_count": 46,
      "outputs": [
        {
          "output_type": "execute_result",
          "data": {
            "text/plain": [
              "'\\n\\nWhat is the output of the following:\\n\\na = 5, b = 10, c = 15\\n\\nresult = (a+b is c and a > b)\\n\\nprint(result)\\n\\n\\n'"
            ],
            "application/vnd.google.colaboratory.intrinsic+json": {
              "type": "string"
            }
          },
          "metadata": {},
          "execution_count": 46
        }
      ]
    },
    {
      "cell_type": "markdown",
      "source": [
        "## Loops"
      ],
      "metadata": {
        "id": "6jiEAu4zzWi0"
      }
    },
    {
      "cell_type": "code",
      "source": [
        "# A while-loop runs as long as a conditional statement (or multiple combined statements) are true\n",
        "atomic_num = 1\n",
        "while atomic_num < 10: # This while-loop runs as long as `atomic_num` is less than 10\n",
        "  print(atomic_num)\n",
        "  atomic_num += 1\n",
        "\n",
        "print()\n",
        "\n",
        "print(\"While loop with break, continue statements\")\n",
        "atomic_num = 0\n",
        "while atomic_num < 10: # This while-loop runs as long as `atomic_num` is less than 10\n",
        "  if atomic_num == 7:\n",
        "    break              # You can break the while loop even when the original condition is true\n",
        "\n",
        "  atomic_num += 1\n",
        "  if atomic_num == 5:\n",
        "    continue           # You can skip the remaining part of the code in the while-loop\n",
        "\n",
        "  print(atomic_num)\n",
        "\n"
      ],
      "metadata": {
        "colab": {
          "base_uri": "https://localhost:8080/"
        },
        "id": "n-1VY2qX0HWq",
        "outputId": "bcd00818-911b-4f25-ab97-56486bce866c"
      },
      "execution_count": 47,
      "outputs": [
        {
          "output_type": "stream",
          "name": "stdout",
          "text": [
            "1\n",
            "2\n",
            "3\n",
            "4\n",
            "5\n",
            "6\n",
            "7\n",
            "8\n",
            "9\n",
            "\n",
            "While loop with break, continue statements\n",
            "1\n",
            "2\n",
            "3\n",
            "4\n",
            "6\n",
            "7\n"
          ]
        }
      ]
    },
    {
      "cell_type": "code",
      "source": [
        "# a for-loop is used to iterate over any sequence or collection. This is different from the `for` keyword in programming languages like C/C++\n",
        "\n",
        "compounds = [\"Methane\", \"Ethane\", \"Acetylene\", \"Methane\"]\n",
        "for compound in compounds:\n",
        "  print(compound)\n",
        "\n",
        "print()\n",
        "for letter in \"AI4DD\":\n",
        "  if letter == '4':\n",
        "    continue\n",
        "  print(letter)\n",
        "\n",
        "print()\n",
        "print(\"For loop with range, break, continue statements\")\n",
        "for atomic_num in range(10): # This for-loop iterates `atomic_num` through all the elements in `range(10)`\n",
        "  if atomic_num == 7:\n",
        "    break              # You can break the for loop even when the original condition is true\n",
        "\n",
        "  atomic_num += 1\n",
        "  if atomic_num == 5:\n",
        "    continue           # You can skip the remaining part of the code in the for-loop\n",
        "\n",
        "  print(atomic_num)"
      ],
      "metadata": {
        "colab": {
          "base_uri": "https://localhost:8080/"
        },
        "id": "dxKML9DHQHrb",
        "outputId": "3defd606-5ea9-423f-d0a5-1d77d4f3fdc4"
      },
      "execution_count": 48,
      "outputs": [
        {
          "output_type": "stream",
          "name": "stdout",
          "text": [
            "Methane\n",
            "Ethane\n",
            "Acetylene\n",
            "Methane\n",
            "\n",
            "A\n",
            "I\n",
            "D\n",
            "D\n",
            "\n",
            "For loop with range, break, continue statements\n",
            "1\n",
            "2\n",
            "3\n",
            "4\n",
            "6\n",
            "7\n"
          ]
        }
      ]
    },
    {
      "cell_type": "code",
      "source": [
        "# Task: Write a loop to print the sum of first N natural numbers\n",
        "\n",
        "# n = 5; Output = 15"
      ],
      "metadata": {
        "id": "EYBvJL0ytkM4"
      },
      "execution_count": 49,
      "outputs": []
    },
    {
      "cell_type": "code",
      "source": [
        "# Task: Write a loop to print the product of first N negative numbers\n",
        "\n",
        "# n = 5; Output = -120"
      ],
      "metadata": {
        "id": "rmOIppfUt0NZ"
      },
      "execution_count": 50,
      "outputs": []
    },
    {
      "cell_type": "code",
      "source": [
        "# Task: Print the following patterns with any loop(s) of your choice\n",
        "\n",
        "\"\"\"\n",
        "1\n",
        "12\n",
        "123\n",
        "1234\n",
        "12345\n",
        "\"\"\"\n",
        "\n"
      ],
      "metadata": {
        "colab": {
          "base_uri": "https://localhost:8080/",
          "height": 35
        },
        "id": "yi_3JKoYQIeZ",
        "outputId": "922682ac-2611-4de0-abb5-8b3b772f21bc"
      },
      "execution_count": 51,
      "outputs": [
        {
          "output_type": "execute_result",
          "data": {
            "text/plain": [
              "'\\n1\\n12\\n123\\n1234\\n12345\\n'"
            ],
            "application/vnd.google.colaboratory.intrinsic+json": {
              "type": "string"
            }
          },
          "metadata": {},
          "execution_count": 51
        }
      ]
    },
    {
      "cell_type": "markdown",
      "source": [
        "## Functions"
      ],
      "metadata": {
        "id": "atM5u9UOzbuh"
      }
    },
    {
      "cell_type": "code",
      "source": [
        "def elaborate_element():\n",
        "  print(\"This is a line from a function\")\n",
        "\n",
        "elaborate_element()"
      ],
      "metadata": {
        "colab": {
          "base_uri": "https://localhost:8080/"
        },
        "id": "xeuWYdM-yzGJ",
        "outputId": "7c2e7a3d-319d-4f78-ac1e-c79fb3233df1"
      },
      "execution_count": 52,
      "outputs": [
        {
          "output_type": "stream",
          "name": "stdout",
          "text": [
            "This is a line from a function\n"
          ]
        }
      ]
    },
    {
      "cell_type": "code",
      "source": [
        "def elaborate_element(elem_name, atomic_num):\n",
        "  print(f\"The element {elem_name} has the atomic number {atomic_num}.\")\n",
        "\n",
        "elaborate_element(\"H\", 1)\n",
        "elaborate_element(\"He\", 2)"
      ],
      "metadata": {
        "colab": {
          "base_uri": "https://localhost:8080/"
        },
        "id": "cwkHHYpBSM57",
        "outputId": "b420a37a-fae0-4ef7-8bfc-5ca914e442a0"
      },
      "execution_count": 53,
      "outputs": [
        {
          "output_type": "stream",
          "name": "stdout",
          "text": [
            "The element H has the atomic number 1.\n",
            "The element He has the atomic number 2.\n"
          ]
        }
      ]
    },
    {
      "cell_type": "code",
      "source": [
        "def elaborate_element(elem_name, atomic_num):\n",
        "  print(f\"The element {elem_name} has the atomic number {atomic_num}.\")\n",
        "\n",
        "elaborate_element(elem_name = \"H\", atomic_num = 1)"
      ],
      "metadata": {
        "colab": {
          "base_uri": "https://localhost:8080/"
        },
        "id": "K7QsLGSlUM_G",
        "outputId": "b324b72a-477d-402f-e21e-ccd6e70a5091"
      },
      "execution_count": 54,
      "outputs": [
        {
          "output_type": "stream",
          "name": "stdout",
          "text": [
            "The element H has the atomic number 1.\n"
          ]
        }
      ]
    },
    {
      "cell_type": "code",
      "source": [
        "def element_properties(*properties):\n",
        "  print(\"The properties of the element are:\")\n",
        "  for each_property in properties:\n",
        "    print(each_property)\n",
        "\n",
        "element_properties(1, \"H\", \"Non Metal\")"
      ],
      "metadata": {
        "colab": {
          "base_uri": "https://localhost:8080/"
        },
        "id": "t3uYYUHlUllc",
        "outputId": "a4330cde-4611-4d9e-bb1a-1b53c9f8d7c2"
      },
      "execution_count": 55,
      "outputs": [
        {
          "output_type": "stream",
          "name": "stdout",
          "text": [
            "The properties of the element are:\n",
            "1\n",
            "H\n",
            "Non Metal\n"
          ]
        }
      ]
    },
    {
      "cell_type": "code",
      "source": [
        "# Task: \n",
        "\n",
        "\"\"\"\n",
        "\n",
        "Write a function named \"calculator\" that takes in 2 numbers and an operation as a string, and returns the result. \n",
        "Eg:\n",
        "\n",
        "a = calculator(1,2,\"add\")\n",
        "b = calculator(3,2,\"subtract\")\n",
        "c = calculator(3,2,\"multiply\")\n",
        "d = calculator(3,2,\"divide\")\n",
        "\n",
        "\"\"\""
      ],
      "metadata": {
        "id": "PZhc5HKduOcw",
        "colab": {
          "base_uri": "https://localhost:8080/",
          "height": 53
        },
        "outputId": "e674378d-f9b1-45fe-968b-97f63017dbd1"
      },
      "execution_count": 56,
      "outputs": [
        {
          "output_type": "execute_result",
          "data": {
            "text/plain": [
              "'\\n\\nWrite a function named \"calculator\" that takes in 2 numbers and an operation as a string, and returns the result. \\nEg:\\n\\na = calculator(1,2,\"add\")\\nb = calculator(3,2,\"subtract\")\\nc = calculator(3,2,\"multiply\")\\nd = calculator(3,2,\"divide\")\\n\\n'"
            ],
            "application/vnd.google.colaboratory.intrinsic+json": {
              "type": "string"
            }
          },
          "metadata": {},
          "execution_count": 56
        }
      ]
    },
    {
      "cell_type": "code",
      "source": [
        "# Task: \n",
        "\n",
        "\"\"\"\n",
        "\n",
        "Write a function that takes in a number and returns a factorial of the number.\n",
        "Eg:\n",
        "\n",
        "result = factorial(5)\n",
        "\n",
        "Output: 120 (1*2*3*4*5)\n",
        "\n",
        "\"\"\""
      ],
      "metadata": {
        "id": "C0X0A0WIKbG7",
        "colab": {
          "base_uri": "https://localhost:8080/",
          "height": 35
        },
        "outputId": "72ffcd1a-4ef7-4406-8f4e-bcd386335990"
      },
      "execution_count": 57,
      "outputs": [
        {
          "output_type": "execute_result",
          "data": {
            "text/plain": [
              "'\\n\\nWrite a function that takes in a number and returns a factorial of the number.\\nEg:\\n\\nresult = factorial(5)\\n\\nOutput: 120 (1*2*3*4*5)\\n\\n'"
            ],
            "application/vnd.google.colaboratory.intrinsic+json": {
              "type": "string"
            }
          },
          "metadata": {},
          "execution_count": 57
        }
      ]
    },
    {
      "cell_type": "markdown",
      "source": [
        "## Scopes"
      ],
      "metadata": {
        "id": "Mx3hOrXLG5CS"
      }
    },
    {
      "cell_type": "code",
      "source": [
        "x = 300\n",
        "\n",
        "def myfunc():\n",
        "  x = 200\n",
        "  print(x)\n",
        "\n",
        "myfunc()\n",
        "\n",
        "print(x)"
      ],
      "metadata": {
        "colab": {
          "base_uri": "https://localhost:8080/"
        },
        "id": "VA2MqenQFQtb",
        "outputId": "12e64f61-b132-453b-f176-8ded1aa31e7c"
      },
      "execution_count": 58,
      "outputs": [
        {
          "output_type": "stream",
          "name": "stdout",
          "text": [
            "200\n",
            "300\n"
          ]
        }
      ]
    },
    {
      "cell_type": "code",
      "source": [
        "def myfunc():\n",
        "  global x\n",
        "  x = 500\n",
        "\n",
        "myfunc()\n",
        "\n",
        "print(x)"
      ],
      "metadata": {
        "colab": {
          "base_uri": "https://localhost:8080/"
        },
        "id": "ofZd44_DHDV6",
        "outputId": "e5dd5916-1292-4359-c614-fe2ade0ec1dd"
      },
      "execution_count": 59,
      "outputs": [
        {
          "output_type": "stream",
          "name": "stdout",
          "text": [
            "500\n"
          ]
        }
      ]
    },
    {
      "cell_type": "markdown",
      "source": [
        "## Lambda Functions and Enumerate in python\n",
        "\n",
        "Lambda functions are anonymous functions which are often used for callbacks and passing functions as argument"
      ],
      "metadata": {
        "id": "9J3IblqIHb0D"
      }
    },
    {
      "cell_type": "code",
      "source": [
        "fun1 = lambda a : a*a\n",
        "fun1(5)"
      ],
      "metadata": {
        "colab": {
          "base_uri": "https://localhost:8080/"
        },
        "id": "FftfjpkNHHI1",
        "outputId": "3a697478-2e64-45a4-a094-29db0780de25"
      },
      "execution_count": 60,
      "outputs": [
        {
          "output_type": "execute_result",
          "data": {
            "text/plain": [
              "25"
            ]
          },
          "metadata": {},
          "execution_count": 60
        }
      ]
    },
    {
      "cell_type": "code",
      "source": [
        "def functionMaker(m):\n",
        "  return lambda x: x*m"
      ],
      "metadata": {
        "id": "KK6Wa8gVIAgh"
      },
      "execution_count": 61,
      "outputs": []
    },
    {
      "cell_type": "code",
      "source": [
        "multipliers = [functionMaker(i) for i in range(2, 6)] "
      ],
      "metadata": {
        "id": "PORjiA-1IILr"
      },
      "execution_count": 62,
      "outputs": []
    },
    {
      "cell_type": "code",
      "source": [
        "for fun in multipliers:\n",
        "  print(fun(2))"
      ],
      "metadata": {
        "colab": {
          "base_uri": "https://localhost:8080/"
        },
        "id": "KBPMWMo3IPcm",
        "outputId": "f3178acd-95e4-447c-c036-9a31b269d9c4"
      },
      "execution_count": 63,
      "outputs": [
        {
          "output_type": "stream",
          "name": "stdout",
          "text": [
            "4\n",
            "6\n",
            "8\n",
            "10\n"
          ]
        }
      ]
    },
    {
      "cell_type": "code",
      "source": [
        "# We might also need to know which index of the array of functions is actually operating on the \n",
        "# input value. For that we can use the enumerate function"
      ],
      "metadata": {
        "id": "27QUH0MYJQiD"
      },
      "execution_count": 64,
      "outputs": []
    },
    {
      "cell_type": "code",
      "source": [
        "for idx, fun in enumerate(multipliers):\n",
        "  print(\"Function number {} outputs value {} after operating on {}\".format(idx, fun(2), 2))"
      ],
      "metadata": {
        "colab": {
          "base_uri": "https://localhost:8080/"
        },
        "id": "rXGBtwbjJnS1",
        "outputId": "a68df0c0-f291-4521-f1d1-49f346bfe652"
      },
      "execution_count": 65,
      "outputs": [
        {
          "output_type": "stream",
          "name": "stdout",
          "text": [
            "Function number 0 outputs value 4 after operating on 2\n",
            "Function number 1 outputs value 6 after operating on 2\n",
            "Function number 2 outputs value 8 after operating on 2\n",
            "Function number 3 outputs value 10 after operating on 2\n"
          ]
        }
      ]
    },
    {
      "cell_type": "markdown",
      "source": [
        "## Sorting using Keys"
      ],
      "metadata": {
        "id": "wTsZG6y5R4Ej"
      }
    },
    {
      "cell_type": "code",
      "source": [
        "import numpy as np\n",
        "my_array = []\n",
        "\n",
        "letters = [\"A\", \"B\", \"CG\", \"D\", \"5D\", \"9\"]\n",
        "\n",
        "for _ in range(25):\n",
        "  my_array.append((np.random.choice(letters), np.random.choice(9)))\n",
        "\n"
      ],
      "metadata": {
        "id": "p-ACTEXHOjl8"
      },
      "execution_count": 68,
      "outputs": []
    },
    {
      "cell_type": "code",
      "source": [
        "sorted(my_array)[:10]"
      ],
      "metadata": {
        "colab": {
          "base_uri": "https://localhost:8080/"
        },
        "id": "Gz8q44G7Q4Jr",
        "outputId": "a81ba726-6283-4c93-b3f7-437caabbee13"
      },
      "execution_count": 70,
      "outputs": [
        {
          "output_type": "execute_result",
          "data": {
            "text/plain": [
              "[('5D', 3),\n",
              " ('5D', 4),\n",
              " ('9', 6),\n",
              " ('9', 6),\n",
              " ('9', 7),\n",
              " ('9', 8),\n",
              " ('A', 4),\n",
              " ('A', 5),\n",
              " ('A', 6),\n",
              " ('B', 0)]"
            ]
          },
          "metadata": {},
          "execution_count": 70
        }
      ]
    },
    {
      "cell_type": "markdown",
      "source": [
        "## Giving key in such a way that preceding numbers have a smaller key value than those which are further away. \n",
        "\n",
        "We can query the ascii value of a string letter using the `ord()` method"
      ],
      "metadata": {
        "id": "g0XIpu83TGsr"
      }
    },
    {
      "cell_type": "code",
      "source": [
        "sorted(my_array, key=lambda x: 1000*len(x[0]) + ord(x[0][0]))[:10]"
      ],
      "metadata": {
        "colab": {
          "base_uri": "https://localhost:8080/"
        },
        "id": "Mze9DDlkRtzi",
        "outputId": "131f8acb-dcf6-465c-ea30-9bc713540afb"
      },
      "execution_count": 71,
      "outputs": [
        {
          "output_type": "execute_result",
          "data": {
            "text/plain": [
              "[('9', 7),\n",
              " ('9', 8),\n",
              " ('9', 6),\n",
              " ('9', 6),\n",
              " ('A', 4),\n",
              " ('A', 5),\n",
              " ('A', 6),\n",
              " ('B', 8),\n",
              " ('B', 1),\n",
              " ('B', 6)]"
            ]
          },
          "metadata": {},
          "execution_count": 71
        }
      ]
    },
    {
      "cell_type": "markdown",
      "source": [
        "## Exception Handling in python"
      ],
      "metadata": {
        "id": "85TW8iM-Tw85"
      }
    },
    {
      "cell_type": "code",
      "source": [
        "try:\n",
        "  f = open(\"This File dont exist. mp4\", \"rb\")\n",
        "except Exception as e:\n",
        "  print(\"We got the error : {}\".format(e))\n",
        "  print(e.__class__.__name__)\n",
        "else:\n",
        "  print(\"No error was found\")\n",
        "finally:\n",
        "  print(\"This gets executed regardless of the fact that exception gets raised or not\")"
      ],
      "metadata": {
        "colab": {
          "base_uri": "https://localhost:8080/"
        },
        "id": "9v4HLlxdSG4w",
        "outputId": "4f642956-9564-4aa4-9dc7-cb6a9d895ae5"
      },
      "execution_count": 72,
      "outputs": [
        {
          "output_type": "stream",
          "name": "stdout",
          "text": [
            "We got the error : [Errno 2] No such file or directory: 'This File dont exist. mp4'\n",
            "FileNotFoundError\n",
            "This gets executed regardless of the fact that exception gets raised or not\n"
          ]
        }
      ]
    },
    {
      "cell_type": "markdown",
      "source": [
        "## Classes, Objects and Inheritance"
      ],
      "metadata": {
        "id": "_pR6EMyj5gJ2"
      }
    },
    {
      "cell_type": "code",
      "source": [
        "class Polygon:\n",
        "\n",
        "  def __init__(self, num_sides : int):\n",
        "    self.n = num_sides\n",
        "    self.sides = [None] * self.n\n",
        "  \n",
        "  def set_sides(self, sides_array) -> None:\n",
        "    assert len(sides_array) == self.n, \"Number of sides not equal to that of the polygon\"\n",
        "    self.sides = sides_array\n",
        "\n",
        "  def get_sides(self) -> list:\n",
        "    return self.sides\n",
        "\n",
        "# Task: Raise an error if the input to the init of the function Polygon is\n",
        "# invalid i.e num_sides should be valid "
      ],
      "metadata": {
        "id": "hw0WfcXS5sdu"
      },
      "execution_count": 73,
      "outputs": []
    },
    {
      "cell_type": "code",
      "source": [
        "p1 = Polygon(5)\n",
        "p1.set_sides([2, 3, 4, 5, 6])\n",
        "#Goes Through\n",
        "\n",
        "\n",
        "p1.set_sides([1, 2, 3, 4, 5, 6])\n",
        "# Would throw an assertion error"
      ],
      "metadata": {
        "colab": {
          "base_uri": "https://localhost:8080/",
          "height": 338
        },
        "id": "yJBU8dtX8_j2",
        "outputId": "b683bc9b-0cd1-48cb-bb2f-6a1b65aba42b"
      },
      "execution_count": 75,
      "outputs": [
        {
          "output_type": "error",
          "ename": "AssertionError",
          "evalue": "ignored",
          "traceback": [
            "\u001b[0;31m---------------------------------------------------------------------------\u001b[0m",
            "\u001b[0;31mAssertionError\u001b[0m                            Traceback (most recent call last)",
            "\u001b[0;32m<ipython-input-75-38f12932e4e6>\u001b[0m in \u001b[0;36m<module>\u001b[0;34m()\u001b[0m\n\u001b[1;32m      4\u001b[0m \u001b[0;34m\u001b[0m\u001b[0m\n\u001b[1;32m      5\u001b[0m \u001b[0;34m\u001b[0m\u001b[0m\n\u001b[0;32m----> 6\u001b[0;31m \u001b[0mp1\u001b[0m\u001b[0;34m.\u001b[0m\u001b[0mset_sides\u001b[0m\u001b[0;34m(\u001b[0m\u001b[0;34m[\u001b[0m\u001b[0;36m1\u001b[0m\u001b[0;34m,\u001b[0m \u001b[0;36m2\u001b[0m\u001b[0;34m,\u001b[0m \u001b[0;36m3\u001b[0m\u001b[0;34m,\u001b[0m \u001b[0;36m4\u001b[0m\u001b[0;34m,\u001b[0m \u001b[0;36m5\u001b[0m\u001b[0;34m,\u001b[0m \u001b[0;36m6\u001b[0m\u001b[0;34m]\u001b[0m\u001b[0;34m)\u001b[0m\u001b[0;34m\u001b[0m\u001b[0;34m\u001b[0m\u001b[0m\n\u001b[0m\u001b[1;32m      7\u001b[0m \u001b[0;31m# Would throw an assertion error\u001b[0m\u001b[0;34m\u001b[0m\u001b[0;34m\u001b[0m\u001b[0;34m\u001b[0m\u001b[0m\n",
            "\u001b[0;32m<ipython-input-73-482877b048de>\u001b[0m in \u001b[0;36mset_sides\u001b[0;34m(self, sides_array)\u001b[0m\n\u001b[1;32m      6\u001b[0m \u001b[0;34m\u001b[0m\u001b[0m\n\u001b[1;32m      7\u001b[0m   \u001b[0;32mdef\u001b[0m \u001b[0mset_sides\u001b[0m\u001b[0;34m(\u001b[0m\u001b[0mself\u001b[0m\u001b[0;34m,\u001b[0m \u001b[0msides_array\u001b[0m\u001b[0;34m)\u001b[0m \u001b[0;34m->\u001b[0m \u001b[0;32mNone\u001b[0m\u001b[0;34m:\u001b[0m\u001b[0;34m\u001b[0m\u001b[0;34m\u001b[0m\u001b[0m\n\u001b[0;32m----> 8\u001b[0;31m     \u001b[0;32massert\u001b[0m \u001b[0mlen\u001b[0m\u001b[0;34m(\u001b[0m\u001b[0msides_array\u001b[0m\u001b[0;34m)\u001b[0m \u001b[0;34m==\u001b[0m \u001b[0mself\u001b[0m\u001b[0;34m.\u001b[0m\u001b[0mn\u001b[0m\u001b[0;34m,\u001b[0m \u001b[0;34m\"Number of sides not equal to that of the polygon\"\u001b[0m\u001b[0;34m\u001b[0m\u001b[0;34m\u001b[0m\u001b[0m\n\u001b[0m\u001b[1;32m      9\u001b[0m     \u001b[0mself\u001b[0m\u001b[0;34m.\u001b[0m\u001b[0msides\u001b[0m \u001b[0;34m=\u001b[0m \u001b[0msides_array\u001b[0m\u001b[0;34m\u001b[0m\u001b[0;34m\u001b[0m\u001b[0m\n\u001b[1;32m     10\u001b[0m \u001b[0;34m\u001b[0m\u001b[0m\n",
            "\u001b[0;31mAssertionError\u001b[0m: Number of sides not equal to that of the polygon"
          ]
        }
      ]
    },
    {
      "cell_type": "code",
      "source": [
        "class Triangle(Polygon):\n",
        "  def __init__(self):\n",
        "    super().__init__(3)\n",
        "  \n",
        "  def get_area(self) -> float:\n",
        "    a, b, c = self.sides\n",
        "    s = (a + b + c) / 2\n",
        "    area = (s*(s-a)*(s-b)*(s-c)) ** 0.5\n",
        "    return area"
      ],
      "metadata": {
        "id": "ASZcF_HG9Rp3"
      },
      "execution_count": 76,
      "outputs": []
    },
    {
      "cell_type": "code",
      "source": [
        "t1 = Triangle()\n",
        "t1.set_sides([3, 4, 5])\n",
        "print(\"The area of the triangle is: {}\".format(t1.get_area()))"
      ],
      "metadata": {
        "colab": {
          "base_uri": "https://localhost:8080/"
        },
        "id": "0STUArlL_NS9",
        "outputId": "cf4d063d-96a9-4d9b-8327-2b3453f08c08"
      },
      "execution_count": 77,
      "outputs": [
        {
          "output_type": "stream",
          "name": "stdout",
          "text": [
            "The area of the triangle is: 6.0\n"
          ]
        }
      ]
    },
    {
      "cell_type": "code",
      "source": [
        "class RegularPolygon(Polygon):\n",
        "  def __init__(self, n):\n",
        "    super().__init__(n)\n",
        "\n",
        "  def set_sides(self, l : float):\n",
        "    super().set_sides([l] * self.n)\n",
        "\n",
        "class EquilateralTriangle(Triangle, RegularPolygon):\n",
        "  def __init__(self):\n",
        "    super().__init__()"
      ],
      "metadata": {
        "id": "_hK05s53_vCH"
      },
      "execution_count": 78,
      "outputs": []
    },
    {
      "cell_type": "code",
      "source": [
        "e1 = EquilateralTriangle()\n",
        "e1.set_sides(3)"
      ],
      "metadata": {
        "id": "I2HxthPXDIyk"
      },
      "execution_count": 79,
      "outputs": []
    },
    {
      "cell_type": "code",
      "source": [
        "e1.get_area()"
      ],
      "metadata": {
        "colab": {
          "base_uri": "https://localhost:8080/"
        },
        "id": "j4L5u7fIDO4Q",
        "outputId": "be4de3e2-2002-40bd-ce49-6b9c3aff093a"
      },
      "execution_count": 80,
      "outputs": [
        {
          "output_type": "execute_result",
          "data": {
            "text/plain": [
              "3.897114317029974"
            ]
          },
          "metadata": {},
          "execution_count": 80
        }
      ]
    },
    {
      "cell_type": "code",
      "source": [
        "print(isinstance(e1, Polygon))\n",
        "print(isinstance(t1, RegularPolygon))\n",
        "print(issubclass(EquilateralTriangle, RegularPolygon))\n",
        "print(issubclass(RegularPolygon, Triangle))"
      ],
      "metadata": {
        "colab": {
          "base_uri": "https://localhost:8080/"
        },
        "id": "lsSJvQlFEzh1",
        "outputId": "22d0bdf6-a131-4967-8121-4d385e75578e"
      },
      "execution_count": 83,
      "outputs": [
        {
          "output_type": "stream",
          "name": "stdout",
          "text": [
            "True\n",
            "False\n",
            "True\n",
            "False\n"
          ]
        }
      ]
    },
    {
      "cell_type": "markdown",
      "source": [
        "## Using few of important method decorators:"
      ],
      "metadata": {
        "id": "noU7nDdDXIfk"
      }
    },
    {
      "cell_type": "code",
      "source": [
        "class Circle:\n",
        "    def __init__(self, radius):\n",
        "        self._radius = radius\n",
        "\n",
        "    @property\n",
        "    def radius(self):\n",
        "        \"\"\"Get value of radius\"\"\"\n",
        "        return self._radius\n",
        "\n",
        "    @radius.setter\n",
        "    def radius(self, value):\n",
        "        \"\"\"Set radius, raise error if negative\"\"\"\n",
        "        if value >= 0:\n",
        "            self._radius = value\n",
        "        else:\n",
        "            raise ValueError(\"Radius must be positive\")\n",
        "\n",
        "    @property\n",
        "    def area(self):\n",
        "        \"\"\"Calculate area inside circle\"\"\"\n",
        "        return self.pi() * self.radius**2\n",
        "\n",
        "    def cylinder_volume(self, height):\n",
        "        \"\"\"Calculate volume of cylinder with circle as base\"\"\"\n",
        "        return self.area * height\n",
        "\n",
        "    @classmethod\n",
        "    def unit_circle(cls):\n",
        "        \"\"\"Factory method creating a circle with radius 1\"\"\"\n",
        "        return cls(1)\n",
        "\n",
        "    @staticmethod\n",
        "    def pi():\n",
        "        \"\"\"Value of π, could use math.pi instead though\"\"\"\n",
        "        return 3.1415926535"
      ],
      "metadata": {
        "id": "A4zcydBIU7yQ"
      },
      "execution_count": 84,
      "outputs": []
    },
    {
      "cell_type": "code",
      "source": [
        "c = Circle(3)"
      ],
      "metadata": {
        "id": "MsDJ8JaqXaC5"
      },
      "execution_count": 85,
      "outputs": []
    },
    {
      "cell_type": "code",
      "source": [
        "print(c.radius)\n",
        "print(c.area)\n",
        "\n",
        "print(c.cylinder_volume(5))\n",
        "\n",
        "c.radius = c.pi()"
      ],
      "metadata": {
        "colab": {
          "base_uri": "https://localhost:8080/"
        },
        "id": "OdbU7KOYXcs6",
        "outputId": "6aa8370c-b6cd-4ee8-de63-3f434aa501d7"
      },
      "execution_count": 86,
      "outputs": [
        {
          "output_type": "stream",
          "name": "stdout",
          "text": [
            "3\n",
            "28.2743338815\n",
            "141.3716694075\n"
          ]
        }
      ]
    },
    {
      "cell_type": "code",
      "source": [
        "c2 = Circle.unit_circle()\n",
        "print(c2.pi())\n",
        "print(Circle.pi())"
      ],
      "metadata": {
        "colab": {
          "base_uri": "https://localhost:8080/"
        },
        "id": "_oqiGty2ZQkq",
        "outputId": "571aaaf3-2715-4495-c079-a048b5520733"
      },
      "execution_count": 87,
      "outputs": [
        {
          "output_type": "stream",
          "name": "stdout",
          "text": [
            "3.1415926535\n",
            "3.1415926535\n"
          ]
        }
      ]
    },
    {
      "cell_type": "markdown",
      "source": [
        "---\n"
      ],
      "metadata": {
        "id": "GI0QwDw3ZfR9"
      }
    },
    {
      "cell_type": "code",
      "source": [
        ""
      ],
      "metadata": {
        "id": "laTSrRH4Zg_A"
      },
      "execution_count": 87,
      "outputs": []
    },
    {
      "cell_type": "markdown",
      "source": [
        "# Homework exercises "
      ],
      "metadata": {
        "id": "E4O-UCS3KwsH"
      }
    },
    {
      "cell_type": "code",
      "source": [
        "\"\"\"\n",
        "\n",
        "Write a function, that takes a list of names names as input and returns a dictionary of rollnums:names in alphabetical order\n",
        "\n",
        "Eg: \n",
        "names = [\"sriram\",\"bhuvanesh\",\"animesh\",\"arihant\"]\n",
        "result = get_rollnums(names)\n",
        "print(result)\n",
        "\n",
        "Output:\n",
        "{1:\"animesh\",2:\"\"arihant\",3:\"bhuvanesh\",4:\"sriram\"}\n",
        "Insert your in this cell\n",
        "\n",
        "\"\"\"\n",
        "\n",
        "\n",
        "def get_rollnums(names):\n",
        "  result = {}\n",
        "\n",
        "  # Insert your code here\n",
        "\n",
        "  return result\n",
        "\n",
        "names = [\"sriram\",\"bhuvanesh\",\"animesh\",\"arihant\"]\n",
        "result = get_rollnums(names)\n",
        "print(result)\n",
        "\n"
      ],
      "metadata": {
        "colab": {
          "base_uri": "https://localhost:8080/"
        },
        "id": "CkAqGWgHKzD5",
        "outputId": "ee4325a1-9d05-47f6-92e4-c5cc2f34c5bd"
      },
      "execution_count": 88,
      "outputs": [
        {
          "output_type": "stream",
          "name": "stdout",
          "text": [
            "{}\n"
          ]
        }
      ]
    },
    {
      "cell_type": "code",
      "source": [
        "\"\"\"\n",
        "Take a smiles string as an input, and make a dictionary of Number of Carbon atoms, Number of oxygen atoms, Number of nitrogen atoms. Consider, both capital and small letters. \n",
        "\n",
        "Eg:\n",
        "\n",
        "input = \"OCCc1c(C)[n+](cs1)Cc2cnc(C)nc2N\"\n",
        "output = get_smile_stats(input)\n",
        "print(output)\n",
        "\n",
        "Output:\n",
        "\n",
        "{\"C\":12,\"O\":1,\"N\":4}\n",
        "\n",
        "\n",
        "\"\"\"\n",
        "\n",
        "\n",
        "def get_smile_stats(input):\n",
        "  result = {}\n",
        "\n",
        "  # Insert code here\n",
        "\n",
        "  return result\n",
        "\n",
        "\n",
        "input = \"OCCc1c(C)[n+](cs1)Cc2cnc(C)nc2N\"\n",
        "output = get_smile_stats(input)\n",
        "print(output)\n",
        "\n"
      ],
      "metadata": {
        "id": "9W6f_zfJL1ul",
        "colab": {
          "base_uri": "https://localhost:8080/"
        },
        "outputId": "157c8de4-f950-4b29-ebb5-c3f9d706b084"
      },
      "execution_count": 89,
      "outputs": [
        {
          "output_type": "stream",
          "name": "stdout",
          "text": [
            "{}\n"
          ]
        }
      ]
    }
  ]
}